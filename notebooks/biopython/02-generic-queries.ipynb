{
 "metadata": {
  "language_info": {
   "codemirror_mode": {
    "name": "ipython",
    "version": 3
   },
   "file_extension": ".py",
   "mimetype": "text/x-python",
   "name": "python",
   "nbconvert_exporter": "python",
   "pygments_lexer": "ipython3",
   "version": "3.8.8"
  },
  "orig_nbformat": 2,
  "kernelspec": {
   "name": "python3",
   "display_name": "Python 3",
   "language": "python"
  }
 },
 "nbformat": 4,
 "nbformat_minor": 2,
 "cells": [
  {
   "source": [
    "# Biopython-Entrez\n",
    "##  Functions for generic queries\n",
    "\n",
    "Notebook with functions that can turn queries into results for MongoDB and Pandas."
   ],
   "cell_type": "markdown",
   "metadata": {}
  },
  {
   "cell_type": "code",
   "execution_count": 3,
   "metadata": {},
   "outputs": [],
   "source": [
    "from Bio import Entrez\n",
    "import json\n",
    "from bs4 import BeautifulSoup as bs\n",
    "import lxml\n",
    "import json"
   ]
  },
  {
   "cell_type": "code",
   "execution_count": 4,
   "metadata": {},
   "outputs": [],
   "source": [
    "def pretty_print_json(json_):\n",
    "    print(json.dumps(json_, indent=4, sort_keys=True))"
   ]
  },
  {
   "source": [
    "## Query"
   ],
   "cell_type": "markdown",
   "metadata": {}
  },
  {
   "cell_type": "code",
   "execution_count": 46,
   "metadata": {},
   "outputs": [],
   "source": [
    "def entrez_search_pubmed(query,records_per_query=10,email=\"XXX@YYY.com\"):\n",
    "    from Bio import Entrez\n",
    "    Entrez.email = email\n",
    "    # Search\n",
    "    handle = Entrez.esearch(db=\"pubmed\",term=query, idtype=\"acc\")\n",
    "    record = Entrez.read(handle)\n",
    "    handle.close()\n",
    "    return record"
   ]
  },
  {
   "cell_type": "code",
   "execution_count": 47,
   "metadata": {},
   "outputs": [
    {
     "output_type": "execute_result",
     "data": {
      "text/plain": [
       "DictElement({'Count': '7', 'RetMax': '7', 'RetStart': '0', 'IdList': ['29569152', '28197643', '27848006', '26679436', '26659068', '26223424', '25466529'], 'TranslationSet': [], 'TranslationStack': [DictElement({'Term': 'kruse[All Fields]', 'Field': 'All Fields', 'Count': '6557', 'Explode': 'N'}, attributes={}), DictElement({'Term': 'eiken[All Fields]', 'Field': 'All Fields', 'Count': '1408', 'Explode': 'N'}, attributes={}), 'AND', DictElement({'Term': 'vestergaard[All Fields]', 'Field': 'All Fields', 'Count': '2384', 'Explode': 'N'}, attributes={}), 'AND', 'GROUP'], 'QueryTranslation': 'kruse[All Fields] AND eiken[All Fields] AND vestergaard[All Fields]'}, attributes={})"
      ]
     },
     "metadata": {},
     "execution_count": 47
    }
   ],
   "source": [
    "entrez_search_pubmed(query = \"kruse eiken vestergaard\",)"
   ]
  },
  {
   "source": [
    "## Summary"
   ],
   "cell_type": "markdown",
   "metadata": {}
  },
  {
   "cell_type": "code",
   "execution_count": 50,
   "metadata": {},
   "outputs": [],
   "source": [
    "def entrez_fetch_single_summary(uid):\n",
    "    from Bio import Entrez\n",
    "    handle = Entrez.esummary(db=\"pubmed\", id=uid)\n",
    "    record = Entrez.read(handle)\n",
    "    return record"
   ]
  },
  {
   "cell_type": "code",
   "execution_count": 51,
   "metadata": {},
   "outputs": [
    {
     "output_type": "execute_result",
     "data": {
      "text/plain": [
       "[DictElement({'Item': [], 'Id': '29569152', 'PubDate': '2018 Jun', 'EPubDate': '2018 Mar 22', 'Source': 'Osteoporos Int', 'AuthorList': ['Kruse C', 'Goemaere S', 'De Buyser S', 'Lapauw B', 'Eiken P', 'Vestergaard P'], 'LastAuthor': 'Vestergaard P', 'Title': 'Predicting mortality and incident immobility in older Belgian men by characteristics related to sarcopenia and frailty.', 'Volume': '29', 'Issue': '6', 'Pages': '1437-1445', 'LangList': ['English'], 'NlmUniqueID': '9100105', 'ISSN': '0937-941X', 'ESSN': '1433-2965', 'PubTypeList': ['Journal Article'], 'RecordStatus': 'PubMed - indexed for MEDLINE', 'PubStatus': 'ppublish+epublish', 'ArticleIds': DictElement({'pubmed': ['29569152'], 'medline': [], 'doi': '10.1007/s00198-018-4467-z', 'pii': '10.1007/s00198-018-4467-z', 'rid': '29569152', 'eid': '29569152'}, attributes={}), 'DOI': '10.1007/s00198-018-4467-z', 'History': DictElement({'pubmed': ['2018/03/24 06:00'], 'medline': ['2019/10/24 06:00'], 'received': '2017/07/16 00:00', 'accepted': '2018/02/25 00:00', 'entrez': '2018/03/24 06:00'}, attributes={}), 'References': [], 'HasAbstract': IntegerElement(1, attributes={}), 'PmcRefCount': IntegerElement(1, attributes={}), 'FullJournalName': 'Osteoporosis international : a journal established as result of cooperation between the European Foundation for Osteoporosis and the National Osteoporosis Foundation of the USA', 'ELocationID': 'doi: 10.1007/s00198-018-4467-z', 'SO': '2018 Jun;29(6):1437-1445'}, attributes={})]"
      ]
     },
     "metadata": {},
     "execution_count": 51
    }
   ],
   "source": [
    "entrez_fetch_single_summary('29569152')"
   ]
  },
  {
   "cell_type": "code",
   "execution_count": 52,
   "metadata": {},
   "outputs": [],
   "source": [
    "def entrez_fetch_list_summary(uid_list):\n",
    "    from Bio import Entrez\n",
    "    results = [ Entrez.read( Entrez.esummary(db=\"pubmed\", id=uid) ) for uid in uid_list ]\n",
    "    return results"
   ]
  },
  {
   "cell_type": "code",
   "execution_count": 53,
   "metadata": {},
   "outputs": [
    {
     "output_type": "execute_result",
     "data": {
      "text/plain": [
       "[[DictElement({'Item': [], 'Id': '29569152', 'PubDate': '2018 Jun', 'EPubDate': '2018 Mar 22', 'Source': 'Osteoporos Int', 'AuthorList': ['Kruse C', 'Goemaere S', 'De Buyser S', 'Lapauw B', 'Eiken P', 'Vestergaard P'], 'LastAuthor': 'Vestergaard P', 'Title': 'Predicting mortality and incident immobility in older Belgian men by characteristics related to sarcopenia and frailty.', 'Volume': '29', 'Issue': '6', 'Pages': '1437-1445', 'LangList': ['English'], 'NlmUniqueID': '9100105', 'ISSN': '0937-941X', 'ESSN': '1433-2965', 'PubTypeList': ['Journal Article'], 'RecordStatus': 'PubMed - indexed for MEDLINE', 'PubStatus': 'ppublish+epublish', 'ArticleIds': DictElement({'pubmed': ['29569152'], 'medline': [], 'doi': '10.1007/s00198-018-4467-z', 'pii': '10.1007/s00198-018-4467-z', 'rid': '29569152', 'eid': '29569152'}, attributes={}), 'DOI': '10.1007/s00198-018-4467-z', 'History': DictElement({'pubmed': ['2018/03/24 06:00'], 'medline': ['2019/10/24 06:00'], 'received': '2017/07/16 00:00', 'accepted': '2018/02/25 00:00', 'entrez': '2018/03/24 06:00'}, attributes={}), 'References': [], 'HasAbstract': IntegerElement(1, attributes={}), 'PmcRefCount': IntegerElement(1, attributes={}), 'FullJournalName': 'Osteoporosis international : a journal established as result of cooperation between the European Foundation for Osteoporosis and the National Osteoporosis Foundation of the USA', 'ELocationID': 'doi: 10.1007/s00198-018-4467-z', 'SO': '2018 Jun;29(6):1437-1445'}, attributes={})],\n",
       " [DictElement({'Item': [], 'Id': '28197643', 'PubDate': '2017 Apr', 'EPubDate': '2017 Feb 14', 'Source': 'Calcif Tissue Int', 'AuthorList': ['Kruse C', 'Eiken P', 'Vestergaard P'], 'LastAuthor': 'Vestergaard P', 'Title': 'Machine Learning Principles Can Improve Hip Fracture Prediction.', 'Volume': '100', 'Issue': '4', 'Pages': '348-360', 'LangList': ['English'], 'NlmUniqueID': '7905481', 'ISSN': '0171-967X', 'ESSN': '1432-0827', 'PubTypeList': ['Journal Article'], 'RecordStatus': 'PubMed - indexed for MEDLINE', 'PubStatus': 'ppublish+epublish', 'ArticleIds': DictElement({'pubmed': ['28197643'], 'medline': [], 'doi': '10.1007/s00223-017-0238-7', 'pii': '10.1007/s00223-017-0238-7', 'rid': '28197643', 'eid': '28197643'}, attributes={}), 'DOI': '10.1007/s00223-017-0238-7', 'History': DictElement({'pubmed': ['2017/02/16 06:00'], 'medline': ['2018/01/26 06:00'], 'received': '2016/09/06 00:00', 'accepted': '2016/12/05 00:00', 'entrez': '2017/02/16 06:00'}, attributes={}), 'References': [], 'HasAbstract': IntegerElement(1, attributes={}), 'PmcRefCount': IntegerElement(17, attributes={}), 'FullJournalName': 'Calcified tissue international', 'ELocationID': 'doi: 10.1007/s00223-017-0238-7', 'SO': '2017 Apr;100(4):348-360'}, attributes={})],\n",
       " [DictElement({'Item': [], 'Id': '27848006', 'PubDate': '2017 Mar', 'EPubDate': '2016 Nov 16', 'Source': 'Osteoporos Int', 'AuthorList': ['Kruse C', 'Eiken P', 'Vestergaard P'], 'LastAuthor': 'Vestergaard P', 'Title': 'Clinical fracture risk evaluated by hierarchical agglomerative clustering.', 'Volume': '28', 'Issue': '3', 'Pages': '819-832', 'LangList': ['English'], 'NlmUniqueID': '9100105', 'ISSN': '0937-941X', 'ESSN': '1433-2965', 'PubTypeList': ['Journal Article', 'Multicenter Study'], 'RecordStatus': 'PubMed - indexed for MEDLINE', 'PubStatus': 'ppublish+epublish', 'ArticleIds': DictElement({'pubmed': ['27848006'], 'medline': [], 'doi': '10.1007/s00198-016-3828-8', 'pii': '10.1007/s00198-016-3828-8', 'rid': '27848006', 'eid': '27848006'}, attributes={}), 'DOI': '10.1007/s00198-016-3828-8', 'History': DictElement({'pubmed': ['2016/11/17 06:00'], 'medline': ['2018/04/17 06:00'], 'received': '2016/07/03 00:00', 'accepted': '2016/11/02 00:00', 'entrez': '2016/11/17 06:00'}, attributes={}), 'References': [], 'HasAbstract': IntegerElement(1, attributes={}), 'PmcRefCount': IntegerElement(7, attributes={}), 'FullJournalName': 'Osteoporosis international : a journal established as result of cooperation between the European Foundation for Osteoporosis and the National Osteoporosis Foundation of the USA', 'ELocationID': 'doi: 10.1007/s00198-016-3828-8', 'SO': '2017 Mar;28(3):819-832'}, attributes={})],\n",
       " [DictElement({'Item': [], 'Id': '26679436', 'PubDate': '2016 Mar', 'EPubDate': '2015 Dec 8', 'Source': 'Bone', 'AuthorList': ['Kruse C', 'Eiken P', 'Verbalis J', 'Vestergaard P'], 'LastAuthor': 'Vestergaard P', 'Title': 'The effect of chronic mild hyponatremia on bone mineral loss evaluated by retrospective national Danish patient data.', 'Volume': '84', 'Issue': '', 'Pages': '9-14', 'LangList': ['English'], 'NlmUniqueID': '8504048', 'ISSN': '8756-3282', 'ESSN': '1873-2763', 'PubTypeList': ['Journal Article'], 'RecordStatus': 'PubMed - indexed for MEDLINE', 'PubStatus': 'ppublish+epublish', 'ArticleIds': DictElement({'pubmed': ['26679436'], 'medline': [], 'pii': 'S8756-3282(15)00424-X', 'doi': '10.1016/j.bone.2015.12.002', 'rid': '26679436', 'eid': '26679436'}, attributes={}), 'DOI': '10.1016/j.bone.2015.12.002', 'History': DictElement({'pubmed': ['2015/12/19 06:00'], 'medline': ['2016/11/08 06:00'], 'received': '2015/07/20 00:00', 'revised': '2015/11/23 00:00', 'accepted': '2015/12/01 00:00', 'entrez': '2015/12/19 06:00'}, attributes={}), 'References': [], 'HasAbstract': IntegerElement(1, attributes={}), 'PmcRefCount': IntegerElement(3, attributes={}), 'FullJournalName': 'Bone', 'ELocationID': 'doi: 10.1016/j.bone.2015.12.002', 'SO': '2016 Mar;84:9-14'}, attributes={})],\n",
       " [DictElement({'Item': [], 'Id': '26659068', 'PubDate': '2016 May', 'EPubDate': '2015 Dec 11', 'Source': 'Osteoporos Int', 'AuthorList': ['Kruse C', 'Eiken P', 'Vestergaard P'], 'LastAuthor': 'Vestergaard P', 'Title': 'Optimal age of commencing and discontinuing thiazide therapy to protect against fractures.', 'Volume': '27', 'Issue': '5', 'Pages': '1875-85', 'LangList': ['English'], 'NlmUniqueID': '9100105', 'ISSN': '0937-941X', 'ESSN': '1433-2965', 'PubTypeList': ['Journal Article'], 'RecordStatus': 'PubMed - indexed for MEDLINE', 'PubStatus': 'ppublish+epublish', 'ArticleIds': DictElement({'pubmed': ['26659068'], 'medline': [], 'doi': '10.1007/s00198-015-3451-0', 'pii': '10.1007/s00198-015-3451-0', 'rid': '26659068', 'eid': '26659068'}, attributes={}), 'DOI': '10.1007/s00198-015-3451-0', 'History': DictElement({'pubmed': ['2015/12/15 06:00'], 'medline': ['2017/01/11 06:00'], 'received': '2015/08/14 00:00', 'accepted': '2015/12/02 00:00', 'entrez': '2015/12/15 06:00'}, attributes={}), 'References': [], 'HasAbstract': IntegerElement(1, attributes={}), 'PmcRefCount': IntegerElement(2, attributes={}), 'FullJournalName': 'Osteoporosis international : a journal established as result of cooperation between the European Foundation for Osteoporosis and the National Osteoporosis Foundation of the USA', 'ELocationID': 'doi: 10.1007/s00198-015-3451-0', 'SO': '2016 May;27(5):1875-85'}, attributes={})],\n",
       " [DictElement({'Item': [], 'Id': '26223424', 'PubDate': '2016 Jan', 'EPubDate': '2015 Jul 30', 'Source': 'J Intern Med', 'AuthorList': ['Kruse C', 'Eiken P', 'Vestergaard P'], 'LastAuthor': 'Vestergaard P', 'Title': 'Continuous and long-term treatment is more important than dosage for the protective effect of thiazide use on bone metabolism and fracture risk.', 'Volume': '279', 'Issue': '1', 'Pages': '110-22', 'LangList': ['English'], 'NlmUniqueID': '8904841', 'ISSN': '0954-6820', 'ESSN': '1365-2796', 'PubTypeList': ['Journal Article'], 'RecordStatus': 'PubMed - indexed for MEDLINE', 'PubStatus': 'ppublish+epublish', 'ArticleIds': DictElement({'pubmed': ['26223424'], 'medline': [], 'doi': '10.1111/joim.12397', 'rid': '26223424', 'eid': '26223424'}, attributes={}), 'DOI': '10.1111/joim.12397', 'History': DictElement({'pubmed': ['2015/08/01 06:00'], 'medline': ['2016/04/01 06:00'], 'entrez': '2015/07/31 06:00'}, attributes={}), 'References': [], 'HasAbstract': IntegerElement(1, attributes={}), 'PmcRefCount': IntegerElement(5, attributes={}), 'FullJournalName': 'Journal of internal medicine', 'ELocationID': 'doi: 10.1111/joim.12397', 'SO': '2016 Jan;279(1):110-22'}, attributes={})],\n",
       " [DictElement({'Item': [], 'Id': '25466529', 'PubDate': '2015 Mar', 'EPubDate': '2014 Dec 3', 'Source': 'Osteoporos Int', 'AuthorList': ['Kruse C', 'Eiken P', 'Vestergaard P'], 'LastAuthor': 'Vestergaard P', 'Title': 'Hyponatremia and osteoporosis: insights from the Danish National Patient Registry.', 'Volume': '26', 'Issue': '3', 'Pages': '1005-16', 'LangList': ['English'], 'NlmUniqueID': '9100105', 'ISSN': '0937-941X', 'ESSN': '1433-2965', 'PubTypeList': ['Journal Article'], 'RecordStatus': 'PubMed - indexed for MEDLINE', 'PubStatus': 'ppublish+epublish', 'ArticleIds': DictElement({'pubmed': ['25466529'], 'medline': [], 'doi': '10.1007/s00198-014-2973-1', 'rid': '25466529', 'eid': '25466529'}, attributes={}), 'DOI': '10.1007/s00198-014-2973-1', 'History': DictElement({'pubmed': ['2014/12/04 06:00'], 'medline': ['2015/12/22 06:00'], 'received': '2014/09/23 00:00', 'accepted': '2014/11/16 00:00', 'entrez': '2014/12/04 06:00'}, attributes={}), 'References': [], 'HasAbstract': IntegerElement(1, attributes={}), 'PmcRefCount': IntegerElement(7, attributes={}), 'FullJournalName': 'Osteoporosis international : a journal established as result of cooperation between the European Foundation for Osteoporosis and the National Osteoporosis Foundation of the USA', 'ELocationID': 'doi: 10.1007/s00198-014-2973-1', 'SO': '2015 Mar;26(3):1005-16'}, attributes={})]]"
      ]
     },
     "metadata": {},
     "execution_count": 53
    }
   ],
   "source": [
    "entrez_fetch_list_summary(['29569152', '28197643', '27848006', '26679436', '26659068', '26223424', '25466529'])"
   ]
  },
  {
   "source": [
    "## Abstract"
   ],
   "cell_type": "markdown",
   "metadata": {}
  },
  {
   "cell_type": "code",
   "execution_count": 12,
   "metadata": {},
   "outputs": [],
   "source": [
    "def flatten_abstract(abstract_xml):\n",
    "    abstract = ''\n",
    "    for abstractText in abstract_xml.find_all('abstracttext'):\n",
    "        if abstractText.get('label') != None:\n",
    "            abstract = abstract + \" \" + abstractText.get('label') + \": \"\n",
    "        abstract = abstract + abstractText.text\n",
    "    return abstract"
   ]
  },
  {
   "cell_type": "code",
   "execution_count": 16,
   "metadata": {},
   "outputs": [],
   "source": [
    "def entrez_fetch_abstracts(uids,email):\n",
    "    from Bio import Entrez\n",
    "    from bs4 import BeautifulSoup as bs\n",
    "    Entrez.email = email\n",
    "    handle = Entrez.efetch(db=\"pubmed\", id=uids, rettype='Medline', retmode='xml')\n",
    "    result = handle.readlines()\n",
    "    result = \"\".join(result)\n",
    "    bs_content = bs(result, \"lxml\")\n",
    "    abstracts = bs_content.find_all('abstract')\n",
    "    handle.close()\n",
    "    # Abstract\n",
    "    results = [ flatten_abstract(abstract) for abstract in abstracts]\n",
    "    return results"
   ]
  },
  {
   "cell_type": "code",
   "execution_count": 17,
   "metadata": {},
   "outputs": [],
   "source": [
    "def entrez_construct_abstract_dict(uids,email):\n",
    "    results = entrez_fetch_abstracts( uids ,email)\n",
    "    return [{'uid':a, 'abstract':b} for a,b in zip(uids, results)]\n"
   ]
  },
  {
   "cell_type": "code",
   "execution_count": 18,
   "metadata": {},
   "outputs": [
    {
     "output_type": "error",
     "ename": "TypeError",
     "evalue": "sequence item 0: expected str instance, bytes found",
     "traceback": [
      "\u001b[0;31m---------------------------------------------------------------------------\u001b[0m",
      "\u001b[0;31mTypeError\u001b[0m                                 Traceback (most recent call last)",
      "\u001b[0;32m<ipython-input-18-f718095b498d>\u001b[0m in \u001b[0;36m<module>\u001b[0;34m\u001b[0m\n\u001b[1;32m      1\u001b[0m \u001b[0muids\u001b[0m \u001b[0;34m=\u001b[0m \u001b[0;34m[\u001b[0m\u001b[0;34m'29569152'\u001b[0m\u001b[0;34m,\u001b[0m \u001b[0;34m'28197643'\u001b[0m\u001b[0;34m,\u001b[0m \u001b[0;34m'27848006'\u001b[0m\u001b[0;34m,\u001b[0m \u001b[0;34m'26679436'\u001b[0m\u001b[0;34m,\u001b[0m \u001b[0;34m'26659068'\u001b[0m\u001b[0;34m,\u001b[0m \u001b[0;34m'26223424'\u001b[0m\u001b[0;34m,\u001b[0m \u001b[0;34m'25466529'\u001b[0m\u001b[0;34m]\u001b[0m\u001b[0;34m\u001b[0m\u001b[0;34m\u001b[0m\u001b[0m\n\u001b[0;32m----> 2\u001b[0;31m \u001b[0mentrez_construct_abstract_dict\u001b[0m\u001b[0;34m(\u001b[0m \u001b[0muids\u001b[0m\u001b[0;34m,\u001b[0m \u001b[0;34m'XXX@YYY.com'\u001b[0m \u001b[0;34m)\u001b[0m\u001b[0;34m\u001b[0m\u001b[0;34m\u001b[0m\u001b[0m\n\u001b[0m",
      "\u001b[0;32m<ipython-input-17-cf97f6313b3b>\u001b[0m in \u001b[0;36mentrez_construct_abstract_dict\u001b[0;34m(uids, email)\u001b[0m\n\u001b[1;32m      1\u001b[0m \u001b[0;32mdef\u001b[0m \u001b[0mentrez_construct_abstract_dict\u001b[0m\u001b[0;34m(\u001b[0m\u001b[0muids\u001b[0m\u001b[0;34m,\u001b[0m\u001b[0memail\u001b[0m\u001b[0;34m)\u001b[0m\u001b[0;34m:\u001b[0m\u001b[0;34m\u001b[0m\u001b[0;34m\u001b[0m\u001b[0m\n\u001b[0;32m----> 2\u001b[0;31m     \u001b[0mresults\u001b[0m \u001b[0;34m=\u001b[0m \u001b[0mentrez_fetch_abstracts\u001b[0m\u001b[0;34m(\u001b[0m \u001b[0muids\u001b[0m \u001b[0;34m,\u001b[0m\u001b[0memail\u001b[0m\u001b[0;34m)\u001b[0m\u001b[0;34m\u001b[0m\u001b[0;34m\u001b[0m\u001b[0m\n\u001b[0m\u001b[1;32m      3\u001b[0m     \u001b[0;32mreturn\u001b[0m \u001b[0;34m[\u001b[0m\u001b[0;34m{\u001b[0m\u001b[0;34m'uid'\u001b[0m\u001b[0;34m:\u001b[0m\u001b[0ma\u001b[0m\u001b[0;34m,\u001b[0m \u001b[0;34m'abstract'\u001b[0m\u001b[0;34m:\u001b[0m\u001b[0mb\u001b[0m\u001b[0;34m}\u001b[0m \u001b[0;32mfor\u001b[0m \u001b[0ma\u001b[0m\u001b[0;34m,\u001b[0m\u001b[0mb\u001b[0m \u001b[0;32min\u001b[0m \u001b[0mzip\u001b[0m\u001b[0;34m(\u001b[0m\u001b[0muids\u001b[0m\u001b[0;34m,\u001b[0m \u001b[0mresults\u001b[0m\u001b[0;34m)\u001b[0m\u001b[0;34m]\u001b[0m\u001b[0;34m\u001b[0m\u001b[0;34m\u001b[0m\u001b[0m\n",
      "\u001b[0;32m<ipython-input-16-21c797652b26>\u001b[0m in \u001b[0;36mentrez_fetch_abstracts\u001b[0;34m(uids, email)\u001b[0m\n\u001b[1;32m      5\u001b[0m     \u001b[0mhandle\u001b[0m \u001b[0;34m=\u001b[0m \u001b[0mEntrez\u001b[0m\u001b[0;34m.\u001b[0m\u001b[0mefetch\u001b[0m\u001b[0;34m(\u001b[0m\u001b[0mdb\u001b[0m\u001b[0;34m=\u001b[0m\u001b[0;34m\"pubmed\"\u001b[0m\u001b[0;34m,\u001b[0m \u001b[0mid\u001b[0m\u001b[0;34m=\u001b[0m\u001b[0muids\u001b[0m\u001b[0;34m,\u001b[0m \u001b[0mrettype\u001b[0m\u001b[0;34m=\u001b[0m\u001b[0;34m'Medline'\u001b[0m\u001b[0;34m,\u001b[0m \u001b[0mretmode\u001b[0m\u001b[0;34m=\u001b[0m\u001b[0;34m'xml'\u001b[0m\u001b[0;34m)\u001b[0m\u001b[0;34m\u001b[0m\u001b[0;34m\u001b[0m\u001b[0m\n\u001b[1;32m      6\u001b[0m     \u001b[0mresult\u001b[0m \u001b[0;34m=\u001b[0m \u001b[0mhandle\u001b[0m\u001b[0;34m.\u001b[0m\u001b[0mreadlines\u001b[0m\u001b[0;34m(\u001b[0m\u001b[0;34m)\u001b[0m\u001b[0;34m\u001b[0m\u001b[0;34m\u001b[0m\u001b[0m\n\u001b[0;32m----> 7\u001b[0;31m     \u001b[0mresult\u001b[0m \u001b[0;34m=\u001b[0m \u001b[0;34m\"\"\u001b[0m\u001b[0;34m.\u001b[0m\u001b[0mjoin\u001b[0m\u001b[0;34m(\u001b[0m\u001b[0mresult\u001b[0m\u001b[0;34m)\u001b[0m\u001b[0;34m\u001b[0m\u001b[0;34m\u001b[0m\u001b[0m\n\u001b[0m\u001b[1;32m      8\u001b[0m     \u001b[0mbs_content\u001b[0m \u001b[0;34m=\u001b[0m \u001b[0mbs\u001b[0m\u001b[0;34m(\u001b[0m\u001b[0mresult\u001b[0m\u001b[0;34m,\u001b[0m \u001b[0;34m\"lxml\"\u001b[0m\u001b[0;34m)\u001b[0m\u001b[0;34m\u001b[0m\u001b[0;34m\u001b[0m\u001b[0m\n\u001b[1;32m      9\u001b[0m     \u001b[0mabstracts\u001b[0m \u001b[0;34m=\u001b[0m \u001b[0mbs_content\u001b[0m\u001b[0;34m.\u001b[0m\u001b[0mfind_all\u001b[0m\u001b[0;34m(\u001b[0m\u001b[0;34m'abstract'\u001b[0m\u001b[0;34m)\u001b[0m\u001b[0;34m\u001b[0m\u001b[0;34m\u001b[0m\u001b[0m\n",
      "\u001b[0;31mTypeError\u001b[0m: sequence item 0: expected str instance, bytes found"
     ]
    }
   ],
   "source": [
    "uids = ['29569152', '28197643', '27848006', '26679436', '26659068', '26223424', '25466529']\n",
    "entrez_construct_abstract_dict( uids, 'XXX@YYY.com' )"
   ]
  },
  {
   "source": [
    "## Elink"
   ],
   "cell_type": "markdown",
   "metadata": {}
  },
  {
   "cell_type": "code",
   "execution_count": 58,
   "metadata": {},
   "outputs": [],
   "source": [
    "def entrez_fetch_full_text_linkout(uid_list):\n",
    "    import requests\n",
    "    query = \",\".join(uid_list)\n",
    "    result = requests.get(\"https://eutils.ncbi.nlm.nih.gov/entrez/eutils/elink.fcgi?dbfrom=pubmed&id=\" + query + \"&cmd=prlinks&retmode=json\").json()\n",
    "    #pretty_print_json( result.json() )\n",
    "    return result"
   ]
  },
  {
   "cell_type": "code",
   "execution_count": 59,
   "metadata": {},
   "outputs": [
    {
     "output_type": "execute_result",
     "data": {
      "text/plain": [
       "{'header': {'type': 'elink', 'version': '0.3'},\n",
       " 'linksets': [{'dbfrom': 'pubmed',\n",
       "   'idurllist': [{'id': '29569152',\n",
       "     'objurls': [{'url': {'value': 'https://doi.org/10.1007/s00198-018-4467-z'},\n",
       "       'iconurl': {'lng': 'EN',\n",
       "        'value': '//www.ncbi.nlm.nih.gov/corehtml/query/egifs/http:--production.springer.de-OnlineResources-Logos-springerlink.gif'},\n",
       "       'subjecttypes': ['publishers/providers'],\n",
       "       'categories': ['Full Text Sources'],\n",
       "       'attributes': ['full-text online',\n",
       "        'publisher of information in url',\n",
       "        'subscription/membership/fee required'],\n",
       "       'provider': {'name': 'Springer',\n",
       "        'nameabbr': 'Springer',\n",
       "        'id': '3055',\n",
       "        'url': {'lng': 'EN', 'value': 'http://www.springeronline.com/'}}}]},\n",
       "    {'id': '28197643',\n",
       "     'objurls': [{'url': {'value': 'https://dx.doi.org/10.1007/s00223-017-0238-7'},\n",
       "       'iconurl': {'lng': 'EN',\n",
       "        'value': '//www.ncbi.nlm.nih.gov/corehtml/query/egifs/http:--production.springer.de-OnlineResources-Logos-springerlink.gif'},\n",
       "       'subjecttypes': ['publishers/providers'],\n",
       "       'categories': ['Full Text Sources'],\n",
       "       'attributes': ['full-text online',\n",
       "        'publisher of information in url',\n",
       "        'subscription/membership/fee required'],\n",
       "       'provider': {'name': 'Springer',\n",
       "        'nameabbr': 'Springer',\n",
       "        'id': '3055',\n",
       "        'url': {'lng': 'EN', 'value': 'http://www.springeronline.com/'}}}]},\n",
       "    {'id': '27848006',\n",
       "     'objurls': [{'url': {'value': 'https://doi.org/10.1007/s00198-016-3828-8'},\n",
       "       'iconurl': {'lng': 'EN',\n",
       "        'value': '//www.ncbi.nlm.nih.gov/corehtml/query/egifs/http:--production.springer.de-OnlineResources-Logos-springerlink.gif'},\n",
       "       'subjecttypes': ['publishers/providers'],\n",
       "       'categories': ['Full Text Sources'],\n",
       "       'attributes': ['full-text online',\n",
       "        'publisher of information in url',\n",
       "        'subscription/membership/fee required'],\n",
       "       'provider': {'name': 'Springer',\n",
       "        'nameabbr': 'Springer',\n",
       "        'id': '3055',\n",
       "        'url': {'lng': 'EN', 'value': 'http://www.springeronline.com/'}}}]},\n",
       "    {'id': '26679436',\n",
       "     'objurls': [{'url': {'value': 'https://linkinghub.elsevier.com/retrieve/pii/S8756-3282(15)00424-X'},\n",
       "       'iconurl': {'lng': 'EN',\n",
       "        'value': '//www.ncbi.nlm.nih.gov/corehtml/query/egifs/https:--linkinghub.elsevier.com-ihub-images-PubMedLink.gif'},\n",
       "       'subjecttypes': ['publishers/providers'],\n",
       "       'categories': ['Full Text Sources'],\n",
       "       'attributes': ['full-text online',\n",
       "        'publisher of information in url',\n",
       "        'subscription/membership/fee required'],\n",
       "       'provider': {'name': 'Elsevier Science',\n",
       "        'nameabbr': 'ES',\n",
       "        'id': '3048',\n",
       "        'url': {'lng': 'EN', 'value': 'http://www.elsevier.com/'}}}]},\n",
       "    {'id': '26659068',\n",
       "     'objurls': [{'url': {'value': 'https://doi.org/10.1007/s00198-015-3451-0'},\n",
       "       'iconurl': {'lng': 'EN',\n",
       "        'value': '//www.ncbi.nlm.nih.gov/corehtml/query/egifs/http:--production.springer.de-OnlineResources-Logos-springerlink.gif'},\n",
       "       'subjecttypes': ['publishers/providers'],\n",
       "       'categories': ['Full Text Sources'],\n",
       "       'attributes': ['full-text online',\n",
       "        'publisher of information in url',\n",
       "        'subscription/membership/fee required'],\n",
       "       'provider': {'name': 'Springer',\n",
       "        'nameabbr': 'Springer',\n",
       "        'id': '3055',\n",
       "        'url': {'lng': 'EN', 'value': 'http://www.springeronline.com/'}}}]},\n",
       "    {'id': '26223424',\n",
       "     'objurls': [{'url': {'value': 'https://doi.org/10.1111/joim.12397'},\n",
       "       'iconurl': {'lng': 'EN',\n",
       "        'value': '//www.ncbi.nlm.nih.gov/corehtml/query/egifs/http:--media.wiley.com-assets-7388-68-wiley-free-full-text.png'},\n",
       "       'subjecttypes': ['publishers/providers'],\n",
       "       'categories': ['Full Text Sources'],\n",
       "       'attributes': ['free resource',\n",
       "        'full-text online',\n",
       "        'publisher of information in url'],\n",
       "       'provider': {'name': 'Wiley',\n",
       "        'nameabbr': 'Wiley',\n",
       "        'id': '3058',\n",
       "        'url': {'lng': 'EN', 'value': 'https://onlinelibrary.wiley.com/'}}}]},\n",
       "    {'id': '25466529',\n",
       "     'objurls': [{'url': {'value': 'https://doi.org/10.1007/s00198-014-2973-1'},\n",
       "       'iconurl': {'lng': 'EN',\n",
       "        'value': '//www.ncbi.nlm.nih.gov/corehtml/query/egifs/http:--production.springer.de-OnlineResources-Logos-springerlink.gif'},\n",
       "       'subjecttypes': ['publishers/providers'],\n",
       "       'categories': ['Full Text Sources'],\n",
       "       'attributes': ['full-text online',\n",
       "        'publisher of information in url',\n",
       "        'subscription/membership/fee required'],\n",
       "       'provider': {'name': 'Springer',\n",
       "        'nameabbr': 'Springer',\n",
       "        'id': '3055',\n",
       "        'url': {'lng': 'EN', 'value': 'http://www.springeronline.com/'}}}]}]}]}"
      ]
     },
     "metadata": {},
     "execution_count": 59
    }
   ],
   "source": [
    "results_Elink = entrez_fetch_full_text_linkout(uids)\n",
    "results_Elink"
   ]
  },
  {
   "cell_type": "code",
   "execution_count": 60,
   "metadata": {},
   "outputs": [
    {
     "output_type": "execute_result",
     "data": {
      "text/plain": [
       "[{'uid': '29569152', 'url': 'https://doi.org/10.1007/s00198-018-4467-z'},\n",
       " {'uid': '28197643', 'url': 'https://dx.doi.org/10.1007/s00223-017-0238-7'},\n",
       " {'uid': '27848006', 'url': 'https://doi.org/10.1007/s00198-016-3828-8'},\n",
       " {'uid': '26679436',\n",
       "  'url': 'https://linkinghub.elsevier.com/retrieve/pii/S8756-3282(15)00424-X'},\n",
       " {'uid': '26659068', 'url': 'https://doi.org/10.1007/s00198-015-3451-0'},\n",
       " {'uid': '26223424', 'url': 'https://doi.org/10.1111/joim.12397'},\n",
       " {'uid': '25466529', 'url': 'https://doi.org/10.1007/s00198-014-2973-1'}]"
      ]
     },
     "metadata": {},
     "execution_count": 60
    }
   ],
   "source": [
    "def parse_results_Elink(elink_results):\n",
    "    elink_results = elink_results['linksets'][0]['idurllist']\n",
    "    return [ { 'uid' : result['id'], 'url' : result['objurls'][0]['url']['value'] } for result in elink_results ]\n",
    "parse_results_Elink(results_Elink)"
   ]
  },
  {
   "source": [
    "# Essentials to pandas dataframe"
   ],
   "cell_type": "markdown",
   "metadata": {}
  },
  {
   "cell_type": "code",
   "execution_count": null,
   "metadata": {},
   "outputs": [],
   "source": []
  }
 ]
}