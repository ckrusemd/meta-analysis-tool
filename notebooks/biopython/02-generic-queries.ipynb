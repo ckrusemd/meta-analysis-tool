{
 "metadata": {
  "language_info": {
   "codemirror_mode": {
    "name": "ipython",
    "version": 3
   },
   "file_extension": ".py",
   "mimetype": "text/x-python",
   "name": "python",
   "nbconvert_exporter": "python",
   "pygments_lexer": "ipython3",
   "version": "3.7.6-final"
  },
  "orig_nbformat": 2,
  "kernelspec": {
   "name": "python3",
   "display_name": "Python 3",
   "language": "python"
  }
 },
 "nbformat": 4,
 "nbformat_minor": 2,
 "cells": [
  {
   "source": [
    "# Biopython-Entrez\n",
    "##  Functions for generic queries\n",
    "\n",
    "Notebook with functions that can turn queries into results for MongoDB and Pandas."
   ],
   "cell_type": "markdown",
   "metadata": {}
  },
  {
   "cell_type": "code",
   "execution_count": 3,
   "metadata": {},
   "outputs": [],
   "source": [
    "from Bio import Entrez\n",
    "import json\n",
    "from bs4 import BeautifulSoup as bs\n",
    "import lxml\n",
    "import json"
   ]
  },
  {
   "cell_type": "code",
   "execution_count": 4,
   "metadata": {},
   "outputs": [],
   "source": [
    "def pretty_print_json(json_):\n",
    "    print(json.dumps(json_, indent=4, sort_keys=True))"
   ]
  },
  {
   "source": [
    "## Query"
   ],
   "cell_type": "markdown",
   "metadata": {}
  },
  {
   "cell_type": "code",
   "execution_count": 46,
   "metadata": {},
   "outputs": [],
   "source": [
    "def entrez_search_pubmed(query,records_per_query=10,email=\"XXX@YYY.com\"):\n",
    "    from Bio import Entrez\n",
    "    Entrez.email = email\n",
    "    # Search\n",
    "    handle = Entrez.esearch(db=\"pubmed\",term=query, idtype=\"acc\")\n",
    "    record = Entrez.read(handle)\n",
    "    handle.close()\n",
    "    return record"
   ]
  },
  {
   "cell_type": "code",
   "execution_count": 47,
   "metadata": {},
   "outputs": [
    {
     "output_type": "execute_result",
     "data": {
      "text/plain": [
       "DictElement({'Count': '7', 'RetMax': '7', 'RetStart': '0', 'IdList': ['29569152', '28197643', '27848006', '26679436', '26659068', '26223424', '25466529'], 'TranslationSet': [], 'TranslationStack': [DictElement({'Term': 'kruse[All Fields]', 'Field': 'All Fields', 'Count': '6557', 'Explode': 'N'}, attributes={}), DictElement({'Term': 'eiken[All Fields]', 'Field': 'All Fields', 'Count': '1408', 'Explode': 'N'}, attributes={}), 'AND', DictElement({'Term': 'vestergaard[All Fields]', 'Field': 'All Fields', 'Count': '2384', 'Explode': 'N'}, attributes={}), 'AND', 'GROUP'], 'QueryTranslation': 'kruse[All Fields] AND eiken[All Fields] AND vestergaard[All Fields]'}, attributes={})"
      ]
     },
     "metadata": {},
     "execution_count": 47
    }
   ],
   "source": [
    "entrez_search_pubmed(query = \"kruse eiken vestergaard\",)"
   ]
  },
  {
   "source": [
    "## Summary"
   ],
   "cell_type": "markdown",
   "metadata": {}
  },
  {
   "cell_type": "code",
   "execution_count": 50,
   "metadata": {},
   "outputs": [],
   "source": [
    "def entrez_fetch_single_summary(uid):\n",
    "    from Bio import Entrez\n",
    "    handle = Entrez.esummary(db=\"pubmed\", id=uid)\n",
    "    record = Entrez.read(handle)\n",
    "    return record"
   ]
  },
  {
   "cell_type": "code",
   "execution_count": 51,
   "metadata": {},
   "outputs": [
    {
     "output_type": "execute_result",
     "data": {
      "text/plain": [
       "[DictElement({'Item': [], 'Id': '29569152', 'PubDate': '2018 Jun', 'EPubDate': '2018 Mar 22', 'Source': 'Osteoporos Int', 'AuthorList': ['Kruse C', 'Goemaere S', 'De Buyser S', 'Lapauw B', 'Eiken P', 'Vestergaard P'], 'LastAuthor': 'Vestergaard P', 'Title': 'Predicting mortality and incident immobility in older Belgian men by characteristics related to sarcopenia and frailty.', 'Volume': '29', 'Issue': '6', 'Pages': '1437-1445', 'LangList': ['English'], 'NlmUniqueID': '9100105', 'ISSN': '0937-941X', 'ESSN': '1433-2965', 'PubTypeList': ['Journal Article'], 'RecordStatus': 'PubMed - indexed for MEDLINE', 'PubStatus': 'ppublish+epublish', 'ArticleIds': DictElement({'pubmed': ['29569152'], 'medline': [], 'doi': '10.1007/s00198-018-4467-z', 'pii': '10.1007/s00198-018-4467-z', 'rid': '29569152', 'eid': '29569152'}, attributes={}), 'DOI': '10.1007/s00198-018-4467-z', 'History': DictElement({'pubmed': ['2018/03/24 06:00'], 'medline': ['2019/10/24 06:00'], 'received': '2017/07/16 00:00', 'accepted': '2018/02/25 00:00', 'entrez': '2018/03/24 06:00'}, attributes={}), 'References': [], 'HasAbstract': IntegerElement(1, attributes={}), 'PmcRefCount': IntegerElement(1, attributes={}), 'FullJournalName': 'Osteoporosis international : a journal established as result of cooperation between the European Foundation for Osteoporosis and the National Osteoporosis Foundation of the USA', 'ELocationID': 'doi: 10.1007/s00198-018-4467-z', 'SO': '2018 Jun;29(6):1437-1445'}, attributes={})]"
      ]
     },
     "metadata": {},
     "execution_count": 51
    }
   ],
   "source": [
    "entrez_fetch_single_summary('29569152')"
   ]
  },
  {
   "cell_type": "code",
   "execution_count": 52,
   "metadata": {},
   "outputs": [],
   "source": [
    "def entrez_fetch_list_summary(uid_list):\n",
    "    from Bio import Entrez\n",
    "    results = [ Entrez.read( Entrez.esummary(db=\"pubmed\", id=uid) ) for uid in uid_list ]\n",
    "    return results"
   ]
  },
  {
   "cell_type": "code",
   "execution_count": 13,
   "metadata": {},
   "outputs": [
    {
     "output_type": "execute_result",
     "data": {
      "text/plain": [
       "[[DictElement({'Item': [], 'Id': '29569152', 'PubDate': '2018 Jun', 'EPubDate': '2018 Mar 22', 'Source': 'Osteoporos Int', 'AuthorList': ['Kruse C', 'Goemaere S', 'De Buyser S', 'Lapauw B', 'Eiken P', 'Vestergaard P'], 'LastAuthor': 'Vestergaard P', 'Title': 'Predicting mortality and incident immobility in older Belgian men by characteristics related to sarcopenia and frailty.', 'Volume': '29', 'Issue': '6', 'Pages': '1437-1445', 'LangList': ['English'], 'NlmUniqueID': '9100105', 'ISSN': '0937-941X', 'ESSN': '1433-2965', 'PubTypeList': ['Journal Article'], 'RecordStatus': 'PubMed - indexed for MEDLINE', 'PubStatus': 'ppublish+epublish', 'ArticleIds': DictElement({'medline': [], 'pubmed': ['29569152'], 'doi': '10.1007/s00198-018-4467-z', 'pii': '10.1007/s00198-018-4467-z', 'rid': '29569152', 'eid': '29569152'}, attributes={}), 'DOI': '10.1007/s00198-018-4467-z', 'History': DictElement({'medline': ['2019/10/24 06:00'], 'pubmed': ['2018/03/24 06:00'], 'received': '2017/07/16 00:00', 'accepted': '2018/02/25 00:00', 'entrez': '2018/03/24 06:00'}, attributes={}), 'References': [], 'HasAbstract': IntegerElement(1, attributes={}), 'PmcRefCount': IntegerElement(1, attributes={}), 'FullJournalName': 'Osteoporosis international : a journal established as result of cooperation between the European Foundation for Osteoporosis and the National Osteoporosis Foundation of the USA', 'ELocationID': 'doi: 10.1007/s00198-018-4467-z', 'SO': '2018 Jun;29(6):1437-1445'}, attributes={})],\n",
       " [DictElement({'Item': [], 'Id': '28197643', 'PubDate': '2017 Apr', 'EPubDate': '2017 Feb 14', 'Source': 'Calcif Tissue Int', 'AuthorList': ['Kruse C', 'Eiken P', 'Vestergaard P'], 'LastAuthor': 'Vestergaard P', 'Title': 'Machine Learning Principles Can Improve Hip Fracture Prediction.', 'Volume': '100', 'Issue': '4', 'Pages': '348-360', 'LangList': ['English'], 'NlmUniqueID': '7905481', 'ISSN': '0171-967X', 'ESSN': '1432-0827', 'PubTypeList': ['Journal Article'], 'RecordStatus': 'PubMed - indexed for MEDLINE', 'PubStatus': 'ppublish+epublish', 'ArticleIds': DictElement({'medline': [], 'pubmed': ['28197643'], 'doi': '10.1007/s00223-017-0238-7', 'pii': '10.1007/s00223-017-0238-7', 'rid': '28197643', 'eid': '28197643'}, attributes={}), 'DOI': '10.1007/s00223-017-0238-7', 'History': DictElement({'medline': ['2018/01/26 06:00'], 'pubmed': ['2017/02/16 06:00'], 'received': '2016/09/06 00:00', 'accepted': '2016/12/05 00:00', 'entrez': '2017/02/16 06:00'}, attributes={}), 'References': [], 'HasAbstract': IntegerElement(1, attributes={}), 'PmcRefCount': IntegerElement(17, attributes={}), 'FullJournalName': 'Calcified tissue international', 'ELocationID': 'doi: 10.1007/s00223-017-0238-7', 'SO': '2017 Apr;100(4):348-360'}, attributes={})],\n",
       " [DictElement({'Item': [], 'Id': '27848006', 'PubDate': '2017 Mar', 'EPubDate': '2016 Nov 16', 'Source': 'Osteoporos Int', 'AuthorList': ['Kruse C', 'Eiken P', 'Vestergaard P'], 'LastAuthor': 'Vestergaard P', 'Title': 'Clinical fracture risk evaluated by hierarchical agglomerative clustering.', 'Volume': '28', 'Issue': '3', 'Pages': '819-832', 'LangList': ['English'], 'NlmUniqueID': '9100105', 'ISSN': '0937-941X', 'ESSN': '1433-2965', 'PubTypeList': ['Journal Article', 'Multicenter Study'], 'RecordStatus': 'PubMed - indexed for MEDLINE', 'PubStatus': 'ppublish+epublish', 'ArticleIds': DictElement({'medline': [], 'pubmed': ['27848006'], 'doi': '10.1007/s00198-016-3828-8', 'pii': '10.1007/s00198-016-3828-8', 'rid': '27848006', 'eid': '27848006'}, attributes={}), 'DOI': '10.1007/s00198-016-3828-8', 'History': DictElement({'medline': ['2018/04/17 06:00'], 'pubmed': ['2016/11/17 06:00'], 'received': '2016/07/03 00:00', 'accepted': '2016/11/02 00:00', 'entrez': '2016/11/17 06:00'}, attributes={}), 'References': [], 'HasAbstract': IntegerElement(1, attributes={}), 'PmcRefCount': IntegerElement(7, attributes={}), 'FullJournalName': 'Osteoporosis international : a journal established as result of cooperation between the European Foundation for Osteoporosis and the National Osteoporosis Foundation of the USA', 'ELocationID': 'doi: 10.1007/s00198-016-3828-8', 'SO': '2017 Mar;28(3):819-832'}, attributes={})],\n",
       " [DictElement({'Item': [], 'Id': '26679436', 'PubDate': '2016 Mar', 'EPubDate': '2015 Dec 8', 'Source': 'Bone', 'AuthorList': ['Kruse C', 'Eiken P', 'Verbalis J', 'Vestergaard P'], 'LastAuthor': 'Vestergaard P', 'Title': 'The effect of chronic mild hyponatremia on bone mineral loss evaluated by retrospective national Danish patient data.', 'Volume': '84', 'Issue': '', 'Pages': '9-14', 'LangList': ['English'], 'NlmUniqueID': '8504048', 'ISSN': '8756-3282', 'ESSN': '1873-2763', 'PubTypeList': ['Journal Article'], 'RecordStatus': 'PubMed - indexed for MEDLINE', 'PubStatus': 'ppublish+epublish', 'ArticleIds': DictElement({'medline': [], 'pubmed': ['26679436'], 'pii': 'S8756-3282(15)00424-X', 'doi': '10.1016/j.bone.2015.12.002', 'rid': '26679436', 'eid': '26679436'}, attributes={}), 'DOI': '10.1016/j.bone.2015.12.002', 'History': DictElement({'medline': ['2016/11/08 06:00'], 'pubmed': ['2015/12/19 06:00'], 'received': '2015/07/20 00:00', 'revised': '2015/11/23 00:00', 'accepted': '2015/12/01 00:00', 'entrez': '2015/12/19 06:00'}, attributes={}), 'References': [], 'HasAbstract': IntegerElement(1, attributes={}), 'PmcRefCount': IntegerElement(3, attributes={}), 'FullJournalName': 'Bone', 'ELocationID': 'doi: 10.1016/j.bone.2015.12.002', 'SO': '2016 Mar;84:9-14'}, attributes={})],\n",
       " [DictElement({'Item': [], 'Id': '26659068', 'PubDate': '2016 May', 'EPubDate': '2015 Dec 11', 'Source': 'Osteoporos Int', 'AuthorList': ['Kruse C', 'Eiken P', 'Vestergaard P'], 'LastAuthor': 'Vestergaard P', 'Title': 'Optimal age of commencing and discontinuing thiazide therapy to protect against fractures.', 'Volume': '27', 'Issue': '5', 'Pages': '1875-85', 'LangList': ['English'], 'NlmUniqueID': '9100105', 'ISSN': '0937-941X', 'ESSN': '1433-2965', 'PubTypeList': ['Journal Article'], 'RecordStatus': 'PubMed - indexed for MEDLINE', 'PubStatus': 'ppublish+epublish', 'ArticleIds': DictElement({'medline': [], 'pubmed': ['26659068'], 'doi': '10.1007/s00198-015-3451-0', 'pii': '10.1007/s00198-015-3451-0', 'rid': '26659068', 'eid': '26659068'}, attributes={}), 'DOI': '10.1007/s00198-015-3451-0', 'History': DictElement({'medline': ['2017/01/11 06:00'], 'pubmed': ['2015/12/15 06:00'], 'received': '2015/08/14 00:00', 'accepted': '2015/12/02 00:00', 'entrez': '2015/12/15 06:00'}, attributes={}), 'References': [], 'HasAbstract': IntegerElement(1, attributes={}), 'PmcRefCount': IntegerElement(2, attributes={}), 'FullJournalName': 'Osteoporosis international : a journal established as result of cooperation between the European Foundation for Osteoporosis and the National Osteoporosis Foundation of the USA', 'ELocationID': 'doi: 10.1007/s00198-015-3451-0', 'SO': '2016 May;27(5):1875-85'}, attributes={})],\n",
       " [DictElement({'Item': [], 'Id': '26223424', 'PubDate': '2016 Jan', 'EPubDate': '2015 Jul 30', 'Source': 'J Intern Med', 'AuthorList': ['Kruse C', 'Eiken P', 'Vestergaard P'], 'LastAuthor': 'Vestergaard P', 'Title': 'Continuous and long-term treatment is more important than dosage for the protective effect of thiazide use on bone metabolism and fracture risk.', 'Volume': '279', 'Issue': '1', 'Pages': '110-22', 'LangList': ['English'], 'NlmUniqueID': '8904841', 'ISSN': '0954-6820', 'ESSN': '1365-2796', 'PubTypeList': ['Journal Article'], 'RecordStatus': 'PubMed - indexed for MEDLINE', 'PubStatus': 'ppublish+epublish', 'ArticleIds': DictElement({'medline': [], 'pubmed': ['26223424'], 'doi': '10.1111/joim.12397', 'rid': '26223424', 'eid': '26223424'}, attributes={}), 'DOI': '10.1111/joim.12397', 'History': DictElement({'medline': ['2016/04/01 06:00'], 'pubmed': ['2015/08/01 06:00'], 'entrez': '2015/07/31 06:00'}, attributes={}), 'References': [], 'HasAbstract': IntegerElement(1, attributes={}), 'PmcRefCount': IntegerElement(5, attributes={}), 'FullJournalName': 'Journal of internal medicine', 'ELocationID': 'doi: 10.1111/joim.12397', 'SO': '2016 Jan;279(1):110-22'}, attributes={})],\n",
       " [DictElement({'Item': [], 'Id': '25466529', 'PubDate': '2015 Mar', 'EPubDate': '2014 Dec 3', 'Source': 'Osteoporos Int', 'AuthorList': ['Kruse C', 'Eiken P', 'Vestergaard P'], 'LastAuthor': 'Vestergaard P', 'Title': 'Hyponatremia and osteoporosis: insights from the Danish National Patient Registry.', 'Volume': '26', 'Issue': '3', 'Pages': '1005-16', 'LangList': ['English'], 'NlmUniqueID': '9100105', 'ISSN': '0937-941X', 'ESSN': '1433-2965', 'PubTypeList': ['Journal Article'], 'RecordStatus': 'PubMed - indexed for MEDLINE', 'PubStatus': 'ppublish+epublish', 'ArticleIds': DictElement({'medline': [], 'pubmed': ['25466529'], 'doi': '10.1007/s00198-014-2973-1', 'rid': '25466529', 'eid': '25466529'}, attributes={}), 'DOI': '10.1007/s00198-014-2973-1', 'History': DictElement({'medline': ['2015/12/22 06:00'], 'pubmed': ['2014/12/04 06:00'], 'received': '2014/09/23 00:00', 'accepted': '2014/11/16 00:00', 'entrez': '2014/12/04 06:00'}, attributes={}), 'References': [], 'HasAbstract': IntegerElement(1, attributes={}), 'PmcRefCount': IntegerElement(7, attributes={}), 'FullJournalName': 'Osteoporosis international : a journal established as result of cooperation between the European Foundation for Osteoporosis and the National Osteoporosis Foundation of the USA', 'ELocationID': 'doi: 10.1007/s00198-014-2973-1', 'SO': '2015 Mar;26(3):1005-16'}, attributes={})]]"
      ]
     },
     "metadata": {},
     "execution_count": 13
    }
   ],
   "source": [
    "entrez_fetch_list_summary(['29569152', '28197643', '27848006', '26679436', '26659068', '26223424', '25466529'])"
   ]
  },
  {
   "source": [
    "## Abstract"
   ],
   "cell_type": "markdown",
   "metadata": {}
  },
  {
   "cell_type": "code",
   "execution_count": 20,
   "metadata": {},
   "outputs": [],
   "source": [
    "def flatten_abstract(abstract_xml):\n",
    "    abstract = ''\n",
    "    for abstractText in abstract_xml.find_all('abstracttext'):\n",
    "        if abstractText.get('label') != None:\n",
    "            abstract = abstract + \" \" + abstractText.get('label') + \": \"\n",
    "        abstract = abstract + abstractText.text\n",
    "    return abstract"
   ]
  },
  {
   "cell_type": "code",
   "execution_count": 21,
   "metadata": {},
   "outputs": [],
   "source": [
    "def entrez_fetch_abstracts(uid):\n",
    "    from Bio import Entrez\n",
    "    from bs4 import BeautifulSoup as bs\n",
    "    handle = Entrez.efetch(db=\"pubmed\", id=uid, rettype='Medline', retmode='xml')\n",
    "    result = handle.readlines()\n",
    "    result = \"\".join(result)\n",
    "    bs_content = bs(result, \"lxml\")\n",
    "    abstracts = bs_content.find_all('abstract')\n",
    "    handle.close()\n",
    "    # Abstract\n",
    "    results = [ flatten_abstract(abstract) for abstract in abstracts]\n",
    "    return results"
   ]
  },
  {
   "cell_type": "code",
   "execution_count": 22,
   "metadata": {},
   "outputs": [],
   "source": [
    "def entrez_construct_abstract_dict(uids):\n",
    "    results = entrez_fetch_abstracts( uids )\n",
    "    return [{'uid':a, 'abstract':b} for a,b in zip(uids, results)]\n"
   ]
  },
  {
   "cell_type": "code",
   "execution_count": 23,
   "metadata": {},
   "outputs": [
    {
     "output_type": "execute_result",
     "data": {
      "text/plain": [
       "[{'uid': '29569152',\n",
       "  'abstract': 'There is an increasing awareness of sarcopenia in older people. We applied machine learning principles to predict mortality and incident immobility in older Belgian men through sarcopenia and frailty characteristics. Mortality could be predicted with good accuracy. Serum 25-hydroxyvitamin D and bone mineral density scores were the most important predictors. INTRODUCTION: Machine learning principles were used to predict 5-year mortality and 3-year incident severe immobility in a population of older men by frailty and sarcopenia characteristics. METHODS: Using prospective data from 1997 on 264 older Belgian men (n\\u2009=\\u2009152 predictors), 29 statistical models were developed and tuned on 75% of data points then validated on the remaining 25%. The model with the highest test area under the curve (AUC) was chosen as the best. From these, ranked predictor importance was extracted. RESULTS: Five-year mortality could be predicted with good accuracy (test AUC of .85 [.73; .97], sensitivity 78%, specificity 89% at a probability cut-off of 22.3%) using a Bayesian generalized linear model. Three-year incident severe immobility could be predicted with fair accuracy (test AUC .74 [.57; .91], sensitivity 67%, specificity 78% at a probability cut-off of 14.2%) using a multivariate adaptive regression splines model. Serum 25-hydroxyvitamin D levels and hip bone mineral density scores were the most important predictors of mortality, while biochemical androgen markers and Short-Form 36 Physical Domain questions were the most important predictors of immobility. Sarcopenia assessed by lean mass estimates was relevant to mortality prediction but not immobility prediction. CONCLUSIONS: Using advanced statistical models and a machine learning approach 5-year mortality can be predicted with good accuracy using a Bayesian generalized linear model and 3-year incident severe immobility with fair accuracy using a multivariate adaptive regression splines model.'},\n",
       " {'uid': '28197643',\n",
       "  'abstract': 'Apply machine learning principles to predict hip fractures and estimate predictor importance in Dual-energy X-ray absorptiometry (DXA)-scanned men and women. Dual-energy X-ray absorptiometry data from two Danish regions between 1996 and 2006 were combined with national Danish patient data to comprise 4722 women and 717 men with 5\\xa0years of follow-up time (original cohort n\\u2009=\\u20096606 men and women). Twenty-four statistical models were built on 75% of data points through k-5, 5-repeat cross-validation, and then validated on the remaining 25% of data points to calculate area under the curve (AUC) and calibrate probability estimates. The best models were retrained with restricted predictor subsets to estimate the best subsets. For women, bootstrap aggregated flexible discriminant analysis (\"bagFDA\") performed best with a test AUC of 0.92 [0.89; 0.94] and well-calibrated probabilities following Naïve Bayes adjustments. A \"bagFDA\" model limited to 11 predictors (among them bone mineral densities (BMD), biochemical glucose measurements, general practitioner and dentist use) achieved a test AUC of 0.91 [0.88; 0.93]. For men, eXtreme Gradient Boosting (\"xgbTree\") performed best with a test AUC of 0.89 [0.82; 0.95], but with poor calibration in higher probabilities. A ten predictor subset (BMD, biochemical cholesterol and liver function tests, penicillin use and osteoarthritis diagnoses) achieved a test AUC of 0.86 [0.78; 0.94] using an \"xgbTree\" model. Machine learning can improve hip fracture prediction beyond logistic regression using ensemble models. Compiling data from international cohorts of longer follow-up and performing similar machine learning procedures has the potential to further improve discrimination and calibration.'},\n",
       " {'uid': '27848006',\n",
       "  'abstract': \"Clustering analysis can identify subgroups of patients based on similarities of traits. From data on 10,775 subjects, we document nine patient clusters of different fracture risks. Differences emerged after age 60 and treatment compliance differed by hip and lumbar spine bone mineral density profiles. INTRODUCTION: The purposes of this study were to establish and quantify patient clusters of high, average and low fracture risk using an unsupervised machine learning algorithm. METHODS: Regional and national Danish patient data on dual-energy X-ray absorptiometry (DXA) scans, medication reimbursement, primary healthcare sector use and comorbidity of female subjects were combined. Standardized variable means, Euclidean distances and Ward's D2 method of hierarchical agglomerative clustering (HAC), were used to form the clustering object. K number of clusters was selected with the lowest cluster containing less than 250 subjects. Clusters were identified as high, average or low fracture risk based on bone mineral density (BMD) characteristics. Cluster-based descriptive statistics and relative Z-scores for variable means were computed. RESULTS: Ten thousand seven hundred seventy-five women were included in this study. Nine (k\\xa0=\\xa09) clusters were identified. Four clusters (n\\xa0=\\xa02886) were identified based on low to very low BMD with differences in comorbidity, anthropometrics and future bisphosphonate compliance. Two clusters of younger subjects (n\\xa0=\\xa01058, mean ages 30 and 51\\xa0years) were identified as low fracture risk with high to very high BMD. A mean age of 60\\xa0years was the earliest that allowed for separation of high-risk clusters. DXA scan results could identify high-risk subjects with different antiresorptive treatment compliance levels based on similarities and differences in lumbar spine and hip region BMD. CONCLUSIONS: Unsupervised HAC presents a novel technology to improve patient characteristics in bone disease beyond traditional T-score-based diagnosis. Technological and validation limitations need to be overcome to improve its use in internal medicine. Current DXA scan indication guidelines could be further improved by clustering algorithms.\"},\n",
       " {'uid': '26679436',\n",
       "  'abstract': ' PURPOSE: To evaluate the effect of chronic mild hyponatremia ([Na+]=130-137mmol/L) on bone mineral content (BMC) and bone mineral density (BMD) loss through multiple, serial dual-energy X-ray absorptiometry (DXA) scans. METHODS: Utilizing biochemical and DXA scan data from two Danish regions between 2004 and 2011, supplemented with national Danish patient diagnosis and prescription reimbursement databases, a retrospective cohort study was performed. All subjects with more than one DXA scan were included, then stratified into \"normonatremia\" ([Na(+)]=[137.00-147.00] mmol/L) and \"mild hyponatremia\" ([Na(+)]=[130.00-137.00[mmol/L) based on mean and confidence interval (CI) values calculated from all plasma sodium measurements between each subject\\'s first and last DXA scan. Baseline, follow-up and delta values for hip and lumbar spine BMC and BMD were estimated between groups, then adjusted for comorbidity and medication use. RESULTS: Hip and lumbar spine groups had 884 and 1069 patients with \"normonatremia\" versus 58 and 58 patients with \"mild hyponatremia\", respectively. Mild hyponatremia was associated with lower BMC and BMD in nearly all regions of the hip, and with worse losses in the trochanteric, femoral neck and total hip regions. Mild hyponatremia had limited effect on the lumbar spine. CONCLUSIONS: Chronic mild hyponatremia seems to greatly affect bone in the hip, while the effect is limited in the lumbar spine. We suggest further retrospective study of patients with moderate (P-Na=120-130mmol/L) to severe hyponatremia (P-Na<120mmol/L) and prospective studies to further examine the association.'},\n",
       " {'uid': '26659068',\n",
       "  'abstract': ' UNLABELLED: A study of national Danish patient data with regard to thiazide diuretics vs. non-treatment. We find that after age 83\\xa0years, thiazides increase the 10-year risk of major fractures. We also find that thiazides can be stopped after 63\\xa0years old to possibly protect against fracture occurrence. INTRODUCTION: The purpose of this study was to retrospectively examine the optimal age for commencing and discontinuing thiazide therapy to protect from osteoporotic fractures. METHODS: A population-based, retrospective matched cohort study was done using national data of 2.93 million Danish subjects. Ten-year crude and adjusted age-grouped hazard ratios (HRs) of fracture occurrence were stratified by age of commencing thiazides compared to non-exposure. Separate analyses were done on Anatomical Therapeutic Chemical Classification System (ATC) codes C03AA and C03AA\\u2009+\\u2009C03AB compiled. Ten-year crude HRs of fracture occurrence for discontinuing vs. continuing thiazides were estimated and stratified by age for the two groups. RESULTS: For C03AB alone (97.1\\xa0% of thiazide prescriptions), adjusted 10-year HRs of fracture occurrence were significantly increased for thiazide commencement after age 83\\xa0years and comparable to non-exposure for commencement between ages 50 and 83\\xa0years. For C03AA\\u2009+\\u2009C03AB, 10-year adjusted HRs of fracture occurrence were significantly increased from ages 73\\xa0years and upwards. Crude 10-year HRs of fracture occurrence were significantly decreased for discontinuing vs. continuing thiazides at or after age 63\\xa0years for C03AB and age 77\\xa0years for C03AA\\u2009+\\u2009C03AB. CONCLUSIONS: No significantly protective effect of thiazides was found on fracture occurrence compared to non-users, but evidence that thiazides increase the 10-year adjusted HR risk of fractures if prescribed after the age of 83\\xa0years for C03AB and 73\\xa0years for C03AA\\u2009+\\u2009C03AB. Discontinuing thiazides at or after age 63\\xa0years for C03AB or 77\\xa0years for C03AA & C03AB significantly decreases the 10-year risk of fractures compared to continuing thiazides. Further prospective studies are warranted.'},\n",
       " {'uid': '26223424',\n",
       "  'abstract': \" BACKGROUND: Data from observational studies have suggested that thiazide diuretics protect against fractures. Few studies have investigated time frames from initiation of treatment to fracture occurrence. OBJECTIVE: To evaluate the time to spinal, hip, femur, wrist and upper extremity fracture occurrence before and after thiazide exposure. METHODS: A matched retrospective cohort study of patient information from national Danish patient databases was conducted. Patients with reimbursed prescriptions for noncompounded thiazide diuretics with potassium supplementation (Anatomical Therapeutic Chemical classification system code C03AB) between 1996 and 2011 were matched with nonexposed control subjects by date of birth and gender. Weekly odds ratios (ORs) of fracture occurrence and total incidence rates (IRs) and incidence rate ratios (IRRs) of fracture risk were calculated for the periods before treatment initiation, weeks 1-42 and weeks 43-780. RESULTS: A total of 1,602,141 'thiazide exposure periods' (46,8271 individuals) and 1,530,233 'nonexposure periods' (655,399 individuals) were included in the analysis. Thiazide use was associated with factors of increased de novo fracture risk. Weekly adjusted fracture risk between exposure and nonexposure was increased prior to commencing thiazide therapy, further increasing from weeks 1-42 weeks and then decreasing gradually from weeks 43-780. There was a decreasing trend in total age-adjusted risk during these periods: IRR [95% confidence interval 1.44 [1.42; 1.47], 1.27 [1.24; 1.29] and 1.14 [1.11; 1.18], respectively. Prescription patterns showed several treatment breaks amongst thiazide users. CONCLUSIONS: It appears that thiazides reduce the background risk of fracture that is increased prior to commencing therapy. Long duration and continuity of thiazide exposure seems to be important to obtain this protective effect on fracture risk, but we have found in this study that this approach is not always used in clinical practice.\"},\n",
       " {'uid': '25466529',\n",
       "  'abstract': ' UNLABELLED: The association between hyponatremia and osteoporosis was evaluated in humans. A significant association was found between low sodium levels, lower bone mineralization in the hip, and with several common conditions. Hyponatremia could be used as a marker of osteoporosis and systemic disease. INTRODUCTION: The objective of this study was to evaluate the association between hyponatremia and osteoporosis in humans through a cross-sectional study. METHODS: Patient information was gathered from regional and national Danish patient databases, both in- and outpatient settings, from 2004 to 2011. Patients with dual-energy x-ray absorptiometry (DXA) scans performed within this time were included if accompanied [Na+] was measured within 14 days prior or past the scan date. A total of 1575 patients were included. RESULTS: A total of 104 patients were hyponatremic (6.6 %). Total hip and lumbar spine bone mineral content (BMC) and densities (BMD) and T-scores were all significantly lower with hyponatremia. The odds ratio (OR) of osteoporosis significantly increased among hyponatremic patients at both total hip (unadjusted OR = 2.17, 95% CI =\\u2009[1.40-3.34], p <\\u2009.05) and lumbar spine (unadjusted OR = 1.83, 95% CI =\\u2009[1.20-2.80], p <\\u2009.05) regions. Dose-response found between increasing [Na+] and increasing total hip BMC (slope .174, adjusted p <\\u2009.05), BMD (slope .004, adjusted p <\\u2009.05), and T-score (slope .034, adjusted p <\\u2009.05). Systemic disease was more prevalent in hyponatremia. CONCLUSION: The presence of hyponatremia increases the risk of concurrent osteoporosis at both the total hip and lumbar spine in humans. Hyponatremia could be used a screening tool and marker of secondary osteoporosis.'}]"
      ]
     },
     "metadata": {},
     "execution_count": 23
    }
   ],
   "source": [
    "uids = ['29569152', '28197643', '27848006', '26679436', '26659068', '26223424', '25466529']\n",
    "entrez_construct_abstract_dict( uids )"
   ]
  },
  {
   "source": [
    "## Elink"
   ],
   "cell_type": "markdown",
   "metadata": {}
  },
  {
   "cell_type": "code",
   "execution_count": 24,
   "metadata": {},
   "outputs": [],
   "source": [
    "def entrez_fetch_full_text_linkout(uid_list):\n",
    "    import requests\n",
    "    query = \",\".join(uid_list)\n",
    "    result = requests.get(\"https://eutils.ncbi.nlm.nih.gov/entrez/eutils/elink.fcgi?dbfrom=pubmed&id=\" + query + \"&cmd=prlinks&retmode=json\").json()\n",
    "    #pretty_print_json( result.json() )\n",
    "    return result"
   ]
  },
  {
   "cell_type": "code",
   "execution_count": 25,
   "metadata": {},
   "outputs": [
    {
     "output_type": "execute_result",
     "data": {
      "text/plain": [
       "{'header': {'type': 'elink', 'version': '0.3'},\n",
       " 'linksets': [{'dbfrom': 'pubmed',\n",
       "   'idurllist': [{'id': '29569152',\n",
       "     'objurls': [{'url': {'value': 'https://doi.org/10.1007/s00198-018-4467-z'},\n",
       "       'iconurl': {'lng': 'EN',\n",
       "        'value': '//www.ncbi.nlm.nih.gov/corehtml/query/egifs/http:--production.springer.de-OnlineResources-Logos-springerlink.gif'},\n",
       "       'subjecttypes': ['publishers/providers'],\n",
       "       'categories': ['Full Text Sources'],\n",
       "       'attributes': ['full-text online',\n",
       "        'publisher of information in url',\n",
       "        'subscription/membership/fee required'],\n",
       "       'provider': {'name': 'Springer',\n",
       "        'nameabbr': 'Springer',\n",
       "        'id': '3055',\n",
       "        'url': {'lng': 'EN', 'value': 'http://www.springeronline.com/'}}}]},\n",
       "    {'id': '28197643',\n",
       "     'objurls': [{'url': {'value': 'https://dx.doi.org/10.1007/s00223-017-0238-7'},\n",
       "       'iconurl': {'lng': 'EN',\n",
       "        'value': '//www.ncbi.nlm.nih.gov/corehtml/query/egifs/http:--production.springer.de-OnlineResources-Logos-springerlink.gif'},\n",
       "       'subjecttypes': ['publishers/providers'],\n",
       "       'categories': ['Full Text Sources'],\n",
       "       'attributes': ['full-text online',\n",
       "        'publisher of information in url',\n",
       "        'subscription/membership/fee required'],\n",
       "       'provider': {'name': 'Springer',\n",
       "        'nameabbr': 'Springer',\n",
       "        'id': '3055',\n",
       "        'url': {'lng': 'EN', 'value': 'http://www.springeronline.com/'}}}]},\n",
       "    {'id': '27848006',\n",
       "     'objurls': [{'url': {'value': 'https://doi.org/10.1007/s00198-016-3828-8'},\n",
       "       'iconurl': {'lng': 'EN',\n",
       "        'value': '//www.ncbi.nlm.nih.gov/corehtml/query/egifs/http:--production.springer.de-OnlineResources-Logos-springerlink.gif'},\n",
       "       'subjecttypes': ['publishers/providers'],\n",
       "       'categories': ['Full Text Sources'],\n",
       "       'attributes': ['full-text online',\n",
       "        'publisher of information in url',\n",
       "        'subscription/membership/fee required'],\n",
       "       'provider': {'name': 'Springer',\n",
       "        'nameabbr': 'Springer',\n",
       "        'id': '3055',\n",
       "        'url': {'lng': 'EN', 'value': 'http://www.springeronline.com/'}}}]},\n",
       "    {'id': '26679436',\n",
       "     'objurls': [{'url': {'value': 'https://linkinghub.elsevier.com/retrieve/pii/S8756-3282(15)00424-X'},\n",
       "       'iconurl': {'lng': 'EN',\n",
       "        'value': '//www.ncbi.nlm.nih.gov/corehtml/query/egifs/https:--linkinghub.elsevier.com-ihub-images-PubMedLink.gif'},\n",
       "       'subjecttypes': ['publishers/providers'],\n",
       "       'categories': ['Full Text Sources'],\n",
       "       'attributes': ['full-text online',\n",
       "        'publisher of information in url',\n",
       "        'subscription/membership/fee required'],\n",
       "       'provider': {'name': 'Elsevier Science',\n",
       "        'nameabbr': 'ES',\n",
       "        'id': '3048',\n",
       "        'url': {'lng': 'EN', 'value': 'http://www.elsevier.com/'}}}]},\n",
       "    {'id': '26659068',\n",
       "     'objurls': [{'url': {'value': 'https://doi.org/10.1007/s00198-015-3451-0'},\n",
       "       'iconurl': {'lng': 'EN',\n",
       "        'value': '//www.ncbi.nlm.nih.gov/corehtml/query/egifs/http:--production.springer.de-OnlineResources-Logos-springerlink.gif'},\n",
       "       'subjecttypes': ['publishers/providers'],\n",
       "       'categories': ['Full Text Sources'],\n",
       "       'attributes': ['full-text online',\n",
       "        'publisher of information in url',\n",
       "        'subscription/membership/fee required'],\n",
       "       'provider': {'name': 'Springer',\n",
       "        'nameabbr': 'Springer',\n",
       "        'id': '3055',\n",
       "        'url': {'lng': 'EN', 'value': 'http://www.springeronline.com/'}}}]},\n",
       "    {'id': '26223424',\n",
       "     'objurls': [{'url': {'value': 'https://doi.org/10.1111/joim.12397'},\n",
       "       'iconurl': {'lng': 'EN',\n",
       "        'value': '//www.ncbi.nlm.nih.gov/corehtml/query/egifs/http:--media.wiley.com-assets-7388-68-wiley-free-full-text.png'},\n",
       "       'subjecttypes': ['publishers/providers'],\n",
       "       'categories': ['Full Text Sources'],\n",
       "       'attributes': ['free resource',\n",
       "        'full-text online',\n",
       "        'publisher of information in url'],\n",
       "       'provider': {'name': 'Wiley',\n",
       "        'nameabbr': 'Wiley',\n",
       "        'id': '3058',\n",
       "        'url': {'lng': 'EN', 'value': 'https://onlinelibrary.wiley.com/'}}}]},\n",
       "    {'id': '25466529',\n",
       "     'objurls': [{'url': {'value': 'https://doi.org/10.1007/s00198-014-2973-1'},\n",
       "       'iconurl': {'lng': 'EN',\n",
       "        'value': '//www.ncbi.nlm.nih.gov/corehtml/query/egifs/http:--production.springer.de-OnlineResources-Logos-springerlink.gif'},\n",
       "       'subjecttypes': ['publishers/providers'],\n",
       "       'categories': ['Full Text Sources'],\n",
       "       'attributes': ['full-text online',\n",
       "        'publisher of information in url',\n",
       "        'subscription/membership/fee required'],\n",
       "       'provider': {'name': 'Springer',\n",
       "        'nameabbr': 'Springer',\n",
       "        'id': '3055',\n",
       "        'url': {'lng': 'EN', 'value': 'http://www.springeronline.com/'}}}]}]}]}"
      ]
     },
     "metadata": {},
     "execution_count": 25
    }
   ],
   "source": [
    "results_Elink = entrez_fetch_full_text_linkout(uids)\n",
    "results_Elink"
   ]
  },
  {
   "cell_type": "code",
   "execution_count": 42,
   "metadata": {},
   "outputs": [
    {
     "output_type": "execute_result",
     "data": {
      "text/plain": [
       "[{'uid': '29569152', 'url': 'https://doi.org/10.1007/s00198-018-4467-z'},\n",
       " {'uid': '28197643', 'url': 'https://dx.doi.org/10.1007/s00223-017-0238-7'},\n",
       " {'uid': '27848006', 'url': 'https://doi.org/10.1007/s00198-016-3828-8'},\n",
       " {'uid': '26679436',\n",
       "  'url': 'https://linkinghub.elsevier.com/retrieve/pii/S8756-3282(15)00424-X'},\n",
       " {'uid': '26659068', 'url': 'https://doi.org/10.1007/s00198-015-3451-0'},\n",
       " {'uid': '26223424', 'url': 'https://doi.org/10.1111/joim.12397'},\n",
       " {'uid': '25466529', 'url': 'https://doi.org/10.1007/s00198-014-2973-1'}]"
      ]
     },
     "metadata": {},
     "execution_count": 42
    }
   ],
   "source": [
    "def parse_results_Elink(elink_results):\n",
    "    elink_results = elink_results['linksets'][0]['idurllist']\n",
    "    return [ { 'uid' : result['id'], 'url' : result['objurls'][0]['url']['value'] } for result in elink_results ]\n",
    "parse_results_Elink(results_Elink)"
   ]
  },
  {
   "source": [
    "# Essentials to pandas dataframe"
   ],
   "cell_type": "markdown",
   "metadata": {}
  },
  {
   "cell_type": "code",
   "execution_count": null,
   "metadata": {},
   "outputs": [],
   "source": []
  }
 ]
}