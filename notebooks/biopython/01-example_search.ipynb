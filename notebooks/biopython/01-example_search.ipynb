{
 "metadata": {
  "language_info": {
   "codemirror_mode": {
    "name": "ipython",
    "version": 3
   },
   "file_extension": ".py",
   "mimetype": "text/x-python",
   "name": "python",
   "nbconvert_exporter": "python",
   "pygments_lexer": "ipython3",
   "version": "3.7.6-final"
  },
  "orig_nbformat": 2,
  "kernelspec": {
   "name": "python3",
   "display_name": "Python 3",
   "language": "python"
  }
 },
 "nbformat": 4,
 "nbformat_minor": 2,
 "cells": [
  {
   "source": [
    "# Biopython-Entrez\n",
    "##  Search"
   ],
   "cell_type": "markdown",
   "metadata": {}
  },
  {
   "cell_type": "code",
   "execution_count": 72,
   "metadata": {},
   "outputs": [],
   "source": [
    "from Bio import Entrez\n",
    "import json\n",
    "from bs4 import BeautifulSoup as bs\n",
    "import lxml\n",
    "Entrez.email = \"XXX@YYY.com\"\n",
    "handle = Entrez.esearch(db=\"pubmed\", retmax=10, term=\"kruse eiken vestergaard\", idtype=\"acc\")\n",
    "record = Entrez.read(handle)\n",
    "handle.close()"
   ]
  },
  {
   "cell_type": "code",
   "execution_count": 43,
   "metadata": {},
   "outputs": [],
   "source": [
    "def pretty_print_json(json_):\n",
    "    print(json.dumps(json_, indent=4, sort_keys=True))"
   ]
  },
  {
   "cell_type": "code",
   "execution_count": 73,
   "metadata": {},
   "outputs": [
    {
     "output_type": "execute_result",
     "data": {
      "text/plain": [
       "['29569152', '28197643', '27848006', '26679436', '26659068', '26223424', '25466529']"
      ]
     },
     "metadata": {},
     "execution_count": 73
    }
   ],
   "source": [
    "record['IdList']"
   ]
  },
  {
   "source": [
    "## Summary"
   ],
   "cell_type": "markdown",
   "metadata": {}
  },
  {
   "cell_type": "code",
   "execution_count": 46,
   "metadata": {},
   "outputs": [
    {
     "output_type": "stream",
     "name": "stdout",
     "text": [
      "{\n    \"ArticleIds\": {\n        \"doi\": \"10.1007/s00198-018-4467-z\",\n        \"eid\": \"29569152\",\n        \"medline\": [],\n        \"pii\": \"10.1007/s00198-018-4467-z\",\n        \"pubmed\": [\n            \"29569152\"\n        ],\n        \"rid\": \"29569152\"\n    },\n    \"AuthorList\": [\n        \"Kruse C\",\n        \"Goemaere S\",\n        \"De Buyser S\",\n        \"Lapauw B\",\n        \"Eiken P\",\n        \"Vestergaard P\"\n    ],\n    \"DOI\": \"10.1007/s00198-018-4467-z\",\n    \"ELocationID\": \"doi: 10.1007/s00198-018-4467-z\",\n    \"EPubDate\": \"2018 Mar 22\",\n    \"ESSN\": \"1433-2965\",\n    \"FullJournalName\": \"Osteoporosis international : a journal established as result of cooperation between the European Foundation for Osteoporosis and the National Osteoporosis Foundation of the USA\",\n    \"HasAbstract\": 1,\n    \"History\": {\n        \"accepted\": \"2018/02/25 00:00\",\n        \"entrez\": \"2018/03/24 06:00\",\n        \"medline\": [\n            \"2019/10/24 06:00\"\n        ],\n        \"pubmed\": [\n            \"2018/03/24 06:00\"\n        ],\n        \"received\": \"2017/07/16 00:00\"\n    },\n    \"ISSN\": \"0937-941X\",\n    \"Id\": \"29569152\",\n    \"Issue\": \"6\",\n    \"Item\": [],\n    \"LangList\": [\n        \"English\"\n    ],\n    \"LastAuthor\": \"Vestergaard P\",\n    \"NlmUniqueID\": \"9100105\",\n    \"Pages\": \"1437-1445\",\n    \"PmcRefCount\": 1,\n    \"PubDate\": \"2018 Jun\",\n    \"PubStatus\": \"ppublish+epublish\",\n    \"PubTypeList\": [\n        \"Journal Article\"\n    ],\n    \"RecordStatus\": \"PubMed - indexed for MEDLINE\",\n    \"References\": [],\n    \"SO\": \"2018 Jun;29(6):1437-1445\",\n    \"Source\": \"Osteoporos Int\",\n    \"Title\": \"Predicting mortality and incident immobility in older Belgian men by characteristics related to sarcopenia and frailty.\",\n    \"Volume\": \"29\"\n}\n"
     ]
    }
   ],
   "source": [
    "handle = Entrez.esummary(db=\"pubmed\", id=\"29569152\")\n",
    "record = Entrez.read(handle)\n",
    "pretty_print_json( record[0] )"
   ]
  },
  {
   "source": [
    "## Fetch"
   ],
   "cell_type": "markdown",
   "metadata": {}
  },
  {
   "cell_type": "code",
   "execution_count": 84,
   "metadata": {},
   "outputs": [],
   "source": [
    "#uid = \"29569152\"\n",
    "uid = record['IdList']\n",
    "handle = Entrez.efetch(db=\"pubmed\", id=uid, rettype='Medline', retmode='xml')\n",
    "result = handle.readlines()\n",
    "result = \"\".join(result)\n",
    "bs_content = bs(result, \"lxml\")\n",
    "handle.close()"
   ]
  },
  {
   "source": [
    "Use the 'abstract' parent and from that, iterate over the abstracttext to one string:"
   ],
   "cell_type": "markdown",
   "metadata": {}
  },
  {
   "cell_type": "code",
   "execution_count": 116,
   "metadata": {},
   "outputs": [
    {
     "output_type": "execute_result",
     "data": {
      "text/plain": [
       "7"
      ]
     },
     "metadata": {},
     "execution_count": 116
    }
   ],
   "source": [
    "len( bs_content.find_all('abstract') )"
   ]
  },
  {
   "source": [
    "Exemplified by the first record:"
   ],
   "cell_type": "markdown",
   "metadata": {}
  },
  {
   "cell_type": "code",
   "execution_count": 115,
   "metadata": {},
   "outputs": [
    {
     "output_type": "execute_result",
     "data": {
      "text/plain": [
       "<abstract>\n",
       "<abstracttext>There is an increasing awareness of sarcopenia in older people. We applied machine learning principles to predict mortality and incident immobility in older Belgian men through sarcopenia and frailty characteristics. Mortality could be predicted with good accuracy. Serum 25-hydroxyvitamin D and bone mineral density scores were the most important predictors.</abstracttext>\n",
       "<abstracttext label=\"INTRODUCTION\" nlmcategory=\"BACKGROUND\">Machine learning principles were used to predict 5-year mortality and 3-year incident severe immobility in a population of older men by frailty and sarcopenia characteristics.</abstracttext>\n",
       "<abstracttext label=\"METHODS\" nlmcategory=\"METHODS\">Using prospective data from 1997 on 264 older Belgian men (n = 152 predictors), 29 statistical models were developed and tuned on 75% of data points then validated on the remaining 25%. The model with the highest test area under the curve (AUC) was chosen as the best. From these, ranked predictor importance was extracted.</abstracttext>\n",
       "<abstracttext label=\"RESULTS\" nlmcategory=\"RESULTS\">Five-year mortality could be predicted with good accuracy (test AUC of .85 [.73; .97], sensitivity 78%, specificity 89% at a probability cut-off of 22.3%) using a Bayesian generalized linear model. Three-year incident severe immobility could be predicted with fair accuracy (test AUC .74 [.57; .91], sensitivity 67%, specificity 78% at a probability cut-off of 14.2%) using a multivariate adaptive regression splines model. Serum 25-hydroxyvitamin D levels and hip bone mineral density scores were the most important predictors of mortality, while biochemical androgen markers and Short-Form 36 Physical Domain questions were the most important predictors of immobility. Sarcopenia assessed by lean mass estimates was relevant to mortality prediction but not immobility prediction.</abstracttext>\n",
       "<abstracttext label=\"CONCLUSIONS\" nlmcategory=\"CONCLUSIONS\">Using advanced statistical models and a machine learning approach 5-year mortality can be predicted with good accuracy using a Bayesian generalized linear model and 3-year incident severe immobility with fair accuracy using a multivariate adaptive regression splines model.</abstracttext>\n",
       "</abstract>"
      ]
     },
     "metadata": {},
     "execution_count": 115
    }
   ],
   "source": [
    "bs_content.find_all('abstract')[0]"
   ]
  },
  {
   "source": [
    "Use '.text' to extract the actual value.\n",
    "### TODO: Maybe extract the labels too?"
   ],
   "cell_type": "markdown",
   "metadata": {}
  },
  {
   "cell_type": "code",
   "execution_count": 114,
   "metadata": {},
   "outputs": [
    {
     "output_type": "execute_result",
     "data": {
      "text/plain": [
       "'There is an increasing awareness of sarcopenia in older people. We applied machine learning principles to predict mortality and incident immobility in older Belgian men through sarcopenia and frailty characteristics. Mortality could be predicted with good accuracy. Serum 25-hydroxyvitamin D and bone mineral density scores were the most important predictors.'"
      ]
     },
     "metadata": {},
     "execution_count": 114
    }
   ],
   "source": [
    "bs_content.find_all('abstract')[0].find_all('abstracttext')[0].text"
   ]
  },
  {
   "source": [
    "## Loop example: to create one abstract:"
   ],
   "cell_type": "markdown",
   "metadata": {}
  },
  {
   "cell_type": "code",
   "execution_count": 127,
   "metadata": {},
   "outputs": [
    {
     "output_type": "execute_result",
     "data": {
      "text/plain": [
       "'There is an increasing awareness of sarcopenia in older people. We applied machine learning principles to predict mortality and incident immobility in older Belgian men through sarcopenia and frailty characteristics. Mortality could be predicted with good accuracy. Serum 25-hydroxyvitamin D and bone mineral density scores were the most important predictors. INTRODUCTION: Machine learning principles were used to predict 5-year mortality and 3-year incident severe immobility in a population of older men by frailty and sarcopenia characteristics. METHODS: Using prospective data from 1997 on 264 older Belgian men (n\\u2009=\\u2009152 predictors), 29 statistical models were developed and tuned on 75% of data points then validated on the remaining 25%. The model with the highest test area under the curve (AUC) was chosen as the best. From these, ranked predictor importance was extracted. RESULTS: Five-year mortality could be predicted with good accuracy (test AUC of .85 [.73; .97], sensitivity 78%, specificity 89% at a probability cut-off of 22.3%) using a Bayesian generalized linear model. Three-year incident severe immobility could be predicted with fair accuracy (test AUC .74 [.57; .91], sensitivity 67%, specificity 78% at a probability cut-off of 14.2%) using a multivariate adaptive regression splines model. Serum 25-hydroxyvitamin D levels and hip bone mineral density scores were the most important predictors of mortality, while biochemical androgen markers and Short-Form 36 Physical Domain questions were the most important predictors of immobility. Sarcopenia assessed by lean mass estimates was relevant to mortality prediction but not immobility prediction. CONCLUSIONS: Using advanced statistical models and a machine learning approach 5-year mortality can be predicted with good accuracy using a Bayesian generalized linear model and 3-year incident severe immobility with fair accuracy using a multivariate adaptive regression splines model.'"
      ]
     },
     "metadata": {},
     "execution_count": 127
    }
   ],
   "source": [
    "abstract = ''\n",
    "for abstractText in bs_content.find_all('abstract')[0].find_all('abstracttext'):\n",
    "    if abstractText.get('label') != None:\n",
    "        abstract = abstract + \" \" + abstractText.get('label') + \": \"\n",
    "    abstract = abstract + abstractText.text\n",
    "abstract"
   ]
  },
  {
   "cell_type": "code",
   "execution_count": null,
   "metadata": {},
   "outputs": [],
   "source": []
  },
  {
   "cell_type": "code",
   "execution_count": null,
   "metadata": {},
   "outputs": [],
   "source": []
  }
 ]
}