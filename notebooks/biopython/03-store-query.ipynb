{
 "metadata": {
  "language_info": {
   "codemirror_mode": {
    "name": "ipython",
    "version": 3
   },
   "file_extension": ".py",
   "mimetype": "text/x-python",
   "name": "python",
   "nbconvert_exporter": "python",
   "pygments_lexer": "ipython3",
   "version": "3.8.8"
  },
  "orig_nbformat": 2,
  "kernelspec": {
   "name": "python388jvsc74a57bd0db8c33e37b4d85990d3830e1b454a98f3634fc126ad97d7dcd45a1752ca4c3f7",
   "display_name": "Python 3.8.8 64-bit ('rapids-0.18': conda)"
  },
  "metadata": {
   "interpreter": {
    "hash": "db8c33e37b4d85990d3830e1b454a98f3634fc126ad97d7dcd45a1752ca4c3f7"
   }
  }
 },
 "nbformat": 4,
 "nbformat_minor": 2,
 "cells": [
  {
   "source": [
    "# Biopython store entire query to mongoDB\n",
    "\n",
    "Storing entire query in mongoDB database."
   ],
   "cell_type": "markdown",
   "metadata": {}
  },
  {
   "cell_type": "code",
   "execution_count": 92,
   "metadata": {},
   "outputs": [],
   "source": [
    "from Bio import Entrez\n",
    "import json\n",
    "from bs4 import BeautifulSoup as bs\n",
    "import lxml\n",
    "import json"
   ]
  },
  {
   "source": [
    "# Functions from API"
   ],
   "cell_type": "markdown",
   "metadata": {}
  },
  {
   "cell_type": "code",
   "execution_count": 93,
   "metadata": {},
   "outputs": [],
   "source": [
    "def entrez_search_pubmed(query,records_per_query=10,email=\"XXX@YYY.com\"):\n",
    "    from Bio import Entrez\n",
    "    Entrez.email = email\n",
    "    # Search\n",
    "    handle = Entrez.esearch(db=\"pubmed\",term=query, idtype=\"acc\")\n",
    "    record = Entrez.read(handle)\n",
    "    handle.close()\n",
    "    return record"
   ]
  },
  {
   "cell_type": "code",
   "execution_count": 94,
   "metadata": {},
   "outputs": [],
   "source": [
    "def entrez_fetch_list_summary(uid_list,email):\n",
    "        from Bio import Entrez\n",
    "        Entrez.email = email\n",
    "        results = [ Entrez.read( Entrez.esummary(db=\"pubmed\", id=uid) ) for uid in uid_list ]\n",
    "        return [{'uid':a, 'summary':b} for a,b in zip(uid_list, results)]\n",
    "        return results"
   ]
  },
  {
   "cell_type": "code",
   "execution_count": 95,
   "metadata": {},
   "outputs": [],
   "source": [
    "def flatten_abstract(abstract_xml):\n",
    "    abstract = ''\n",
    "    for abstractText in abstract_xml.find_all('abstracttext'):\n",
    "        if abstractText.get('label') != None:\n",
    "            abstract = abstract + \" \" + abstractText.get('label') + \": \"\n",
    "        abstract = abstract + abstractText.text\n",
    "    return abstract"
   ]
  },
  {
   "cell_type": "code",
   "execution_count": 96,
   "metadata": {},
   "outputs": [],
   "source": [
    "def entrez_fetch_abstracts(uid,email):\n",
    "    from Bio import Entrez\n",
    "    from bs4 import BeautifulSoup as bs\n",
    "    Entrez.email = email\n",
    "    handle = Entrez.efetch(db=\"pubmed\", id=uid, rettype='Medline', retmode='xml')\n",
    "    result = handle.readlines()\n",
    "    result = b\"\".join(result)\n",
    "    bs_content = bs(result, \"lxml\")\n",
    "    abstracts = bs_content.find_all('abstract')\n",
    "    handle.close()\n",
    "    # Abstract\n",
    "    results = [ flatten_abstract(abstract) for abstract in abstracts]\n",
    "    return results"
   ]
  },
  {
   "cell_type": "code",
   "execution_count": 97,
   "metadata": {},
   "outputs": [],
   "source": [
    "def entrez_construct_abstract_dict(uids,email):\n",
    "        results = entrez_fetch_abstracts( uids, email )\n",
    "        return [{'uid':a, 'abstract':b} for a,b in zip(uids, results)]"
   ]
  },
  {
   "cell_type": "code",
   "execution_count": 98,
   "metadata": {},
   "outputs": [],
   "source": [
    "def entrez_fetch_full_text_linkout(uid_list):\n",
    "        import requests\n",
    "        query = \",\".join(uid_list)\n",
    "        result = requests.get(\"https://eutils.ncbi.nlm.nih.gov/entrez/eutils/elink.fcgi?dbfrom=pubmed&id=\" + query + \"&cmd=prlinks&retmode=json\").json()\n",
    "        results_parsed = result['linksets'][0]['idurllist']\n",
    "        return [{ 'uid': result['id'], 'objurls' : result['objurls']} for result in results_parsed]"
   ]
  },
  {
   "source": [
    "## Procedure to fetch"
   ],
   "cell_type": "markdown",
   "metadata": {}
  },
  {
   "cell_type": "code",
   "execution_count": 99,
   "metadata": {},
   "outputs": [
    {
     "output_type": "execute_result",
     "data": {
      "text/plain": [
       "['29569152', '28197643', '27848006', '26679436', '26659068', '26223424', '25466529']"
      ]
     },
     "metadata": {},
     "execution_count": 99
    }
   ],
   "source": [
    "query_body={ \"query\": \"kruse eiken vestergaard\", 'email' : \"XXX@YYY.com\" }\n",
    "## Query search\n",
    "results_query = entrez_search_pubmed(query = query_body['query'], email = query_body['email'] )\n",
    "uids = results_query['IdList']\n",
    "uids"
   ]
  },
  {
   "cell_type": "code",
   "execution_count": 100,
   "metadata": {},
   "outputs": [
    {
     "output_type": "execute_result",
     "data": {
      "text/plain": [
       "{'uid': '29569152',\n",
       " 'summary': [{'Item': [], 'Id': '29569152', 'PubDate': '2018 Jun', 'EPubDate': '2018 Mar 22', 'Source': 'Osteoporos Int', 'AuthorList': ['Kruse C', 'Goemaere S', 'De Buyser S', 'Lapauw B', 'Eiken P', 'Vestergaard P'], 'LastAuthor': 'Vestergaard P', 'Title': 'Predicting mortality and incident immobility in older Belgian men by characteristics related to sarcopenia and frailty.', 'Volume': '29', 'Issue': '6', 'Pages': '1437-1445', 'LangList': ['English'], 'NlmUniqueID': '9100105', 'ISSN': '0937-941X', 'ESSN': '1433-2965', 'PubTypeList': ['Journal Article'], 'RecordStatus': 'PubMed - indexed for MEDLINE', 'PubStatus': 'ppublish+epublish', 'ArticleIds': {'pubmed': ['29569152'], 'medline': [], 'doi': '10.1007/s00198-018-4467-z', 'pii': '10.1007/s00198-018-4467-z', 'rid': '29569152', 'eid': '29569152'}, 'DOI': '10.1007/s00198-018-4467-z', 'History': {'pubmed': ['2018/03/24 06:00'], 'medline': ['2019/10/24 06:00'], 'received': '2017/07/16 00:00', 'accepted': '2018/02/25 00:00', 'entrez': '2018/03/24 06:00'}, 'References': [], 'HasAbstract': IntegerElement(1, attributes={}), 'PmcRefCount': IntegerElement(1, attributes={}), 'FullJournalName': 'Osteoporosis international : a journal established as result of cooperation between the European Foundation for Osteoporosis and the National Osteoporosis Foundation of the USA', 'ELocationID': 'doi: 10.1007/s00198-018-4467-z', 'SO': '2018 Jun;29(6):1437-1445'}]}"
      ]
     },
     "metadata": {},
     "execution_count": 100
    }
   ],
   "source": [
    "## Summary\n",
    "results_summary = entrez_fetch_list_summary(uids,\"XXX@YYY.com\")\n",
    "results_summary[0]"
   ]
  },
  {
   "cell_type": "code",
   "execution_count": 101,
   "metadata": {},
   "outputs": [
    {
     "output_type": "execute_result",
     "data": {
      "text/plain": [
       "{'uid': '29569152',\n",
       " 'abstract': 'There is an increasing awareness of sarcopenia in older people. We applied machine learning principles to predict mortality and incident immobility in older Belgian men through sarcopenia and frailty characteristics. Mortality could be predicted with good accuracy. Serum 25-hydroxyvitamin D and bone mineral density scores were the most important predictors. INTRODUCTION: Machine learning principles were used to predict 5-year mortality and 3-year incident severe immobility in a population of older men by frailty and sarcopenia characteristics. METHODS: Using prospective data from 1997 on 264 older Belgian men (n\\u2009=\\u2009152 predictors), 29 statistical models were developed and tuned on 75% of data points then validated on the remaining 25%. The model with the highest test area under the curve (AUC) was chosen as the best. From these, ranked predictor importance was extracted. RESULTS: Five-year mortality could be predicted with good accuracy (test AUC of .85 [.73; .97], sensitivity 78%, specificity 89% at a probability cut-off of 22.3%) using a Bayesian generalized linear model. Three-year incident severe immobility could be predicted with fair accuracy (test AUC .74 [.57; .91], sensitivity 67%, specificity 78% at a probability cut-off of 14.2%) using a multivariate adaptive regression splines model. Serum 25-hydroxyvitamin D levels and hip bone mineral density scores were the most important predictors of mortality, while biochemical androgen markers and Short-Form 36 Physical Domain questions were the most important predictors of immobility. Sarcopenia assessed by lean mass estimates was relevant to mortality prediction but not immobility prediction. CONCLUSIONS: Using advanced statistical models and a machine learning approach 5-year mortality can be predicted with good accuracy using a Bayesian generalized linear model and 3-year incident severe immobility with fair accuracy using a multivariate adaptive regression splines model.'}"
      ]
     },
     "metadata": {},
     "execution_count": 101
    }
   ],
   "source": [
    "## Abstract\n",
    "results_abstracts = entrez_construct_abstract_dict(uids,\"XXX@YYY.com\")\n",
    "results_abstracts[0]"
   ]
  },
  {
   "cell_type": "code",
   "execution_count": 102,
   "metadata": {},
   "outputs": [
    {
     "output_type": "execute_result",
     "data": {
      "text/plain": [
       "{'uid': '29569152',\n",
       " 'objurls': [{'url': {'value': 'https://doi.org/10.1007/s00198-018-4467-z'},\n",
       "   'iconurl': {'lng': 'EN',\n",
       "    'value': '//www.ncbi.nlm.nih.gov/corehtml/query/egifs/http:--production.springer.de-OnlineResources-Logos-springerlink.gif'},\n",
       "   'subjecttypes': ['publishers/providers'],\n",
       "   'categories': ['Full Text Sources'],\n",
       "   'attributes': ['full-text online',\n",
       "    'publisher of information in url',\n",
       "    'subscription/membership/fee required'],\n",
       "   'provider': {'name': 'Springer',\n",
       "    'nameabbr': 'Springer',\n",
       "    'id': '3055',\n",
       "    'url': {'lng': 'EN', 'value': 'http://www.springeronline.com/'}}}]}"
      ]
     },
     "metadata": {},
     "execution_count": 102
    }
   ],
   "source": [
    "## Elink\n",
    "results_elink = entrez_fetch_full_text_linkout(uids)\n",
    "results_elink[0]"
   ]
  },
  {
   "source": [
    "# Store to mongoDB"
   ],
   "cell_type": "markdown",
   "metadata": {}
  },
  {
   "cell_type": "code",
   "execution_count": 111,
   "metadata": {},
   "outputs": [
    {
     "output_type": "stream",
     "name": "stderr",
     "text": [
      "2021-05-12 11:43:48.071 | INFO     | __main__:<module>:5 - ['admin', 'config', 'local']\n"
     ]
    }
   ],
   "source": [
    "from pymongo import MongoClient\n",
    "from loguru import logger\n",
    "#client = MongoClient('mongodb', 27017)\n",
    "client = MongoClient('127.0.0.1', 27017)\n",
    "logger.info(client.list_database_names())"
   ]
  },
  {
   "cell_type": "code",
   "execution_count": null,
   "metadata": {},
   "outputs": [],
   "source": [
    "def entrez_mongodb_create_dictionaries(uid-):3\n",
    "    from pymongo import MongoClient\n",
    "    from loguru import logger\n",
    "    #client = MongoClient('mongodb', 27017)\n",
    "    client = MongoClient('127.0.0.1', 27017)\n",
    "    logger.info(client.list_database_names())\n"
   ]
  }
 ]
}