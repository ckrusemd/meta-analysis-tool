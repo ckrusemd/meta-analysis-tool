{
 "cells": [
  {
   "source": [
    "# Grab Pubmed Abstracts"
   ],
   "cell_type": "markdown",
   "metadata": {}
  },
  {
   "source": [
    "## Functions"
   ],
   "cell_type": "markdown",
   "metadata": {}
  },
  {
   "cell_type": "code",
   "execution_count": 29,
   "metadata": {},
   "outputs": [],
   "source": [
    "from Bio import Entrez\n",
    "import json\n",
    "from bs4 import BeautifulSoup as bs\n",
    "import lxml\n",
    "import json\n",
    "import numpy as np\n",
    "from tqdm import tqdm\n",
    "import pandas as pd\n",
    "import semanticscholar as sch"
   ]
  },
  {
   "cell_type": "code",
   "execution_count": 30,
   "metadata": {},
   "outputs": [],
   "source": [
    "def entrez_search_pubmed(query,records_per_query=10,email=\"XXX@YYY.com\",retMax=100):\n",
    "    from Bio import Entrez\n",
    "    Entrez.email = email\n",
    "    # Search\n",
    "    handle = Entrez.esearch(db=\"pubmed\",term=query, idtype=\"acc\", retMax=retMax,mindate='2020/05',maxdate='2020/06')\n",
    "    record = Entrez.read(handle)\n",
    "    handle.close()\n",
    "    return record"
   ]
  },
  {
   "cell_type": "code",
   "execution_count": 31,
   "metadata": {},
   "outputs": [],
   "source": [
    "def flatten_abstract(abstract_xml):\n",
    "    abstract = ''\n",
    "    for abstractText in abstract_xml.find_all('abstracttext'):\n",
    "        if abstractText.get('label') != None:\n",
    "            abstract = abstract + \" \" + abstractText.get('label') + \": \"\n",
    "        abstract = abstract + abstractText.text\n",
    "    return abstract"
   ]
  },
  {
   "cell_type": "code",
   "execution_count": 32,
   "metadata": {},
   "outputs": [],
   "source": [
    "def entrez_fetch_abstracts(uid,email):\n",
    "    from Bio import Entrez\n",
    "    from bs4 import BeautifulSoup as bs\n",
    "    Entrez.email = email\n",
    "    handle = Entrez.efetch(db=\"pubmed\", id=uid, rettype='Medline', retmode='xml')\n",
    "    result = handle.readlines()\n",
    "    result = b\"\".join(result)\n",
    "    bs_content = bs(result, \"lxml\")\n",
    "    abstracts = bs_content.find_all('abstract')\n",
    "    handle.close()\n",
    "    # Abstract\n",
    "    results = [ flatten_abstract(abstract) for abstract in abstracts]\n",
    "    return results"
   ]
  },
  {
   "cell_type": "code",
   "execution_count": 33,
   "metadata": {},
   "outputs": [],
   "source": [
    "def entrez_construct_abstract_dict(uids,email):\n",
    "        results = entrez_fetch_abstracts( uids, email )\n",
    "        return [{'uid':a, 'abstract':b, 'include':''} for a,b in zip(uids, results)]"
   ]
  },
  {
   "cell_type": "code",
   "execution_count": 34,
   "metadata": {},
   "outputs": [],
   "source": [
    "def entrez_fetch_list_summary(uid_list):\n",
    "    from Bio import Entrez\n",
    "    results = [ Entrez.read( Entrez.esummary(db=\"pubmed\", id=uid) ) for uid in uid_list ]\n",
    "    return results"
   ]
  },
  {
   "source": [
    "## Query"
   ],
   "cell_type": "markdown",
   "metadata": {}
  },
  {
   "cell_type": "code",
   "execution_count": 35,
   "metadata": {},
   "outputs": [],
   "source": [
    "query_body={ \"query\": \"\\\"COVID-19\\\"[Mesh]\", 'email' : \"XXX@YYY.com\" }\n",
    "## Query search\n",
    "results_query = entrez_search_pubmed(query = query_body['query'], email = query_body['email'], retMax=200)"
   ]
  },
  {
   "cell_type": "code",
   "execution_count": 36,
   "metadata": {},
   "outputs": [
    {
     "output_type": "execute_result",
     "data": {
      "text/plain": [
       "200"
      ]
     },
     "metadata": {},
     "execution_count": 36
    }
   ],
   "source": [
    "uids = results_query['IdList']\n",
    "len(uids)"
   ]
  },
  {
   "cell_type": "code",
   "execution_count": 37,
   "metadata": {},
   "outputs": [
    {
     "output_type": "execute_result",
     "data": {
      "text/plain": [
       "{'Count': '15599', 'RetMax': '200', 'RetStart': '0', 'IdList': ['32593259', '32593224', '32593209', '32593202', '32593196', '32593195', '32593183', '32593180', '32593144', '32593133', '32593125', '32593124', '32593122', '32593121', '32593120', '32593119', '32593116', '32593067', '32593065', '32593062', '32593060', '32593056', '32593034', '32593033', '32592975', '32592974', '32592969', '32592968', '32592967', '32592966', '32592960', '32592922', '32592919', '32592918', '32592911', '32592908', '32592904', '32592903', '32592884', '32592868', '32592866', '32592843', '32592842', '32592841', '32592840', '32592837', '32592836', '32592817', '32592816', '32592790', '32592788', '32592787', '32592761', '32592752', '32592742', '32592724', '32592716', '32592709', '32592705', '32592704', '32592703', '32592702', '32592672', '32592671', '32592670', '32592661', '32592657', '32592626', '32592625', '32592581', '32592564', '32592550', '32592539', '32592522', '32592519', '32592509', '32592508', '32592507', '32592502', '32592501', '32592498', '32592496', '32592490', '32592480', '32592475', '32592420', '32592406', '32592400', '32592396', '32592394', '32592310', '32592268', '32592230', '32592229', '32592210', '32592163', '32592160', '32592158', '32592145', '32592132', '32592118', '32592114', '32592113', '32592104', '32592085', '32592048', '32592038', '32592023', '32592021', '32591970', '32591960', '32591957', '32591913', '32591908', '32591890', '32591888', '32591880', '32591877', '32591839', '32591836', '32591771', '32591763', '32591762', '32591747', '32591714', '32591713', '32591712', '32591704', '32591703', '32591702', '32591701', '32591677', '32591672', '32591669', '32591667', '32591666', '32591665', '32591663', '32591662', '32591661', '32591659', '32591657', '32591656', '32591655', '32591654', '32591653', '32591652', '32591651', '32591496', '32591489', '32591488', '32591476', '32591466', '32591408', '32591393', '32591388', '32591346', '32591338', '32591333', '32591321', '32591320', '32591314', '32591307', '32591304', '32591296', '32591286', '32591283', '32591282', '32591269', '32591268', '32591236', '32591222', '32591213', '32591212', '32591185', '32591183', '32591182', '32591180', '32591179', '32591178', '32591177', '32591171', '32591166', '32591163', '32591152', '32591147', '32591145', '32591139', '32591132', '32591120', '32591117', '32591102', '32591101', '32591092', '32590819', '32590808', '32590779', '32590775', '32590755', '32590751'], 'TranslationSet': [], 'TranslationStack': [{'Term': '\"COVID-19\"[Mesh]', 'Field': 'Mesh', 'Count': '81822', 'Explode': 'Y'}, {'Term': '2020/05[EDAT]', 'Field': 'EDAT', 'Count': '0', 'Explode': 'N'}, {'Term': '2020/06[EDAT]', 'Field': 'EDAT', 'Count': '0', 'Explode': 'N'}, 'RANGE', 'AND'], 'QueryTranslation': '\"COVID-19\"[Mesh] AND 2020/05[EDAT] : 2020/06[EDAT]'}"
      ]
     },
     "metadata": {},
     "execution_count": 37
    }
   ],
   "source": [
    "results_query"
   ]
  },
  {
   "source": [
    "# Citations by DOI"
   ],
   "cell_type": "markdown",
   "metadata": {}
  },
  {
   "cell_type": "code",
   "execution_count": 38,
   "metadata": {},
   "outputs": [],
   "source": [
    "result_summaries = entrez_fetch_list_summary(uids)"
   ]
  },
  {
   "cell_type": "code",
   "execution_count": 39,
   "metadata": {},
   "outputs": [],
   "source": [
    "def citations_from_doi(doi):\n",
    "    return sch.paper(doi, timeout=2)['numCitedBy']"
   ]
  },
  {
   "cell_type": "code",
   "execution_count": 40,
   "metadata": {},
   "outputs": [],
   "source": [
    "def extract_epub_doi(summary):\n",
    "    try:\n",
    "        return { 'uid':summary['Id'], 'EPubDate': summary['EPubDate'], 'doi': summary['ArticleIds']['doi'], 'citations' : citations_from_doi(summary['ArticleIds']['doi']) }\n",
    "    except:\n",
    "        return {'uid':summary['Id'], 'EPubDate': summary['EPubDate'], 'doi': None, 'citations' : None }"
   ]
  },
  {
   "cell_type": "code",
   "execution_count": 41,
   "metadata": {},
   "outputs": [],
   "source": [
    "result_citations = [ extract_epub_doi(summary[0]) for summary in result_summaries ]"
   ]
  },
  {
   "cell_type": "code",
   "execution_count": 42,
   "metadata": {},
   "outputs": [
    {
     "output_type": "execute_result",
     "data": {
      "text/plain": [
       "          uid     EPubDate   doi  citations\n",
       "0    32593259               None        NaN\n",
       "1    32593224  2020 Jul 31  None        NaN\n",
       "2    32593209  2020 Jul 16  None        NaN\n",
       "3    32593202  2020 Jul 26  None        NaN\n",
       "4    32593196               None        NaN\n",
       "..        ...          ...   ...        ...\n",
       "195  32590808               None        NaN\n",
       "196  32590779               None        NaN\n",
       "197  32590775               None        NaN\n",
       "198  32590755               None        NaN\n",
       "199  32590751               None        NaN\n",
       "\n",
       "[200 rows x 4 columns]"
      ],
      "text/html": "<div>\n<style scoped>\n    .dataframe tbody tr th:only-of-type {\n        vertical-align: middle;\n    }\n\n    .dataframe tbody tr th {\n        vertical-align: top;\n    }\n\n    .dataframe thead th {\n        text-align: right;\n    }\n</style>\n<table border=\"1\" class=\"dataframe\">\n  <thead>\n    <tr style=\"text-align: right;\">\n      <th></th>\n      <th>uid</th>\n      <th>EPubDate</th>\n      <th>doi</th>\n      <th>citations</th>\n    </tr>\n  </thead>\n  <tbody>\n    <tr>\n      <th>0</th>\n      <td>32593259</td>\n      <td></td>\n      <td>None</td>\n      <td>NaN</td>\n    </tr>\n    <tr>\n      <th>1</th>\n      <td>32593224</td>\n      <td>2020 Jul 31</td>\n      <td>None</td>\n      <td>NaN</td>\n    </tr>\n    <tr>\n      <th>2</th>\n      <td>32593209</td>\n      <td>2020 Jul 16</td>\n      <td>None</td>\n      <td>NaN</td>\n    </tr>\n    <tr>\n      <th>3</th>\n      <td>32593202</td>\n      <td>2020 Jul 26</td>\n      <td>None</td>\n      <td>NaN</td>\n    </tr>\n    <tr>\n      <th>4</th>\n      <td>32593196</td>\n      <td></td>\n      <td>None</td>\n      <td>NaN</td>\n    </tr>\n    <tr>\n      <th>...</th>\n      <td>...</td>\n      <td>...</td>\n      <td>...</td>\n      <td>...</td>\n    </tr>\n    <tr>\n      <th>195</th>\n      <td>32590808</td>\n      <td></td>\n      <td>None</td>\n      <td>NaN</td>\n    </tr>\n    <tr>\n      <th>196</th>\n      <td>32590779</td>\n      <td></td>\n      <td>None</td>\n      <td>NaN</td>\n    </tr>\n    <tr>\n      <th>197</th>\n      <td>32590775</td>\n      <td></td>\n      <td>None</td>\n      <td>NaN</td>\n    </tr>\n    <tr>\n      <th>198</th>\n      <td>32590755</td>\n      <td></td>\n      <td>None</td>\n      <td>NaN</td>\n    </tr>\n    <tr>\n      <th>199</th>\n      <td>32590751</td>\n      <td></td>\n      <td>None</td>\n      <td>NaN</td>\n    </tr>\n  </tbody>\n</table>\n<p>200 rows × 4 columns</p>\n</div>"
     },
     "metadata": {},
     "execution_count": 42
    }
   ],
   "source": [
    "result_citations = pd.DataFrame(result_citations)\n",
    "result_citations"
   ]
  },
  {
   "source": [
    "# Abstracts"
   ],
   "cell_type": "markdown",
   "metadata": {}
  },
  {
   "cell_type": "code",
   "execution_count": 43,
   "metadata": {},
   "outputs": [],
   "source": [
    "## Abstract\n",
    "results_abstracts = entrez_construct_abstract_dict(uids,\"XXX@YYY.com\")"
   ]
  },
  {
   "cell_type": "code",
   "execution_count": 44,
   "metadata": {},
   "outputs": [
    {
     "output_type": "execute_result",
     "data": {
      "text/plain": [
       "105"
      ]
     },
     "metadata": {},
     "execution_count": 44
    }
   ],
   "source": [
    "len(results_abstracts)"
   ]
  },
  {
   "cell_type": "code",
   "execution_count": 45,
   "metadata": {},
   "outputs": [
    {
     "output_type": "execute_result",
     "data": {
      "text/plain": [
       "          uid                                           abstract include\n",
       "0    32593259  Never before in history, aging was such a sign...        \n",
       "1    32593224  COVID-19 carries a high risk of severe disease...        \n",
       "2    32593209   BACKGROUND: The emergence of new SARS-CoV-2 h...        \n",
       "3    32593202  COVID- 19, a biomedical disease has serious ph...        \n",
       "4    32593196   BACKGROUND AND AIMS: Dentistry involves close...        \n",
       "..        ...                                                ...     ...\n",
       "100  32592118  Quantitative studies using validated questionn...        \n",
       "101  32592114   RATIONALE: Coronavirus disease 2019 (COVID-19...        \n",
       "102  32592113  To compare clinical and imaging features betwe...        \n",
       "103  32592104  The aim of this study was to investigate the p...        \n",
       "104  32592085   BACKGROUND: After the spread of the coronavir...        \n",
       "\n",
       "[105 rows x 3 columns]"
      ],
      "text/html": "<div>\n<style scoped>\n    .dataframe tbody tr th:only-of-type {\n        vertical-align: middle;\n    }\n\n    .dataframe tbody tr th {\n        vertical-align: top;\n    }\n\n    .dataframe thead th {\n        text-align: right;\n    }\n</style>\n<table border=\"1\" class=\"dataframe\">\n  <thead>\n    <tr style=\"text-align: right;\">\n      <th></th>\n      <th>uid</th>\n      <th>abstract</th>\n      <th>include</th>\n    </tr>\n  </thead>\n  <tbody>\n    <tr>\n      <th>0</th>\n      <td>32593259</td>\n      <td>Never before in history, aging was such a sign...</td>\n      <td></td>\n    </tr>\n    <tr>\n      <th>1</th>\n      <td>32593224</td>\n      <td>COVID-19 carries a high risk of severe disease...</td>\n      <td></td>\n    </tr>\n    <tr>\n      <th>2</th>\n      <td>32593209</td>\n      <td>BACKGROUND: The emergence of new SARS-CoV-2 h...</td>\n      <td></td>\n    </tr>\n    <tr>\n      <th>3</th>\n      <td>32593202</td>\n      <td>COVID- 19, a biomedical disease has serious ph...</td>\n      <td></td>\n    </tr>\n    <tr>\n      <th>4</th>\n      <td>32593196</td>\n      <td>BACKGROUND AND AIMS: Dentistry involves close...</td>\n      <td></td>\n    </tr>\n    <tr>\n      <th>...</th>\n      <td>...</td>\n      <td>...</td>\n      <td>...</td>\n    </tr>\n    <tr>\n      <th>100</th>\n      <td>32592118</td>\n      <td>Quantitative studies using validated questionn...</td>\n      <td></td>\n    </tr>\n    <tr>\n      <th>101</th>\n      <td>32592114</td>\n      <td>RATIONALE: Coronavirus disease 2019 (COVID-19...</td>\n      <td></td>\n    </tr>\n    <tr>\n      <th>102</th>\n      <td>32592113</td>\n      <td>To compare clinical and imaging features betwe...</td>\n      <td></td>\n    </tr>\n    <tr>\n      <th>103</th>\n      <td>32592104</td>\n      <td>The aim of this study was to investigate the p...</td>\n      <td></td>\n    </tr>\n    <tr>\n      <th>104</th>\n      <td>32592085</td>\n      <td>BACKGROUND: After the spread of the coronavir...</td>\n      <td></td>\n    </tr>\n  </tbody>\n</table>\n<p>105 rows × 3 columns</p>\n</div>"
     },
     "metadata": {},
     "execution_count": 45
    }
   ],
   "source": [
    "results_abstracts = pd.DataFrame(results_abstracts)\n",
    "results_abstracts"
   ]
  },
  {
   "source": [
    "# Merge"
   ],
   "cell_type": "markdown",
   "metadata": {}
  },
  {
   "cell_type": "code",
   "execution_count": 48,
   "metadata": {},
   "outputs": [
    {
     "output_type": "error",
     "ename": "NameError",
     "evalue": "name 'citations' is not defined",
     "traceback": [
      "\u001b[0;31m---------------------------------------------------------------------------\u001b[0m",
      "\u001b[0;31mNameError\u001b[0m                                 Traceback (most recent call last)",
      "\u001b[0;32m<ipython-input-48-7ba7eeb4d81b>\u001b[0m in \u001b[0;36m<module>\u001b[0;34m\u001b[0m\n\u001b[1;32m      1\u001b[0m \u001b[0mdf_merged\u001b[0m \u001b[0;34m=\u001b[0m \u001b[0mpd\u001b[0m\u001b[0;34m.\u001b[0m\u001b[0mmerge\u001b[0m\u001b[0;34m(\u001b[0m\u001b[0mresults_abstracts\u001b[0m\u001b[0;34m,\u001b[0m\u001b[0mresult_citations\u001b[0m\u001b[0;34m)\u001b[0m\u001b[0;34m\u001b[0m\u001b[0;34m\u001b[0m\u001b[0m\n\u001b[0;32m----> 2\u001b[0;31m \u001b[0mdf_merged\u001b[0m\u001b[0;34m.\u001b[0m\u001b[0msort_values\u001b[0m\u001b[0;34m(\u001b[0m\u001b[0;34m[\u001b[0m\u001b[0mcitations\u001b[0m\u001b[0;34m]\u001b[0m\u001b[0;34m)\u001b[0m\u001b[0;34m\u001b[0m\u001b[0;34m\u001b[0m\u001b[0m\n\u001b[0m",
      "\u001b[0;31mNameError\u001b[0m: name 'citations' is not defined"
     ]
    }
   ],
   "source": [
    "df_merged = pd.merge(results_abstracts,result_citations)"
   ]
  },
  {
   "cell_type": "code",
   "execution_count": 52,
   "metadata": {},
   "outputs": [
    {
     "output_type": "execute_result",
     "data": {
      "text/plain": [
       "          uid                                           abstract include  \\\n",
       "79   32592501  Aim This narrative review aims to report on th...           \n",
       "96   32592160   BACKGROUND: Since December 2019, when it firs...           \n",
       "101  32592114   RATIONALE: Coronavirus disease 2019 (COVID-19...           \n",
       "88   32592396  Final-year medical students in the UK have bee...           \n",
       "77   32592507  Design Case series.Introduction The most commo...           \n",
       "99   32592132  COVID-19 is an emerging infectious disease cap...           \n",
       "87   32592400  As the COVID-19 pandemic continues to spread, ...           \n",
       "\n",
       "        EPubDate                         doi  citations  \n",
       "79   2020 Sep 30           10.1002/jmv.26232      130.0  \n",
       "96                10.1007/s10900-020-00870-4       15.0  \n",
       "101  2020 Jun 26  10.1007/s11739-020-02416-x       12.0  \n",
       "88                    10.1093/femspd/ftaa031       11.0  \n",
       "77   2020 Jul 20           10.1002/dmrr.3379        6.0  \n",
       "99   2020 Jun 27  10.1007/s10103-020-03086-z        5.0  \n",
       "87                      10.1093/ajcn/nqaa178        0.0  "
      ],
      "text/html": "<div>\n<style scoped>\n    .dataframe tbody tr th:only-of-type {\n        vertical-align: middle;\n    }\n\n    .dataframe tbody tr th {\n        vertical-align: top;\n    }\n\n    .dataframe thead th {\n        text-align: right;\n    }\n</style>\n<table border=\"1\" class=\"dataframe\">\n  <thead>\n    <tr style=\"text-align: right;\">\n      <th></th>\n      <th>uid</th>\n      <th>abstract</th>\n      <th>include</th>\n      <th>EPubDate</th>\n      <th>doi</th>\n      <th>citations</th>\n    </tr>\n  </thead>\n  <tbody>\n    <tr>\n      <th>79</th>\n      <td>32592501</td>\n      <td>Aim This narrative review aims to report on th...</td>\n      <td></td>\n      <td>2020 Sep 30</td>\n      <td>10.1002/jmv.26232</td>\n      <td>130.0</td>\n    </tr>\n    <tr>\n      <th>96</th>\n      <td>32592160</td>\n      <td>BACKGROUND: Since December 2019, when it firs...</td>\n      <td></td>\n      <td></td>\n      <td>10.1007/s10900-020-00870-4</td>\n      <td>15.0</td>\n    </tr>\n    <tr>\n      <th>101</th>\n      <td>32592114</td>\n      <td>RATIONALE: Coronavirus disease 2019 (COVID-19...</td>\n      <td></td>\n      <td>2020 Jun 26</td>\n      <td>10.1007/s11739-020-02416-x</td>\n      <td>12.0</td>\n    </tr>\n    <tr>\n      <th>88</th>\n      <td>32592396</td>\n      <td>Final-year medical students in the UK have bee...</td>\n      <td></td>\n      <td></td>\n      <td>10.1093/femspd/ftaa031</td>\n      <td>11.0</td>\n    </tr>\n    <tr>\n      <th>77</th>\n      <td>32592507</td>\n      <td>Design Case series.Introduction The most commo...</td>\n      <td></td>\n      <td>2020 Jul 20</td>\n      <td>10.1002/dmrr.3379</td>\n      <td>6.0</td>\n    </tr>\n    <tr>\n      <th>99</th>\n      <td>32592132</td>\n      <td>COVID-19 is an emerging infectious disease cap...</td>\n      <td></td>\n      <td>2020 Jun 27</td>\n      <td>10.1007/s10103-020-03086-z</td>\n      <td>5.0</td>\n    </tr>\n    <tr>\n      <th>87</th>\n      <td>32592400</td>\n      <td>As the COVID-19 pandemic continues to spread, ...</td>\n      <td></td>\n      <td></td>\n      <td>10.1093/ajcn/nqaa178</td>\n      <td>0.0</td>\n    </tr>\n  </tbody>\n</table>\n</div>"
     },
     "metadata": {},
     "execution_count": 52
    }
   ],
   "source": [
    "df_merged.query(\"citations >= 0\").sort_values([\"citations\"],ascending=False)"
   ]
  },
  {
   "source": [
    "# To Excel"
   ],
   "cell_type": "markdown",
   "metadata": {}
  },
  {
   "cell_type": "code",
   "execution_count": 47,
   "metadata": {},
   "outputs": [],
   "source": [
    "df_merged.to_excel(\"COVID_SELECTION_ONE_YEAR.xlsx\")"
   ]
  },
  {
   "cell_type": "code",
   "execution_count": null,
   "metadata": {},
   "outputs": [],
   "source": []
  }
 ],
 "metadata": {
  "kernelspec": {
   "display_name": "Python 3",
   "language": "python",
   "name": "python3"
  },
  "language_info": {
   "codemirror_mode": {
    "name": "ipython",
    "version": 3
   },
   "file_extension": ".py",
   "mimetype": "text/x-python",
   "name": "python",
   "nbconvert_exporter": "python",
   "pygments_lexer": "ipython3",
   "version": "3.9.5"
  }
 },
 "nbformat": 4,
 "nbformat_minor": 1
}