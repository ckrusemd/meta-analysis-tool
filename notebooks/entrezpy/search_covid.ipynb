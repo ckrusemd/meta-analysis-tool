{
 "metadata": {
  "language_info": {
   "codemirror_mode": {
    "name": "ipython",
    "version": 3
   },
   "file_extension": ".py",
   "mimetype": "text/x-python",
   "name": "python",
   "nbconvert_exporter": "python",
   "pygments_lexer": "ipython3",
   "version": "3.8.5"
  },
  "orig_nbformat": 2,
  "kernelspec": {
   "name": "python385jvsc74a57bd04aed8422883dcce4c415b635faad05cbba72d9d3ae0f391a4fe3f5e91f7e6027",
   "display_name": "Python 3.8.5 64-bit ('base': conda)"
  }
 },
 "nbformat": 4,
 "nbformat_minor": 2,
 "cells": [
  {
   "cell_type": "code",
   "execution_count": 1,
   "metadata": {},
   "outputs": [
    {
     "output_type": "stream",
     "name": "stdout",
     "text": [
      "['29569152', '26659068', '28197643', '27848006', '26679436', '26223424', '25466529']\n"
     ]
    }
   ],
   "source": [
    "import entrezpy.esearch.esearcher\n",
    "\n",
    "esearch = entrezpy.esearch.esearcher.Esearcher( 'Christian Kruse', 'XXX@YYY.com' )\n",
    "a = esearch.inquire({ 'db' : 'pubmed','term':'kruse eiken vestergaard', 'retmax': 50, 'rettype': 'uilist' })\n",
    "uids = list(set(a.get_result().uids))\n",
    "print( uids )"
   ]
  },
  {
   "cell_type": "code",
   "execution_count": 2,
   "metadata": {
    "tags": []
   },
   "outputs": [
    {
     "output_type": "stream",
     "name": "stdout",
     "text": [
      "{29569152: {'uid': '29569152', 'pubdate': '2018 Jun', 'epubdate': '2018 Mar 22', 'source': 'Osteoporos Int', 'authors': [{'name': 'Kruse C', 'authtype': 'Author', 'clusterid': ''}, {'name': 'Goemaere S', 'authtype': 'Author', 'clusterid': ''}, {'name': 'De Buyser S', 'authtype': 'Author', 'clusterid': ''}, {'name': 'Lapauw B', 'authtype': 'Author', 'clusterid': ''}, {'name': 'Eiken P', 'authtype': 'Author', 'clusterid': ''}, {'name': 'Vestergaard P', 'authtype': 'Author', 'clusterid': ''}], 'lastauthor': 'Vestergaard P', 'title': 'Predicting mortality and incident immobility in older Belgian men by characteristics related to sarcopenia and frailty.', 'sorttitle': 'predicting mortality and incident immobility in older belgian men by characteristics related to sarcopenia and frailty', 'volume': '29', 'issue': '6', 'pages': '1437-1445', 'lang': ['eng'], 'nlmuniqueid': '9100105', 'issn': '0937-941X', 'essn': '1433-2965', 'pubtype': ['Journal Article'], 'recordstatus': 'PubMed - indexed for MEDLINE', 'pubstatus': '256', 'articleids': [{'idtype': 'pubmed', 'idtypen': 1, 'value': '29569152'}, {'idtype': 'doi', 'idtypen': 3, 'value': '10.1007/s00198-018-4467-z'}, {'idtype': 'pii', 'idtypen': 4, 'value': '10.1007/s00198-018-4467-z'}, {'idtype': 'rid', 'idtypen': 8, 'value': '29569152'}, {'idtype': 'eid', 'idtypen': 8, 'value': '29569152'}], 'history': [{'pubstatus': 'received', 'date': '2017/07/16 00:00'}, {'pubstatus': 'accepted', 'date': '2018/02/25 00:00'}, {'pubstatus': 'pubmed', 'date': '2018/03/24 06:00'}, {'pubstatus': 'medline', 'date': '2019/10/24 06:00'}, {'pubstatus': 'entrez', 'date': '2018/03/24 06:00'}], 'references': [], 'attributes': ['Has Abstract'], 'pmcrefcount': 1, 'fulljournalname': 'Osteoporosis international : a journal established as result of cooperation between the European Foundation for Osteoporosis and the National Osteoporosis Foundation of the USA', 'elocationid': 'doi: 10.1007/s00198-018-4467-z', 'doctype': 'citation', 'srccontriblist': [], 'booktitle': '', 'medium': '', 'edition': '', 'publisherlocation': '', 'publishername': '', 'srcdate': '', 'reportnumber': '', 'availablefromurl': '', 'locationlabel': '', 'doccontriblist': [], 'docdate': '', 'bookname': '', 'chapter': '', 'sortpubdate': '2018/06/01 00:00', 'sortfirstauthor': 'Kruse C', 'vernaculartitle': ''}, 26659068: {'uid': '26659068', 'pubdate': '2016 May', 'epubdate': '2015 Dec 11', 'source': 'Osteoporos Int', 'authors': [{'name': 'Kruse C', 'authtype': 'Author', 'clusterid': ''}, {'name': 'Eiken P', 'authtype': 'Author', 'clusterid': ''}, {'name': 'Vestergaard P', 'authtype': 'Author', 'clusterid': ''}], 'lastauthor': 'Vestergaard P', 'title': 'Optimal age of commencing and discontinuing thiazide therapy to protect against fractures.', 'sorttitle': 'optimal age of commencing and discontinuing thiazide therapy to protect against fractures', 'volume': '27', 'issue': '5', 'pages': '1875-85', 'lang': ['eng'], 'nlmuniqueid': '9100105', 'issn': '0937-941X', 'essn': '1433-2965', 'pubtype': ['Journal Article'], 'recordstatus': 'PubMed - indexed for MEDLINE', 'pubstatus': '256', 'articleids': [{'idtype': 'pubmed', 'idtypen': 1, 'value': '26659068'}, {'idtype': 'doi', 'idtypen': 3, 'value': '10.1007/s00198-015-3451-0'}, {'idtype': 'pii', 'idtypen': 4, 'value': '10.1007/s00198-015-3451-0'}, {'idtype': 'rid', 'idtypen': 8, 'value': '26659068'}, {'idtype': 'eid', 'idtypen': 8, 'value': '26659068'}], 'history': [{'pubstatus': 'received', 'date': '2015/08/14 00:00'}, {'pubstatus': 'accepted', 'date': '2015/12/02 00:00'}, {'pubstatus': 'entrez', 'date': '2015/12/15 06:00'}, {'pubstatus': 'pubmed', 'date': '2015/12/15 06:00'}, {'pubstatus': 'medline', 'date': '2017/01/11 06:00'}], 'references': [], 'attributes': ['Has Abstract'], 'pmcrefcount': 2, 'fulljournalname': 'Osteoporosis international : a journal established as result of cooperation between the European Foundation for Osteoporosis and the National Osteoporosis Foundation of the USA', 'elocationid': 'doi: 10.1007/s00198-015-3451-0', 'doctype': 'citation', 'srccontriblist': [], 'booktitle': '', 'medium': '', 'edition': '', 'publisherlocation': '', 'publishername': '', 'srcdate': '', 'reportnumber': '', 'availablefromurl': '', 'locationlabel': '', 'doccontriblist': [], 'docdate': '', 'bookname': '', 'chapter': '', 'sortpubdate': '2016/05/01 00:00', 'sortfirstauthor': 'Kruse C', 'vernaculartitle': ''}, 28197643: {'uid': '28197643', 'pubdate': '2017 Apr', 'epubdate': '2017 Feb 14', 'source': 'Calcif Tissue Int', 'authors': [{'name': 'Kruse C', 'authtype': 'Author', 'clusterid': ''}, {'name': 'Eiken P', 'authtype': 'Author', 'clusterid': ''}, {'name': 'Vestergaard P', 'authtype': 'Author', 'clusterid': ''}], 'lastauthor': 'Vestergaard P', 'title': 'Machine Learning Principles Can Improve Hip Fracture Prediction.', 'sorttitle': 'machine learning principles can improve hip fracture prediction', 'volume': '100', 'issue': '4', 'pages': '348-360', 'lang': ['eng'], 'nlmuniqueid': '7905481', 'issn': '0171-967X', 'essn': '1432-0827', 'pubtype': ['Journal Article'], 'recordstatus': 'PubMed - indexed for MEDLINE', 'pubstatus': '256', 'articleids': [{'idtype': 'pubmed', 'idtypen': 1, 'value': '28197643'}, {'idtype': 'doi', 'idtypen': 3, 'value': '10.1007/s00223-017-0238-7'}, {'idtype': 'pii', 'idtypen': 4, 'value': '10.1007/s00223-017-0238-7'}, {'idtype': 'rid', 'idtypen': 8, 'value': '28197643'}, {'idtype': 'eid', 'idtypen': 8, 'value': '28197643'}], 'history': [{'pubstatus': 'received', 'date': '2016/09/06 00:00'}, {'pubstatus': 'accepted', 'date': '2016/12/05 00:00'}, {'pubstatus': 'pubmed', 'date': '2017/02/16 06:00'}, {'pubstatus': 'medline', 'date': '2018/01/26 06:00'}, {'pubstatus': 'entrez', 'date': '2017/02/16 06:00'}], 'references': [], 'attributes': ['Has Abstract'], 'pmcrefcount': 17, 'fulljournalname': 'Calcified tissue international', 'elocationid': 'doi: 10.1007/s00223-017-0238-7', 'doctype': 'citation', 'srccontriblist': [], 'booktitle': '', 'medium': '', 'edition': '', 'publisherlocation': '', 'publishername': '', 'srcdate': '', 'reportnumber': '', 'availablefromurl': '', 'locationlabel': '', 'doccontriblist': [], 'docdate': '', 'bookname': '', 'chapter': '', 'sortpubdate': '2017/04/01 00:00', 'sortfirstauthor': 'Kruse C', 'vernaculartitle': ''}, 27848006: {'uid': '27848006', 'pubdate': '2017 Mar', 'epubdate': '2016 Nov 16', 'source': 'Osteoporos Int', 'authors': [{'name': 'Kruse C', 'authtype': 'Author', 'clusterid': ''}, {'name': 'Eiken P', 'authtype': 'Author', 'clusterid': ''}, {'name': 'Vestergaard P', 'authtype': 'Author', 'clusterid': ''}], 'lastauthor': 'Vestergaard P', 'title': 'Clinical fracture risk evaluated by hierarchical agglomerative clustering.', 'sorttitle': 'clinical fracture risk evaluated by hierarchical agglomerative clustering', 'volume': '28', 'issue': '3', 'pages': '819-832', 'lang': ['eng'], 'nlmuniqueid': '9100105', 'issn': '0937-941X', 'essn': '1433-2965', 'pubtype': ['Journal Article', 'Multicenter Study'], 'recordstatus': 'PubMed - indexed for MEDLINE', 'pubstatus': '256', 'articleids': [{'idtype': 'pubmed', 'idtypen': 1, 'value': '27848006'}, {'idtype': 'doi', 'idtypen': 3, 'value': '10.1007/s00198-016-3828-8'}, {'idtype': 'pii', 'idtypen': 4, 'value': '10.1007/s00198-016-3828-8'}, {'idtype': 'rid', 'idtypen': 8, 'value': '27848006'}, {'idtype': 'eid', 'idtypen': 8, 'value': '27848006'}], 'history': [{'pubstatus': 'received', 'date': '2016/07/03 00:00'}, {'pubstatus': 'accepted', 'date': '2016/11/02 00:00'}, {'pubstatus': 'pubmed', 'date': '2016/11/17 06:00'}, {'pubstatus': 'medline', 'date': '2018/04/17 06:00'}, {'pubstatus': 'entrez', 'date': '2016/11/17 06:00'}], 'references': [], 'attributes': ['Has Abstract'], 'pmcrefcount': 7, 'fulljournalname': 'Osteoporosis international : a journal established as result of cooperation between the European Foundation for Osteoporosis and the National Osteoporosis Foundation of the USA', 'elocationid': 'doi: 10.1007/s00198-016-3828-8', 'doctype': 'citation', 'srccontriblist': [], 'booktitle': '', 'medium': '', 'edition': '', 'publisherlocation': '', 'publishername': '', 'srcdate': '', 'reportnumber': '', 'availablefromurl': '', 'locationlabel': '', 'doccontriblist': [], 'docdate': '', 'bookname': '', 'chapter': '', 'sortpubdate': '2017/03/01 00:00', 'sortfirstauthor': 'Kruse C', 'vernaculartitle': ''}, 26679436: {'uid': '26679436', 'pubdate': '2016 Mar', 'epubdate': '2015 Dec 8', 'source': 'Bone', 'authors': [{'name': 'Kruse C', 'authtype': 'Author', 'clusterid': ''}, {'name': 'Eiken P', 'authtype': 'Author', 'clusterid': ''}, {'name': 'Verbalis J', 'authtype': 'Author', 'clusterid': ''}, {'name': 'Vestergaard P', 'authtype': 'Author', 'clusterid': ''}], 'lastauthor': 'Vestergaard P', 'title': 'The effect of chronic mild hyponatremia on bone mineral loss evaluated by retrospective national Danish patient data.', 'sorttitle': 'effect of chronic mild hyponatremia on bone mineral loss evaluated by retrospective national danish patient data', 'volume': '84', 'issue': '', 'pages': '9-14', 'lang': ['eng'], 'nlmuniqueid': '8504048', 'issn': '8756-3282', 'essn': '1873-2763', 'pubtype': ['Journal Article'], 'recordstatus': 'PubMed - indexed for MEDLINE', 'pubstatus': '256', 'articleids': [{'idtype': 'pubmed', 'idtypen': 1, 'value': '26679436'}, {'idtype': 'pii', 'idtypen': 4, 'value': 'S8756-3282(15)00424-X'}, {'idtype': 'doi', 'idtypen': 3, 'value': '10.1016/j.bone.2015.12.002'}, {'idtype': 'rid', 'idtypen': 8, 'value': '26679436'}, {'idtype': 'eid', 'idtypen': 8, 'value': '26679436'}], 'history': [{'pubstatus': 'received', 'date': '2015/07/20 00:00'}, {'pubstatus': 'revised', 'date': '2015/11/23 00:00'}, {'pubstatus': 'accepted', 'date': '2015/12/01 00:00'}, {'pubstatus': 'entrez', 'date': '2015/12/19 06:00'}, {'pubstatus': 'pubmed', 'date': '2015/12/19 06:00'}, {'pubstatus': 'medline', 'date': '2016/11/08 06:00'}], 'references': [], 'attributes': ['Has Abstract'], 'pmcrefcount': 3, 'fulljournalname': 'Bone', 'elocationid': 'doi: 10.1016/j.bone.2015.12.002', 'doctype': 'citation', 'srccontriblist': [], 'booktitle': '', 'medium': '', 'edition': '', 'publisherlocation': '', 'publishername': '', 'srcdate': '', 'reportnumber': '', 'availablefromurl': '', 'locationlabel': '', 'doccontriblist': [], 'docdate': '', 'bookname': '', 'chapter': '', 'sortpubdate': '2016/03/01 00:00', 'sortfirstauthor': 'Kruse C', 'vernaculartitle': ''}, 26223424: {'uid': '26223424', 'pubdate': '2016 Jan', 'epubdate': '2015 Jul 30', 'source': 'J Intern Med', 'authors': [{'name': 'Kruse C', 'authtype': 'Author', 'clusterid': ''}, {'name': 'Eiken P', 'authtype': 'Author', 'clusterid': ''}, {'name': 'Vestergaard P', 'authtype': 'Author', 'clusterid': ''}], 'lastauthor': 'Vestergaard P', 'title': 'Continuous and long-term treatment is more important than dosage for the protective effect of thiazide use on bone metabolism and fracture risk.', 'sorttitle': 'continuous and long term treatment is more important than dosage for the protective effect of thiazide use on bone metabolism and fracture risk', 'volume': '279', 'issue': '1', 'pages': '110-22', 'lang': ['eng'], 'nlmuniqueid': '8904841', 'issn': '0954-6820', 'essn': '1365-2796', 'pubtype': ['Journal Article'], 'recordstatus': 'PubMed - indexed for MEDLINE', 'pubstatus': '256', 'articleids': [{'idtype': 'pubmed', 'idtypen': 1, 'value': '26223424'}, {'idtype': 'doi', 'idtypen': 3, 'value': '10.1111/joim.12397'}, {'idtype': 'rid', 'idtypen': 8, 'value': '26223424'}, {'idtype': 'eid', 'idtypen': 8, 'value': '26223424'}], 'history': [{'pubstatus': 'entrez', 'date': '2015/07/31 06:00'}, {'pubstatus': 'pubmed', 'date': '2015/08/01 06:00'}, {'pubstatus': 'medline', 'date': '2016/04/01 06:00'}], 'references': [], 'attributes': ['Has Abstract'], 'pmcrefcount': 5, 'fulljournalname': 'Journal of internal medicine', 'elocationid': 'doi: 10.1111/joim.12397', 'doctype': 'citation', 'srccontriblist': [], 'booktitle': '', 'medium': '', 'edition': '', 'publisherlocation': '', 'publishername': '', 'srcdate': '', 'reportnumber': '', 'availablefromurl': '', 'locationlabel': '', 'doccontriblist': [], 'docdate': '', 'bookname': '', 'chapter': '', 'sortpubdate': '2016/01/01 00:00', 'sortfirstauthor': 'Kruse C', 'vernaculartitle': ''}, 25466529: {'uid': '25466529', 'pubdate': '2015 Mar', 'epubdate': '2014 Dec 3', 'source': 'Osteoporos Int', 'authors': [{'name': 'Kruse C', 'authtype': 'Author', 'clusterid': ''}, {'name': 'Eiken P', 'authtype': 'Author', 'clusterid': ''}, {'name': 'Vestergaard P', 'authtype': 'Author', 'clusterid': ''}], 'lastauthor': 'Vestergaard P', 'title': 'Hyponatremia and osteoporosis: insights from the Danish National Patient Registry.', 'sorttitle': 'hyponatremia and osteoporosis insights from the danish national patient registry', 'volume': '26', 'issue': '3', 'pages': '1005-16', 'lang': ['eng'], 'nlmuniqueid': '9100105', 'issn': '0937-941X', 'essn': '1433-2965', 'pubtype': ['Journal Article'], 'recordstatus': 'PubMed - indexed for MEDLINE', 'pubstatus': '256', 'articleids': [{'idtype': 'pubmed', 'idtypen': 1, 'value': '25466529'}, {'idtype': 'doi', 'idtypen': 3, 'value': '10.1007/s00198-014-2973-1'}, {'idtype': 'rid', 'idtypen': 8, 'value': '25466529'}, {'idtype': 'eid', 'idtypen': 8, 'value': '25466529'}], 'history': [{'pubstatus': 'received', 'date': '2014/09/23 00:00'}, {'pubstatus': 'accepted', 'date': '2014/11/16 00:00'}, {'pubstatus': 'entrez', 'date': '2014/12/04 06:00'}, {'pubstatus': 'pubmed', 'date': '2014/12/04 06:00'}, {'pubstatus': 'medline', 'date': '2015/12/22 06:00'}], 'references': [], 'attributes': ['Has Abstract'], 'pmcrefcount': 7, 'fulljournalname': 'Osteoporosis international : a journal established as result of cooperation between the European Foundation for Osteoporosis and the National Osteoporosis Foundation of the USA', 'elocationid': 'doi: 10.1007/s00198-014-2973-1', 'doctype': 'citation', 'srccontriblist': [], 'booktitle': '', 'medium': '', 'edition': '', 'publisherlocation': '', 'publishername': '', 'srcdate': '', 'reportnumber': '', 'availablefromurl': '', 'locationlabel': '', 'doccontriblist': [], 'docdate': '', 'bookname': '', 'chapter': '', 'sortpubdate': '2015/03/01 00:00', 'sortfirstauthor': 'Kruse C', 'vernaculartitle': ''}}\n"
     ]
    }
   ],
   "source": [
    "import entrezpy.esummary.esummarizer\n",
    "\n",
    "esummary = entrezpy.esummary.esummarizer.Esummarizer( 'Christian Kruse', 'XXX@YYY.com' )\n",
    "a = esummary.inquire({ 'db' : 'pubmed', 'id' : uids })\n",
    "summaries = a.get_result().summaries\n",
    "print( summaries )"
   ]
  },
  {
   "cell_type": "code",
   "execution_count": 3,
   "metadata": {
    "tags": []
   },
   "outputs": [
    {
     "output_type": "error",
     "ename": "UnboundLocalError",
     "evalue": "local variable 'hasErrorResponse' referenced before assignment",
     "traceback": [
      "\u001b[1;31m---------------------------------------------------------------------------\u001b[0m",
      "\u001b[1;31mUnboundLocalError\u001b[0m                         Traceback (most recent call last)",
      "\u001b[1;32m<ipython-input-3-b51977726b23>\u001b[0m in \u001b[0;36m<module>\u001b[1;34m\u001b[0m\n\u001b[0;32m      2\u001b[0m \u001b[1;33m\u001b[0m\u001b[0m\n\u001b[0;32m      3\u001b[0m \u001b[0me\u001b[0m \u001b[1;33m=\u001b[0m \u001b[0mentrezpy\u001b[0m\u001b[1;33m.\u001b[0m\u001b[0mefetch\u001b[0m\u001b[1;33m.\u001b[0m\u001b[0mefetcher\u001b[0m\u001b[1;33m.\u001b[0m\u001b[0mEfetcher\u001b[0m\u001b[1;33m(\u001b[0m \u001b[1;34m'Christian Kruse'\u001b[0m\u001b[1;33m,\u001b[0m \u001b[1;34m'XXX@YYY.com'\u001b[0m\u001b[1;33m)\u001b[0m\u001b[1;33m\u001b[0m\u001b[1;33m\u001b[0m\u001b[0m\n\u001b[1;32m----> 4\u001b[1;33m analyzer = e.inquire({'db' : 'pubmed',\n\u001b[0m\u001b[0;32m      5\u001b[0m                       \u001b[1;34m'id'\u001b[0m \u001b[1;33m:\u001b[0m \u001b[0muids\u001b[0m\u001b[1;33m,\u001b[0m\u001b[1;33m\u001b[0m\u001b[1;33m\u001b[0m\u001b[0m\n\u001b[0;32m      6\u001b[0m                       \u001b[1;34m'retmode'\u001b[0m \u001b[1;33m:\u001b[0m \u001b[1;34m'text'\u001b[0m\u001b[1;33m,\u001b[0m\u001b[1;33m\u001b[0m\u001b[1;33m\u001b[0m\u001b[0m\n",
      "\u001b[1;32m~\\AppData\\Roaming\\Python\\Python38\\site-packages\\entrezpy\\efetch\\efetcher.py\u001b[0m in \u001b[0;36minquire\u001b[1;34m(self, parameter, analyzer)\u001b[0m\n\u001b[0;32m     72\u001b[0m       self.add_request(entrezpy.efetch.efetch_request.EfetchRequest(\n\u001b[0;32m     73\u001b[0m         self.eutil, param, (i*param.reqsize), req_size), analyzer)\n\u001b[1;32m---> 74\u001b[1;33m     \u001b[0mself\u001b[0m\u001b[1;33m.\u001b[0m\u001b[0mrequest_pool\u001b[0m\u001b[1;33m.\u001b[0m\u001b[0mdrain\u001b[0m\u001b[1;33m(\u001b[0m\u001b[1;33m)\u001b[0m\u001b[1;33m\u001b[0m\u001b[1;33m\u001b[0m\u001b[0m\n\u001b[0m\u001b[0;32m     75\u001b[0m     \u001b[0mself\u001b[0m\u001b[1;33m.\u001b[0m\u001b[0mmonitor_stop\u001b[0m\u001b[1;33m(\u001b[0m\u001b[1;33m)\u001b[0m\u001b[1;33m\u001b[0m\u001b[1;33m\u001b[0m\u001b[0m\n\u001b[0;32m     76\u001b[0m     \u001b[1;32mif\u001b[0m \u001b[0mself\u001b[0m\u001b[1;33m.\u001b[0m\u001b[0misGoodQuery\u001b[0m\u001b[1;33m(\u001b[0m\u001b[1;33m)\u001b[0m\u001b[1;33m:\u001b[0m\u001b[1;33m\u001b[0m\u001b[1;33m\u001b[0m\u001b[0m\n",
      "\u001b[1;32m~\\AppData\\Roaming\\Python\\Python38\\site-packages\\entrezpy\\requester\\requestpool.py\u001b[0m in \u001b[0;36mdrain\u001b[1;34m(self)\u001b[0m\n\u001b[0;32m     85\u001b[0m     \u001b[1;32melse\u001b[0m\u001b[1;33m:\u001b[0m\u001b[1;33m\u001b[0m\u001b[1;33m\u001b[0m\u001b[0m\n\u001b[0;32m     86\u001b[0m       \u001b[0mself\u001b[0m\u001b[1;33m.\u001b[0m\u001b[0mlogger\u001b[0m\u001b[1;33m.\u001b[0m\u001b[0mdebug\u001b[0m\u001b[1;33m(\u001b[0m\u001b[0mjson\u001b[0m\u001b[1;33m.\u001b[0m\u001b[0mdumps\u001b[0m\u001b[1;33m(\u001b[0m\u001b[1;33m{\u001b[0m\u001b[1;34m'threads'\u001b[0m\u001b[1;33m:\u001b[0m\u001b[1;34m'none'\u001b[0m\u001b[1;33m}\u001b[0m\u001b[1;33m)\u001b[0m\u001b[1;33m)\u001b[0m\u001b[1;33m\u001b[0m\u001b[1;33m\u001b[0m\u001b[0m\n\u001b[1;32m---> 87\u001b[1;33m       \u001b[0mself\u001b[0m\u001b[1;33m.\u001b[0m\u001b[0mrun_single\u001b[0m\u001b[1;33m(\u001b[0m\u001b[1;33m)\u001b[0m\u001b[1;33m\u001b[0m\u001b[1;33m\u001b[0m\u001b[0m\n\u001b[0m\u001b[0;32m     88\u001b[0m \u001b[1;33m\u001b[0m\u001b[0m\n\u001b[0;32m     89\u001b[0m   \u001b[1;31m#def check_threads(self, stop_event):\u001b[0m\u001b[1;33m\u001b[0m\u001b[1;33m\u001b[0m\u001b[1;33m\u001b[0m\u001b[0m\n",
      "\u001b[1;32m~\\AppData\\Roaming\\Python\\Python38\\site-packages\\entrezpy\\requester\\requestpool.py\u001b[0m in \u001b[0;36mrun_single\u001b[1;34m(self)\u001b[0m\n\u001b[0;32m     99\u001b[0m       \u001b[0mresponse\u001b[0m \u001b[1;33m=\u001b[0m \u001b[0mself\u001b[0m\u001b[1;33m.\u001b[0m\u001b[0mrun_one_request\u001b[0m\u001b[1;33m(\u001b[0m\u001b[0mrequest\u001b[0m\u001b[1;33m)\u001b[0m\u001b[1;33m\u001b[0m\u001b[1;33m\u001b[0m\u001b[0m\n\u001b[0;32m    100\u001b[0m       \u001b[1;32mif\u001b[0m \u001b[0mresponse\u001b[0m\u001b[1;33m:\u001b[0m\u001b[1;33m\u001b[0m\u001b[1;33m\u001b[0m\u001b[0m\n\u001b[1;32m--> 101\u001b[1;33m         \u001b[0manalyzer\u001b[0m\u001b[1;33m.\u001b[0m\u001b[0mparse\u001b[0m\u001b[1;33m(\u001b[0m\u001b[0mresponse\u001b[0m\u001b[1;33m,\u001b[0m \u001b[0mrequest\u001b[0m\u001b[1;33m)\u001b[0m\u001b[1;33m\u001b[0m\u001b[1;33m\u001b[0m\u001b[0m\n\u001b[0m\u001b[0;32m    102\u001b[0m       \u001b[1;32melse\u001b[0m\u001b[1;33m:\u001b[0m\u001b[1;33m\u001b[0m\u001b[1;33m\u001b[0m\u001b[0m\n\u001b[0;32m    103\u001b[0m         \u001b[0mself\u001b[0m\u001b[1;33m.\u001b[0m\u001b[0mfailed_requests\u001b[0m\u001b[1;33m.\u001b[0m\u001b[0mappend\u001b[0m\u001b[1;33m(\u001b[0m\u001b[0mrequest\u001b[0m\u001b[1;33m)\u001b[0m\u001b[1;33m\u001b[0m\u001b[1;33m\u001b[0m\u001b[0m\n",
      "\u001b[1;32m~\\AppData\\Roaming\\Python\\Python38\\site-packages\\entrezpy\\base\\analyzer.py\u001b[0m in \u001b[0;36mparse\u001b[1;34m(self, raw_response, request)\u001b[0m\n\u001b[0;32m    111\u001b[0m     \u001b[1;31m#self.logger.info(json.dumps({'parsing':raw_response_decoded, 'req':request.dump()}))\u001b[0m\u001b[1;33m\u001b[0m\u001b[1;33m\u001b[0m\u001b[1;33m\u001b[0m\u001b[0m\n\u001b[0;32m    112\u001b[0m     \u001b[0mresponse\u001b[0m \u001b[1;33m=\u001b[0m \u001b[0mself\u001b[0m\u001b[1;33m.\u001b[0m\u001b[0mconvert_response\u001b[0m\u001b[1;33m(\u001b[0m\u001b[0mraw_response\u001b[0m\u001b[1;33m.\u001b[0m\u001b[0mread\u001b[0m\u001b[1;33m(\u001b[0m\u001b[1;33m)\u001b[0m\u001b[1;33m.\u001b[0m\u001b[0mdecode\u001b[0m\u001b[1;33m(\u001b[0m\u001b[1;34m'utf-8'\u001b[0m\u001b[1;33m)\u001b[0m\u001b[1;33m,\u001b[0m \u001b[0mrequest\u001b[0m\u001b[1;33m)\u001b[0m\u001b[1;33m\u001b[0m\u001b[1;33m\u001b[0m\u001b[0m\n\u001b[1;32m--> 113\u001b[1;33m     \u001b[1;32mif\u001b[0m \u001b[0mself\u001b[0m\u001b[1;33m.\u001b[0m\u001b[0misErrorResponse\u001b[0m\u001b[1;33m(\u001b[0m\u001b[0mresponse\u001b[0m\u001b[1;33m,\u001b[0m \u001b[0mrequest\u001b[0m\u001b[1;33m)\u001b[0m\u001b[1;33m:\u001b[0m\u001b[1;33m\u001b[0m\u001b[1;33m\u001b[0m\u001b[0m\n\u001b[0m\u001b[0;32m    114\u001b[0m       \u001b[0mself\u001b[0m\u001b[1;33m.\u001b[0m\u001b[0mhasErrorResponse\u001b[0m \u001b[1;33m=\u001b[0m \u001b[1;32mTrue\u001b[0m\u001b[1;33m\u001b[0m\u001b[1;33m\u001b[0m\u001b[0m\n\u001b[0;32m    115\u001b[0m       \u001b[0mself\u001b[0m\u001b[1;33m.\u001b[0m\u001b[0manalyze_error\u001b[0m\u001b[1;33m(\u001b[0m\u001b[0mresponse\u001b[0m\u001b[1;33m,\u001b[0m \u001b[0mrequest\u001b[0m\u001b[1;33m)\u001b[0m\u001b[1;33m\u001b[0m\u001b[1;33m\u001b[0m\u001b[0m\n",
      "\u001b[1;32m~\\AppData\\Roaming\\Python\\Python38\\site-packages\\entrezpy\\base\\analyzer.py\u001b[0m in \u001b[0;36misErrorResponse\u001b[1;34m(self, response, request)\u001b[0m\n\u001b[0;32m    159\u001b[0m     \u001b[1;32mif\u001b[0m \u001b[0mrequest\u001b[0m\u001b[1;33m.\u001b[0m\u001b[0mretmode\u001b[0m \u001b[1;33m==\u001b[0m \u001b[1;34m'json'\u001b[0m\u001b[1;33m:\u001b[0m\u001b[1;33m\u001b[0m\u001b[1;33m\u001b[0m\u001b[0m\n\u001b[0;32m    160\u001b[0m       \u001b[0mhasErrorResponse\u001b[0m \u001b[1;33m=\u001b[0m \u001b[0mself\u001b[0m\u001b[1;33m.\u001b[0m\u001b[0mcheck_error_json\u001b[0m\u001b[1;33m(\u001b[0m\u001b[0mresponse\u001b[0m\u001b[1;33m)\u001b[0m\u001b[1;33m\u001b[0m\u001b[1;33m\u001b[0m\u001b[0m\n\u001b[1;32m--> 161\u001b[1;33m     \u001b[1;32mreturn\u001b[0m \u001b[0mhasErrorResponse\u001b[0m\u001b[1;33m\u001b[0m\u001b[1;33m\u001b[0m\u001b[0m\n\u001b[0m\u001b[0;32m    162\u001b[0m \u001b[1;33m\u001b[0m\u001b[0m\n\u001b[0;32m    163\u001b[0m   \u001b[1;32mdef\u001b[0m \u001b[0mcheck_error_xml\u001b[0m\u001b[1;33m(\u001b[0m\u001b[0mself\u001b[0m\u001b[1;33m,\u001b[0m \u001b[0mresponse\u001b[0m\u001b[1;33m)\u001b[0m\u001b[1;33m:\u001b[0m\u001b[1;33m\u001b[0m\u001b[1;33m\u001b[0m\u001b[0m\n",
      "\u001b[1;31mUnboundLocalError\u001b[0m: local variable 'hasErrorResponse' referenced before assignment"
     ]
    }
   ],
   "source": [
    "import entrezpy.efetch.efetcher\n",
    "\n",
    "e = entrezpy.efetch.efetcher.Efetcher( 'Christian Kruse', 'XXX@YYY.com')\n",
    "analyzer = e.inquire({'db' : 'pubmed',\n",
    "                      'id' : uids,\n",
    "                      'retmode' : 'text',\n",
    "                      'rettype' : 'abstract'})\n",
    "print(analyzer.count, analyzer.retmax, analyzer.retstart, analyzer.uids)\n"
   ]
  },
  {
   "cell_type": "code",
   "execution_count": 5,
   "metadata": {},
   "outputs": [
    {
     "output_type": "execute_result",
     "data": {
      "text/plain": [
       "{'function': 'elink',\n",
       " 'size': 7,\n",
       " 'linksets': [{'uid': 26223424,\n",
       "   'dbfrom': 'pubmed',\n",
       "   'category': 'linked',\n",
       "   'size': 3,\n",
       "   'linkunits': [{'objurl': {'url': {'value': 'https://doi.org/10.1111/joim.12397'},\n",
       "      'iconurl': {'lng': 'EN',\n",
       "       'value': '//www.ncbi.nlm.nih.gov/corehtml/query/egifs/http:--media.wiley.com-assets-7388-68-wiley-free-full-text.png'},\n",
       "      'subjecttypes': ['publishers/providers'],\n",
       "      'categories': ['Full Text Sources'],\n",
       "      'attributes': ['free resource',\n",
       "       'full-text online',\n",
       "       'publisher of information in url'],\n",
       "      'provider': {'name': 'Wiley',\n",
       "       'nameabbr': 'Wiley',\n",
       "       'id': '3058',\n",
       "       'url': {'lng': 'EN', 'value': 'https://onlinelibrary.wiley.com/'}}},\n",
       "     'dbto': None,\n",
       "     'linkname': None},\n",
       "    {'objurl': {'url': {'value': 'http://ovidsp.ovid.com/ovidweb.cgi?T=JS&PAGE=linkout&SEARCH=26223424.ui'},\n",
       "      'iconurl': {'lng': 'EN',\n",
       "       'value': '//www.ncbi.nlm.nih.gov/corehtml/query/egifs/https:--tools.ovid.com-images-ovidlogo.jpg'},\n",
       "      'subjecttypes': ['aggregators'],\n",
       "      'categories': ['Full Text Sources'],\n",
       "      'attributes': ['full-text online',\n",
       "       'subscription/membership/fee required'],\n",
       "      'provider': {'name': 'Ovid Technologies, Inc.',\n",
       "       'nameabbr': 'Ovid',\n",
       "       'id': '3682',\n",
       "       'url': {'lng': 'EN', 'value': 'http://www.ovid.com/'}}},\n",
       "     'dbto': None,\n",
       "     'linkname': None},\n",
       "    {'objurl': {'url': {'value': 'https://medlineplus.gov/fractures.html'},\n",
       "      'iconurl': {'lng': 'EN',\n",
       "       'value': '//www.ncbi.nlm.nih.gov/corehtml/query/egifs/https:--medlineplus.gov-images-linkout_sm.gif'},\n",
       "      'linkname': 'Fractures',\n",
       "      'subjecttypes': ['consumer health'],\n",
       "      'categories': ['Medical'],\n",
       "      'attributes': ['free resource'],\n",
       "      'provider': {'name': 'MedlinePlus Health Information',\n",
       "       'nameabbr': 'MEDPLUS',\n",
       "       'id': '3162',\n",
       "       'url': {'lng': 'EN', 'value': 'https://medlineplus.gov/'}}},\n",
       "     'dbto': None,\n",
       "     'linkname': None}]},\n",
       "  {'uid': 29569152,\n",
       "   'dbfrom': 'pubmed',\n",
       "   'category': 'linked',\n",
       "   'size': 2,\n",
       "   'linkunits': [{'objurl': {'url': {'value': 'https://doi.org/10.1007/s00198-018-4467-z'},\n",
       "      'iconurl': {'lng': 'EN',\n",
       "       'value': '//www.ncbi.nlm.nih.gov/corehtml/query/egifs/http:--production.springer.de-OnlineResources-Logos-springerlink.gif'},\n",
       "      'subjecttypes': ['publishers/providers'],\n",
       "      'categories': ['Full Text Sources'],\n",
       "      'attributes': ['full-text online',\n",
       "       'publisher of information in url',\n",
       "       'subscription/membership/fee required'],\n",
       "      'provider': {'name': 'Springer',\n",
       "       'nameabbr': 'Springer',\n",
       "       'id': '3055',\n",
       "       'url': {'lng': 'EN', 'value': 'http://www.springeronline.com/'}}},\n",
       "     'dbto': None,\n",
       "     'linkname': None},\n",
       "    {'objurl': {'url': {'value': 'https://scite.ai/reports/29569152'},\n",
       "      'subjecttypes': ['supplemental materials'],\n",
       "      'categories': ['Other Literature Sources'],\n",
       "      'attributes': ['free resource'],\n",
       "      'provider': {'name': 'scite Smart Citations',\n",
       "       'nameabbr': 'sciteaidb',\n",
       "       'id': '10307',\n",
       "       'url': {'lng': 'EN', 'value': 'https://www.scite.ai/'}}},\n",
       "     'dbto': None,\n",
       "     'linkname': None}]},\n",
       "  {'uid': 27848006,\n",
       "   'dbfrom': 'pubmed',\n",
       "   'category': 'linked',\n",
       "   'size': 3,\n",
       "   'linkunits': [{'objurl': {'url': {'value': 'https://doi.org/10.1007/s00198-016-3828-8'},\n",
       "      'iconurl': {'lng': 'EN',\n",
       "       'value': '//www.ncbi.nlm.nih.gov/corehtml/query/egifs/http:--production.springer.de-OnlineResources-Logos-springerlink.gif'},\n",
       "      'subjecttypes': ['publishers/providers'],\n",
       "      'categories': ['Full Text Sources'],\n",
       "      'attributes': ['full-text online',\n",
       "       'publisher of information in url',\n",
       "       'subscription/membership/fee required'],\n",
       "      'provider': {'name': 'Springer',\n",
       "       'nameabbr': 'Springer',\n",
       "       'id': '3055',\n",
       "       'url': {'lng': 'EN', 'value': 'http://www.springeronline.com/'}}},\n",
       "     'dbto': None,\n",
       "     'linkname': None},\n",
       "    {'objurl': {'url': {'value': 'https://medlineplus.gov/osteoporosis.html'},\n",
       "      'iconurl': {'lng': 'EN',\n",
       "       'value': '//www.ncbi.nlm.nih.gov/corehtml/query/egifs/https:--medlineplus.gov-images-linkout_sm.gif'},\n",
       "      'linkname': 'Osteoporosis',\n",
       "      'subjecttypes': ['consumer health'],\n",
       "      'categories': ['Medical'],\n",
       "      'attributes': ['free resource'],\n",
       "      'provider': {'name': 'MedlinePlus Health Information',\n",
       "       'nameabbr': 'MEDPLUS',\n",
       "       'id': '3162',\n",
       "       'url': {'lng': 'EN', 'value': 'https://medlineplus.gov/'}}},\n",
       "     'dbto': None,\n",
       "     'linkname': None},\n",
       "    {'objurl': {'url': {'value': 'https://scite.ai/reports/27848006'},\n",
       "      'subjecttypes': ['supplemental materials'],\n",
       "      'categories': ['Other Literature Sources'],\n",
       "      'attributes': ['free resource'],\n",
       "      'provider': {'name': 'scite Smart Citations',\n",
       "       'nameabbr': 'sciteaidb',\n",
       "       'id': '10307',\n",
       "       'url': {'lng': 'EN', 'value': 'https://www.scite.ai/'}}},\n",
       "     'dbto': None,\n",
       "     'linkname': None}]},\n",
       "  {'uid': 25466529,\n",
       "   'dbfrom': 'pubmed',\n",
       "   'category': 'linked',\n",
       "   'size': 6,\n",
       "   'linkunits': [{'objurl': {'url': {'value': 'https://doi.org/10.1007/s00198-014-2973-1'},\n",
       "      'iconurl': {'lng': 'EN',\n",
       "       'value': '//www.ncbi.nlm.nih.gov/corehtml/query/egifs/http:--production.springer.de-OnlineResources-Logos-springerlink.gif'},\n",
       "      'subjecttypes': ['publishers/providers'],\n",
       "      'categories': ['Full Text Sources'],\n",
       "      'attributes': ['full-text online',\n",
       "       'publisher of information in url',\n",
       "       'subscription/membership/fee required'],\n",
       "      'provider': {'name': 'Springer',\n",
       "       'nameabbr': 'Springer',\n",
       "       'id': '3055',\n",
       "       'url': {'lng': 'EN', 'value': 'http://www.springeronline.com/'}}},\n",
       "     'dbto': None,\n",
       "     'linkname': None},\n",
       "    {'objurl': {'url': {'value': 'https://ClinicalTrials.gov/search/term=25466529%20%5BPUBMED-IDS%5D'},\n",
       "      'iconurl': {'lng': 'EN',\n",
       "       'value': '//www.ncbi.nlm.nih.gov/corehtml/query/egifs/https:--clinicaltrials.gov-ct2-html-images-small_logo.gif'},\n",
       "      'subjecttypes': ['clinical trials'],\n",
       "      'categories': ['Medical'],\n",
       "      'attributes': ['free resource'],\n",
       "      'provider': {'name': 'ClinicalTrials.gov',\n",
       "       'nameabbr': 'CTgov',\n",
       "       'id': '3654',\n",
       "       'url': {'lng': 'EN', 'value': 'https://ClinicalTrials.gov'}}},\n",
       "     'dbto': None,\n",
       "     'linkname': None},\n",
       "    {'objurl': {'url': {'value': 'http://www.diseaseinfosearch.org/result/9059'},\n",
       "      'iconurl': {'lng': 'EN',\n",
       "       'value': '//www.ncbi.nlm.nih.gov/corehtml/query/egifs/http:--geneticalliance.org-sites-default-files-images-DISlogo.jpg'},\n",
       "      'linkname': 'Osteoporosis',\n",
       "      'subjecttypes': ['consumer health'],\n",
       "      'categories': ['Medical'],\n",
       "      'attributes': ['free resource'],\n",
       "      'provider': {'name': 'Genetic Alliance',\n",
       "       'nameabbr': 'GA',\n",
       "       'id': '6412',\n",
       "       'url': {}}},\n",
       "     'dbto': None,\n",
       "     'linkname': None},\n",
       "    {'objurl': {'url': {'value': 'https://medlineplus.gov/osteoporosis.html'},\n",
       "      'iconurl': {'lng': 'EN',\n",
       "       'value': '//www.ncbi.nlm.nih.gov/corehtml/query/egifs/https:--medlineplus.gov-images-linkout_sm.gif'},\n",
       "      'linkname': 'Osteoporosis',\n",
       "      'subjecttypes': ['consumer health'],\n",
       "      'categories': ['Medical'],\n",
       "      'attributes': ['free resource'],\n",
       "      'provider': {'name': 'MedlinePlus Health Information',\n",
       "       'nameabbr': 'MEDPLUS',\n",
       "       'id': '3162',\n",
       "       'url': {'lng': 'EN', 'value': 'https://medlineplus.gov/'}}},\n",
       "     'dbto': None,\n",
       "     'linkname': None},\n",
       "    {'objurl': {'url': {'value': 'https://assays.cancer.gov/CPTAC-68'},\n",
       "      'subjecttypes': [],\n",
       "      'categories': ['Miscellaneous'],\n",
       "      'attributes': ['free resource'],\n",
       "      'provider': {'name': 'NCI CPTAC Assay Portal',\n",
       "       'nameabbr': 'assaysnci',\n",
       "       'id': '8855',\n",
       "       'url': {'lng': 'EN', 'value': 'https://assays.cancer.gov'}}},\n",
       "     'dbto': None,\n",
       "     'linkname': None},\n",
       "    {'objurl': {'url': {'value': 'https://scite.ai/reports/25466529'},\n",
       "      'subjecttypes': ['supplemental materials'],\n",
       "      'categories': ['Other Literature Sources'],\n",
       "      'attributes': ['free resource'],\n",
       "      'provider': {'name': 'scite Smart Citations',\n",
       "       'nameabbr': 'sciteaidb',\n",
       "       'id': '10307',\n",
       "       'url': {'lng': 'EN', 'value': 'https://www.scite.ai/'}}},\n",
       "     'dbto': None,\n",
       "     'linkname': None}]},\n",
       "  {'uid': 26679436,\n",
       "   'dbfrom': 'pubmed',\n",
       "   'category': 'linked',\n",
       "   'size': 4,\n",
       "   'linkunits': [{'objurl': {'url': {'value': 'https://linkinghub.elsevier.com/retrieve/pii/S8756-3282(15)00424-X'},\n",
       "      'iconurl': {'lng': 'EN',\n",
       "       'value': '//www.ncbi.nlm.nih.gov/corehtml/query/egifs/https:--linkinghub.elsevier.com-ihub-images-PubMedLink.gif'},\n",
       "      'subjecttypes': ['publishers/providers'],\n",
       "      'categories': ['Full Text Sources'],\n",
       "      'attributes': ['full-text online',\n",
       "       'publisher of information in url',\n",
       "       'subscription/membership/fee required'],\n",
       "      'provider': {'name': 'Elsevier Science',\n",
       "       'nameabbr': 'ES',\n",
       "       'id': '3048',\n",
       "       'url': {'lng': 'EN', 'value': 'http://www.elsevier.com/'}}},\n",
       "     'dbto': None,\n",
       "     'linkname': None},\n",
       "    {'objurl': {'url': {'value': 'https://www.clinicalkey.com/content/playBy/pii?v=S8756-3282(15)00424-X'},\n",
       "      'iconurl': {'lng': 'EN',\n",
       "       'value': '//www.ncbi.nlm.nih.gov/corehtml/query/egifs/http:--dgb32t5jlo8kf.cloudfront.net-images-clinicalk_linkout.png'},\n",
       "      'subjecttypes': ['aggregators'],\n",
       "      'categories': ['Full Text Sources'],\n",
       "      'attributes': ['full-text online',\n",
       "       'subscription/membership/fee required'],\n",
       "      'provider': {'name': 'ClinicalKey',\n",
       "       'nameabbr': 'clinicalk',\n",
       "       'id': '8412',\n",
       "       'url': {'lng': 'EN', 'value': 'https://www.clinicalkey.com'}}},\n",
       "     'dbto': None,\n",
       "     'linkname': None},\n",
       "    {'objurl': {'url': {'value': 'https://medlineplus.gov/bonedensity.html'},\n",
       "      'iconurl': {'lng': 'EN',\n",
       "       'value': '//www.ncbi.nlm.nih.gov/corehtml/query/egifs/https:--medlineplus.gov-images-linkout_sm.gif'},\n",
       "      'linkname': 'Bone Density',\n",
       "      'subjecttypes': ['consumer health'],\n",
       "      'categories': ['Medical'],\n",
       "      'attributes': ['free resource'],\n",
       "      'provider': {'name': 'MedlinePlus Health Information',\n",
       "       'nameabbr': 'MEDPLUS',\n",
       "       'id': '3162',\n",
       "       'url': {'lng': 'EN', 'value': 'https://medlineplus.gov/'}}},\n",
       "     'dbto': None,\n",
       "     'linkname': None},\n",
       "    {'objurl': {'url': {'value': 'https://scite.ai/reports/26679436'},\n",
       "      'subjecttypes': ['supplemental materials'],\n",
       "      'categories': ['Other Literature Sources'],\n",
       "      'attributes': ['free resource'],\n",
       "      'provider': {'name': 'scite Smart Citations',\n",
       "       'nameabbr': 'sciteaidb',\n",
       "       'id': '10307',\n",
       "       'url': {'lng': 'EN', 'value': 'https://www.scite.ai/'}}},\n",
       "     'dbto': None,\n",
       "     'linkname': None}]},\n",
       "  {'uid': 26659068,\n",
       "   'dbfrom': 'pubmed',\n",
       "   'category': 'linked',\n",
       "   'size': 4,\n",
       "   'linkunits': [{'objurl': {'url': {'value': 'https://doi.org/10.1007/s00198-015-3451-0'},\n",
       "      'iconurl': {'lng': 'EN',\n",
       "       'value': '//www.ncbi.nlm.nih.gov/corehtml/query/egifs/http:--production.springer.de-OnlineResources-Logos-springerlink.gif'},\n",
       "      'subjecttypes': ['publishers/providers'],\n",
       "      'categories': ['Full Text Sources'],\n",
       "      'attributes': ['full-text online',\n",
       "       'publisher of information in url',\n",
       "       'subscription/membership/fee required'],\n",
       "      'provider': {'name': 'Springer',\n",
       "       'nameabbr': 'Springer',\n",
       "       'id': '3055',\n",
       "       'url': {'lng': 'EN', 'value': 'http://www.springeronline.com/'}}},\n",
       "     'dbto': None,\n",
       "     'linkname': None},\n",
       "    {'objurl': {'url': {'value': 'https://medlineplus.gov/osteoporosis.html'},\n",
       "      'iconurl': {'lng': 'EN',\n",
       "       'value': '//www.ncbi.nlm.nih.gov/corehtml/query/egifs/https:--medlineplus.gov-images-linkout_sm.gif'},\n",
       "      'linkname': 'Osteoporosis',\n",
       "      'subjecttypes': ['consumer health'],\n",
       "      'categories': ['Medical'],\n",
       "      'attributes': ['free resource'],\n",
       "      'provider': {'name': 'MedlinePlus Health Information',\n",
       "       'nameabbr': 'MEDPLUS',\n",
       "       'id': '3162',\n",
       "       'url': {'lng': 'EN', 'value': 'https://medlineplus.gov/'}}},\n",
       "     'dbto': None,\n",
       "     'linkname': None},\n",
       "    {'objurl': {'url': {'value': 'https://antibodies.cancer.gov/detail/CPTC-ATM-4'},\n",
       "      'subjecttypes': ['clones/clone libraries'],\n",
       "      'categories': ['Research Materials'],\n",
       "      'attributes': ['free resource'],\n",
       "      'provider': {'name': 'NCI CPTC Antibody Characterization Program',\n",
       "       'nameabbr': 'antibodynci',\n",
       "       'id': '8467',\n",
       "       'url': {'lng': 'EN', 'value': 'https://antibodies.cancer.gov'}}},\n",
       "     'dbto': None,\n",
       "     'linkname': None},\n",
       "    {'objurl': {'url': {'value': 'https://antibodies.cancer.gov/detail/CPTC-ATM-2'},\n",
       "      'subjecttypes': ['clones/clone libraries'],\n",
       "      'categories': ['Research Materials'],\n",
       "      'attributes': ['free resource'],\n",
       "      'provider': {'name': 'NCI CPTC Antibody Characterization Program',\n",
       "       'nameabbr': 'antibodynci',\n",
       "       'id': '8467',\n",
       "       'url': {'lng': 'EN', 'value': 'https://antibodies.cancer.gov'}}},\n",
       "     'dbto': None,\n",
       "     'linkname': None}]},\n",
       "  {'uid': 28197643,\n",
       "   'dbfrom': 'pubmed',\n",
       "   'category': 'linked',\n",
       "   'size': 5,\n",
       "   'linkunits': [{'objurl': {'url': {'value': 'https://dx.doi.org/10.1007/s00223-017-0238-7'},\n",
       "      'iconurl': {'lng': 'EN',\n",
       "       'value': '//www.ncbi.nlm.nih.gov/corehtml/query/egifs/http:--production.springer.de-OnlineResources-Logos-springerlink.gif'},\n",
       "      'subjecttypes': ['publishers/providers'],\n",
       "      'categories': ['Full Text Sources'],\n",
       "      'attributes': ['full-text online',\n",
       "       'publisher of information in url',\n",
       "       'subscription/membership/fee required'],\n",
       "      'provider': {'name': 'Springer',\n",
       "       'nameabbr': 'Springer',\n",
       "       'id': '3055',\n",
       "       'url': {'lng': 'EN', 'value': 'http://www.springeronline.com/'}}},\n",
       "     'dbto': None,\n",
       "     'linkname': None},\n",
       "    {'objurl': {'url': {'value': 'https://medlineplus.gov/bonedensity.html'},\n",
       "      'iconurl': {'lng': 'EN',\n",
       "       'value': '//www.ncbi.nlm.nih.gov/corehtml/query/egifs/https:--medlineplus.gov-images-linkout_sm.gif'},\n",
       "      'linkname': 'Bone Density',\n",
       "      'subjecttypes': ['consumer health'],\n",
       "      'categories': ['Medical'],\n",
       "      'attributes': ['free resource'],\n",
       "      'provider': {'name': 'MedlinePlus Health Information',\n",
       "       'nameabbr': 'MEDPLUS',\n",
       "       'id': '3162',\n",
       "       'url': {'lng': 'EN', 'value': 'https://medlineplus.gov/'}}},\n",
       "     'dbto': None,\n",
       "     'linkname': None},\n",
       "    {'objurl': {'url': {'value': 'https://medlineplus.gov/hipinjuriesanddisorders.html'},\n",
       "      'iconurl': {'lng': 'EN',\n",
       "       'value': '//www.ncbi.nlm.nih.gov/corehtml/query/egifs/https:--medlineplus.gov-images-linkout_sm.gif'},\n",
       "      'linkname': 'Hip Injuries and Disorders',\n",
       "      'subjecttypes': ['consumer health'],\n",
       "      'categories': ['Medical'],\n",
       "      'attributes': ['free resource'],\n",
       "      'provider': {'name': 'MedlinePlus Health Information',\n",
       "       'nameabbr': 'MEDPLUS',\n",
       "       'id': '3162',\n",
       "       'url': {'lng': 'EN', 'value': 'https://medlineplus.gov/'}}},\n",
       "     'dbto': None,\n",
       "     'linkname': None},\n",
       "    {'objurl': {'url': {'value': 'https://medlineplus.gov/osteoporosis.html'},\n",
       "      'iconurl': {'lng': 'EN',\n",
       "       'value': '//www.ncbi.nlm.nih.gov/corehtml/query/egifs/https:--medlineplus.gov-images-linkout_sm.gif'},\n",
       "      'linkname': 'Osteoporosis',\n",
       "      'subjecttypes': ['consumer health'],\n",
       "      'categories': ['Medical'],\n",
       "      'attributes': ['free resource'],\n",
       "      'provider': {'name': 'MedlinePlus Health Information',\n",
       "       'nameabbr': 'MEDPLUS',\n",
       "       'id': '3162',\n",
       "       'url': {'lng': 'EN', 'value': 'https://medlineplus.gov/'}}},\n",
       "     'dbto': None,\n",
       "     'linkname': None},\n",
       "    {'objurl': {'url': {'value': 'https://scite.ai/reports/28197643'},\n",
       "      'subjecttypes': ['supplemental materials'],\n",
       "      'categories': ['Other Literature Sources'],\n",
       "      'attributes': ['free resource'],\n",
       "      'provider': {'name': 'scite Smart Citations',\n",
       "       'nameabbr': 'sciteaidb',\n",
       "       'id': '10307',\n",
       "       'url': {'lng': 'EN', 'value': 'https://www.scite.ai/'}}},\n",
       "     'dbto': None,\n",
       "     'linkname': None}]}]}"
      ]
     },
     "metadata": {},
     "execution_count": 5
    }
   ],
   "source": [
    "import entrezpy.elink.elinker\n",
    "import entrezpy.elink.elink_analyzer\n",
    "\n",
    "e = entrezpy.elink.elinker.Elinker('Christian Kruse', 'XXX@YYY.com')\n",
    "a = entrezpy.elink.elink_analyzer.ElinkAnalyzer()\n",
    "\n",
    "query = {'dbfrom' : 'pubmed', 'id' : uids , 'cmd' : 'llinks'}\n",
    "analyzer = e.inquire(query, analyzer=a)\n",
    "\n",
    "analyzer.get_result().dump()\n",
    "\n"
   ]
  },
  {
   "source": [
    "# MeSH"
   ],
   "cell_type": "markdown",
   "metadata": {}
  },
  {
   "cell_type": "code",
   "execution_count": 23,
   "metadata": {},
   "outputs": [],
   "source": [
    "mesh_term = '(\"COVID-19\"[Mesh]) AND \"Machine Learning\"[Mesh]'"
   ]
  },
  {
   "source": [
    "## Count"
   ],
   "cell_type": "markdown",
   "metadata": {}
  },
  {
   "cell_type": "code",
   "execution_count": 34,
   "metadata": {},
   "outputs": [
    {
     "output_type": "execute_result",
     "data": {
      "text/plain": [
       "1"
      ]
     },
     "metadata": {},
     "execution_count": 34
    }
   ],
   "source": [
    "import entrezpy.esearch.esearcher\n",
    "\n",
    "esearch = entrezpy.esearch.esearcher.Esearcher( 'Christian Kruse', 'XXX@YYY.com' )\n",
    "a = esearch.inquire({ 'db' : 'pubmed','term': mesh_term, 'rettype': 'uilist', 'sort': 'most+recent'})\n",
    "uids = list(set(a.get_result().uids))\n",
    "uids = uids[0:1]\n",
    "len( uids )"
   ]
  },
  {
   "source": [
    "## Text"
   ],
   "cell_type": "markdown",
   "metadata": {}
  },
  {
   "cell_type": "code",
   "execution_count": 35,
   "metadata": {},
   "outputs": [
    {
     "output_type": "stream",
     "name": "stdout",
     "text": [
      "['33492267']\n"
     ]
    }
   ],
   "source": [
    "import entrezpy.esearch.esearcher\n",
    "\n",
    "esearch = entrezpy.esearch.esearcher.Esearcher( 'Christian Kruse', 'XXX@YYY.com' )\n",
    "a = esearch.inquire({ 'db' : 'pubmed','term': mesh_term, 'rettype': 'uilist', 'sort': 'most+recent'})\n",
    "uids = list(set(a.get_result().uids))\n",
    "uids = uids[0:1]\n",
    "print( uids )"
   ]
  },
  {
   "source": [
    "## Grab JSON"
   ],
   "cell_type": "markdown",
   "metadata": {}
  },
  {
   "cell_type": "code",
   "execution_count": 38,
   "metadata": {
    "tags": [
     "outputPrepend"
    ]
   },
   "outputs": [
    {
     "output_type": "stream",
     "name": "stdout",
     "text": [
      "\"Author\",\n                \"clusterid\": \"\",\n                \"name\": \"Ran Z\"\n            },\n            {\n                \"authtype\": \"Author\",\n                \"clusterid\": \"\",\n                \"name\": \"Huang J\"\n            },\n            {\n                \"authtype\": \"Author\",\n                \"clusterid\": \"\",\n                \"name\": \"Ren H\"\n            },\n            {\n                \"authtype\": \"Author\",\n                \"clusterid\": \"\",\n                \"name\": \"Liu C\"\n            },\n            {\n                \"authtype\": \"Author\",\n                \"clusterid\": \"\",\n                \"name\": \"Zhang B\"\n            },\n            {\n                \"authtype\": \"Author\",\n                \"clusterid\": \"\",\n                \"name\": \"Zhang B\"\n            },\n            {\n                \"authtype\": \"Author\",\n                \"clusterid\": \"\",\n                \"name\": \"Dang J\"\n            }\n        ],\n        \"availablefromurl\": \"\",\n        \"bookname\": \"\",\n        \"booktitle\": \"\",\n        \"chapter\": \"\",\n        \"doccontriblist\": [],\n        \"docdate\": \"\",\n        \"doctype\": \"citation\",\n        \"edition\": \"\",\n        \"elocationid\": \"doi: 10.7507/1001-5515.202008032\",\n        \"epubdate\": \"\",\n        \"essn\": \"\",\n        \"fulljournalname\": \"Sheng wu yi xue gong cheng xue za zhi = Journal of biomedical engineering = Shengwu yixue gongchengxue zazhi\",\n        \"history\": [\n            {\n                \"date\": \"2021/04/29 06:55\",\n                \"pubstatus\": \"entrez\"\n            },\n            {\n                \"date\": \"2021/04/30 06:00\",\n                \"pubstatus\": \"pubmed\"\n            },\n            {\n                \"date\": \"2021/05/01 06:00\",\n                \"pubstatus\": \"medline\"\n            }\n        ],\n        \"issn\": \"1001-5515\",\n        \"issue\": \"2\",\n        \"lang\": [\n            \"chi\"\n        ],\n        \"lastauthor\": \"Dang J\",\n        \"locationlabel\": \"\",\n        \"medium\": \"\",\n        \"nlmuniqueid\": \"9426398\",\n        \"pages\": \"379-386\",\n        \"pmcrefcount\": \"\",\n        \"pubdate\": \"2021 Apr 25\",\n        \"publisherlocation\": \"\",\n        \"publishername\": \"\",\n        \"pubstatus\": \"4\",\n        \"pubtype\": [\n            \"Journal Article\",\n            \"Review\"\n        ],\n        \"recordstatus\": \"PubMed - indexed for MEDLINE\",\n        \"references\": [],\n        \"reportnumber\": \"\",\n        \"sortfirstauthor\": \"Xiao H\",\n        \"sortpubdate\": \"2021/04/25 00:00\",\n        \"sorttitle\": \"research progress in lung parenchyma segmentation based on computed tomography\",\n        \"source\": \"Sheng Wu Yi Xue Gong Cheng Xue Za Zhi\",\n        \"srccontriblist\": [],\n        \"srcdate\": \"\",\n        \"title\": \"[Research progress in lung parenchyma segmentation based on computed tomography].\",\n        \"uid\": \"33913299\",\n        \"vernaculartitle\": \"\",\n        \"volume\": \"38\"\n    },\n    \"33919496\": {\n        \"articleids\": [\n            {\n                \"idtype\": \"pubmed\",\n                \"idtypen\": 1,\n                \"value\": \"33919496\"\n            },\n            {\n                \"idtype\": \"pii\",\n                \"idtypen\": 4,\n                \"value\": \"ijerph18084287\"\n            },\n            {\n                \"idtype\": \"doi\",\n                \"idtypen\": 3,\n                \"value\": \"10.3390/ijerph18084287\"\n            },\n            {\n                \"idtype\": \"pmc\",\n                \"idtypen\": 8,\n                \"value\": \"PMC8073788\"\n            },\n            {\n                \"idtype\": \"rid\",\n                \"idtypen\": 8,\n                \"value\": \"33919496\"\n            },\n            {\n                \"idtype\": \"eid\",\n                \"idtypen\": 8,\n                \"value\": \"33919496\"\n            },\n            {\n                \"idtype\": \"pmcid\",\n                \"idtypen\": 5,\n                \"value\": \"pmc-id: PMC8073788;\"\n            }\n        ],\n        \"attributes\": [\n            \"Has Abstract\"\n        ],\n        \"authors\": [\n            {\n                \"authtype\": \"Author\",\n                \"clusterid\": \"\",\n                \"name\": \"Musulin J\"\n            },\n            {\n                \"authtype\": \"Author\",\n                \"clusterid\": \"\",\n                \"name\": \"Baressi \\u0160egota S\"\n            },\n            {\n                \"authtype\": \"Author\",\n                \"clusterid\": \"\",\n                \"name\": \"\\u0160tifani\\u0107 D\"\n            },\n            {\n                \"authtype\": \"Author\",\n                \"clusterid\": \"\",\n                \"name\": \"Lorencin I\"\n            },\n            {\n                \"authtype\": \"Author\",\n                \"clusterid\": \"\",\n                \"name\": \"An\\u0111eli\\u0107 N\"\n            },\n            {\n                \"authtype\": \"Author\",\n                \"clusterid\": \"\",\n                \"name\": \"\\u0160u\\u0161ter\\u0161i\\u010d T\"\n            },\n            {\n                \"authtype\": \"Author\",\n                \"clusterid\": \"\",\n                \"name\": \"Blagojevi\\u0107 A\"\n            },\n            {\n                \"authtype\": \"Author\",\n                \"clusterid\": \"\",\n                \"name\": \"Filipovi\\u0107 N\"\n            },\n            {\n                \"authtype\": \"Author\",\n                \"clusterid\": \"\",\n                \"name\": \"\\u0106abov T\"\n            },\n            {\n                \"authtype\": \"Author\",\n                \"clusterid\": \"\",\n                \"name\": \"Markova-Car E\"\n            }\n        ],\n        \"availablefromurl\": \"\",\n        \"bookname\": \"\",\n        \"booktitle\": \"\",\n        \"chapter\": \"\",\n        \"doccontriblist\": [],\n        \"docdate\": \"\",\n        \"doctype\": \"citation\",\n        \"edition\": \"\",\n        \"elocationid\": \"pii: 4287. doi: 10.3390/ijerph18084287\",\n        \"epubdate\": \"2021 Apr 18\",\n        \"essn\": \"1660-4601\",\n        \"fulljournalname\": \"International journal of environmental research and public health\",\n        \"history\": [\n            {\n                \"date\": \"2021/03/23 00:00\",\n                \"pubstatus\": \"received\"\n            },\n            {\n                \"date\": \"2021/04/14 00:00\",\n                \"pubstatus\": \"revised\"\n            },\n            {\n                \"date\": \"2021/04/16 00:00\",\n                \"pubstatus\": \"accepted\"\n            },\n            {\n                \"date\": \"2021/04/30 01:12\",\n                \"pubstatus\": \"entrez\"\n            },\n            {\n                \"date\": \"2021/05/01 06:00\",\n                \"pubstatus\": \"pubmed\"\n            },\n            {\n                \"date\": \"2021/05/06 06:00\",\n                \"pubstatus\": \"medline\"\n            }\n        ],\n        \"issn\": \"1661-7827\",\n        \"issue\": \"8\",\n        \"lang\": [\n            \"eng\"\n        ],\n        \"lastauthor\": \"Markova-Car E\",\n        \"locationlabel\": \"\",\n        \"medium\": \"\",\n        \"nlmuniqueid\": \"101238455\",\n        \"pages\": \"\",\n        \"pmcrefcount\": \"\",\n        \"pubdate\": \"2021 Apr 18\",\n        \"publisherlocation\": \"\",\n        \"publishername\": \"\",\n        \"pubstatus\": \"3\",\n        \"pubtype\": [\n            \"Journal Article\",\n            \"Review\"\n        ],\n        \"recordstatus\": \"PubMed - indexed for MEDLINE\",\n        \"references\": [],\n        \"reportnumber\": \"\",\n        \"sortfirstauthor\": \"Musulin J\",\n        \"sortpubdate\": \"2021/04/18 00:00\",\n        \"sorttitle\": \"application of artificial intelligence based regression methods in the problem of covid 19 spread prediction a systematic review\",\n        \"source\": \"Int J Environ Res Public Health\",\n        \"srccontriblist\": [],\n        \"srcdate\": \"\",\n        \"title\": \"Application of Artificial Intelligence-Based Regression Methods in the Problem of COVID-19 Spread Prediction: A Systematic Review.\",\n        \"uid\": \"33919496\",\n        \"vernaculartitle\": \"\",\n        \"volume\": \"18\"\n    },\n    \"33921539\": {\n        \"articleids\": [\n            {\n                \"idtype\": \"pubmed\",\n                \"idtypen\": 1,\n                \"value\": \"33921539\"\n            },\n            {\n                \"idtype\": \"pii\",\n                \"idtypen\": 4,\n                \"value\": \"ijerph18084069\"\n            },\n            {\n                \"idtype\": \"doi\",\n                \"idtypen\": 3,\n                \"value\": \"10.3390/ijerph18084069\"\n            },\n            {\n                \"idtype\": \"pmc\",\n                \"idtypen\": 8,\n                \"value\": \"PMC8069687\"\n            },\n            {\n                \"idtype\": \"rid\",\n                \"idtypen\": 8,\n                \"value\": \"33921539\"\n            },\n            {\n                \"idtype\": \"eid\",\n                \"idtypen\": 8,\n                \"value\": \"33921539\"\n            },\n            {\n                \"idtype\": \"pmcid\",\n                \"idtypen\": 5,\n                \"value\": \"pmc-id: PMC8069687;\"\n            }\n        ],\n        \"attributes\": [\n            \"Has Abstract\"\n        ],\n        \"authors\": [\n            {\n                \"authtype\": \"Author\",\n                \"clusterid\": \"\",\n                \"name\": \"To QG\"\n            },\n            {\n                \"authtype\": \"Author\",\n                \"clusterid\": \"\",\n                \"name\": \"To KG\"\n            },\n            {\n                \"authtype\": \"Author\",\n                \"clusterid\": \"\",\n                \"name\": \"Huynh VN\"\n            },\n            {\n                \"authtype\": \"Author\",\n                \"clusterid\": \"\",\n                \"name\": \"Nguyen NTQ\"\n            },\n            {\n                \"authtype\": \"Author\",\n                \"clusterid\": \"\",\n                \"name\": \"Ngo DTN\"\n            },\n            {\n                \"authtype\": \"Author\",\n                \"clusterid\": \"\",\n                \"name\": \"Alley SJ\"\n            },\n            {\n                \"authtype\": \"Author\",\n                \"clusterid\": \"\",\n                \"name\": \"Tran ANQ\"\n            },\n            {\n                \"authtype\": \"Author\",\n                \"clusterid\": \"\",\n                \"name\": \"Tran ANP\"\n            },\n            {\n                \"authtype\": \"Author\",\n                \"clusterid\": \"\",\n                \"name\": \"Pham NTT\"\n            },\n            {\n                \"authtype\": \"Author\",\n                \"clusterid\": \"\",\n                \"name\": \"Bui TX\"\n            },\n            {\n                \"authtype\": \"Author\",\n                \"clusterid\": \"\",\n                \"name\": \"Vandelanotte C\"\n            }\n        ],\n        \"availablefromurl\": \"\",\n        \"bookname\": \"\",\n        \"booktitle\": \"\",\n        \"chapter\": \"\",\n        \"doccontriblist\": [],\n        \"docdate\": \"\",\n        \"doctype\": \"citation\",\n        \"edition\": \"\",\n        \"elocationid\": \"pii: 4069. doi: 10.3390/ijerph18084069\",\n        \"epubdate\": \"2021 Apr 12\",\n        \"essn\": \"1660-4601\",\n        \"fulljournalname\": \"International journal of environmental research and public health\",\n        \"history\": [\n            {\n                \"date\": \"2021/03/21 00:00\",\n                \"pubstatus\": \"received\"\n            },\n            {\n                \"date\": \"2021/04/05 00:00\",\n                \"pubstatus\": \"revised\"\n            },\n            {\n                \"date\": \"2021/04/08 00:00\",\n                \"pubstatus\": \"accepted\"\n            },\n            {\n                \"date\": \"2021/04/30 01:19\",\n                \"pubstatus\": \"entrez\"\n            },\n            {\n                \"date\": \"2021/05/01 06:00\",\n                \"pubstatus\": \"pubmed\"\n            },\n            {\n                \"date\": \"2021/05/06 06:00\",\n                \"pubstatus\": \"medline\"\n            }\n        ],\n        \"issn\": \"1661-7827\",\n        \"issue\": \"8\",\n        \"lang\": [\n            \"eng\"\n        ],\n        \"lastauthor\": \"Vandelanotte C\",\n        \"locationlabel\": \"\",\n        \"medium\": \"\",\n        \"nlmuniqueid\": \"101238455\",\n        \"pages\": \"\",\n        \"pmcrefcount\": \"\",\n        \"pubdate\": \"2021 Apr 12\",\n        \"publisherlocation\": \"\",\n        \"publishername\": \"\",\n        \"pubstatus\": \"3\",\n        \"pubtype\": [\n            \"Journal Article\"\n        ],\n        \"recordstatus\": \"PubMed - indexed for MEDLINE\",\n        \"references\": [],\n        \"reportnumber\": \"\",\n        \"sortfirstauthor\": \"To QG\",\n        \"sortpubdate\": \"2021/04/12 00:00\",\n        \"sorttitle\": \"applying machine learning to identify anti vaccination tweets during the covid 19 pandemic\",\n        \"source\": \"Int J Environ Res Public Health\",\n        \"srccontriblist\": [],\n        \"srcdate\": \"\",\n        \"title\": \"Applying Machine Learning to Identify Anti-Vaccination Tweets during the COVID-19 Pandemic.\",\n        \"uid\": \"33921539\",\n        \"vernaculartitle\": \"\",\n        \"volume\": \"18\"\n    },\n    \"33922693\": {\n        \"articleids\": [\n            {\n                \"idtype\": \"pubmed\",\n                \"idtypen\": 1,\n                \"value\": \"33922693\"\n            },\n            {\n                \"idtype\": \"pii\",\n                \"idtypen\": 4,\n                \"value\": \"ijerph18094499\"\n            },\n            {\n                \"idtype\": \"doi\",\n                \"idtypen\": 3,\n                \"value\": \"10.3390/ijerph18094499\"\n            },\n            {\n                \"idtype\": \"rid\",\n                \"idtypen\": 8,\n                \"value\": \"33922693\"\n            },\n            {\n                \"idtype\": \"eid\",\n                \"idtypen\": 8,\n                \"value\": \"33922693\"\n            }\n        ],\n        \"attributes\": [\n            \"Has Abstract\"\n        ],\n        \"authors\": [\n            {\n                \"authtype\": \"Author\",\n                \"clusterid\": \"\",\n                \"name\": \"Payedimarri AB\"\n            },\n            {\n                \"authtype\": \"Author\",\n                \"clusterid\": \"\",\n                \"name\": \"Concina D\"\n            },\n            {\n                \"authtype\": \"Author\",\n                \"clusterid\": \"\",\n                \"name\": \"Portinale L\"\n            },\n            {\n                \"authtype\": \"Author\",\n                \"clusterid\": \"\",\n                \"name\": \"Canonico M\"\n            },\n            {\n                \"authtype\": \"Author\",\n                \"clusterid\": \"\",\n                \"name\": \"Seys D\"\n            },\n            {\n                \"authtype\": \"Author\",\n                \"clusterid\": \"\",\n                \"name\": \"Vanhaecht K\"\n            },\n            {\n                \"authtype\": \"Author\",\n                \"clusterid\": \"\",\n                \"name\": \"Panella M\"\n            }\n        ],\n        \"availablefromurl\": \"\",\n        \"bookname\": \"\",\n        \"booktitle\": \"\",\n        \"chapter\": \"\",\n        \"doccontriblist\": [],\n        \"docdate\": \"\",\n        \"doctype\": \"citation\",\n        \"edition\": \"\",\n        \"elocationid\": \"pii: 4499. doi: 10.3390/ijerph18094499\",\n        \"epubdate\": \"2021 Apr 23\",\n        \"essn\": \"1660-4601\",\n        \"fulljournalname\": \"International journal of environmental research and public health\",\n        \"history\": [\n            {\n                \"date\": \"2021/03/16 00:00\",\n                \"pubstatus\": \"received\"\n            },\n            {\n                \"date\": \"2021/04/21 00:00\",\n                \"pubstatus\": \"revised\"\n            },\n            {\n                \"date\": \"2021/04/22 00:00\",\n                \"pubstatus\": \"accepted\"\n            },\n            {\n                \"date\": \"2021/04/30 01:22\",\n                \"pubstatus\": \"entrez\"\n            },\n            {\n                \"date\": \"2021/05/01 06:00\",\n                \"pubstatus\": \"pubmed\"\n            },\n            {\n                \"date\": \"2021/05/06 06:00\",\n                \"pubstatus\": \"medline\"\n            }\n        ],\n        \"issn\": \"1661-7827\",\n        \"issue\": \"9\",\n        \"lang\": [\n            \"eng\"\n        ],\n        \"lastauthor\": \"Panella M\",\n        \"locationlabel\": \"\",\n        \"medium\": \"\",\n        \"nlmuniqueid\": \"101238455\",\n        \"pages\": \"\",\n        \"pmcrefcount\": \"\",\n        \"pubdate\": \"2021 Apr 23\",\n        \"publisherlocation\": \"\",\n        \"publishername\": \"\",\n        \"pubstatus\": \"3\",\n        \"pubtype\": [\n            \"Journal Article\",\n            \"Review\"\n        ],\n        \"recordstatus\": \"PubMed - indexed for MEDLINE\",\n        \"references\": [],\n        \"reportnumber\": \"\",\n        \"sortfirstauthor\": \"Payedimarri AB\",\n        \"sortpubdate\": \"2021/04/23 00:00\",\n        \"sorttitle\": \"prediction models for public health containment measures on covid 19 using artificial intelligence and machine learning a systematic review\",\n        \"source\": \"Int J Environ Res Public Health\",\n        \"srccontriblist\": [],\n        \"srcdate\": \"\",\n        \"title\": \"Prediction Models for Public Health Containment Measures on COVID-19 Using Artificial Intelligence and Machine Learning: A Systematic Review.\",\n        \"uid\": \"33922693\",\n        \"vernaculartitle\": \"\",\n        \"volume\": \"18\"\n    },\n    \"33940747\": {\n        \"articleids\": [\n            {\n                \"idtype\": \"pubmed\",\n                \"idtypen\": 1,\n                \"value\": \"33940747\"\n            },\n            {\n                \"idtype\": \"pii\",\n                \"idtypen\": 4,\n                \"value\": \"S0048-9697(21)00718-X\"\n            },\n            {\n                \"idtype\": \"doi\",\n                \"idtypen\": 3,\n                \"value\": \"10.1016/j.scitotenv.2021.145650\"\n            },\n            {\n                \"idtype\": \"rid\",\n                \"idtypen\": 8,\n                \"value\": \"33940747\"\n            },\n            {\n                \"idtype\": \"eid\",\n                \"idtypen\": 8,\n                \"value\": \"33940747\"\n            }\n        ],\n        \"attributes\": [\n            \"Has Abstract\"\n        ],\n        \"authors\": [\n            {\n                \"authtype\": \"Author\",\n                \"clusterid\": \"\",\n                \"name\": \"Tiwari A\"\n            },\n            {\n                \"authtype\": \"Author\",\n                \"clusterid\": \"\",\n                \"name\": \"Dadhania AV\"\n            },\n            {\n                \"authtype\": \"Author\",\n                \"clusterid\": \"\",\n                \"name\": \"Ragunathrao VAB\"\n            },\n            {\n                \"authtype\": \"Author\",\n                \"clusterid\": \"\",\n                \"name\": \"Oliveira ERA\"\n            }\n        ],\n        \"availablefromurl\": \"\",\n        \"bookname\": \"\",\n        \"booktitle\": \"\",\n        \"chapter\": \"\",\n        \"doccontriblist\": [],\n        \"docdate\": \"\",\n        \"doctype\": \"citation\",\n        \"edition\": \"\",\n        \"elocationid\": \"doi: 10.1016/j.scitotenv.2021.145650\",\n        \"epubdate\": \"2021 Feb 5\",\n        \"essn\": \"1879-1026\",\n        \"fulljournalname\": \"The Science of the total environment\",\n        \"history\": [\n            {\n                \"date\": \"2020/09/29 00:00\",\n                \"pubstatus\": \"received\"\n            },\n            {\n                \"date\": \"2021/01/30 00:00\",\n                \"pubstatus\": \"revised\"\n            },\n            {\n                \"date\": \"2021/01/31 00:00\",\n                \"pubstatus\": \"accepted\"\n            },\n            {\n                \"date\": \"2021/05/04 01:03\",\n                \"pubstatus\": \"entrez\"\n            },\n            {\n                \"date\": \"2021/05/05 06:00\",\n                \"pubstatus\": \"pubmed\"\n            },\n            {\n                \"date\": \"2021/05/06 06:00\",\n                \"pubstatus\": \"medline\"\n            }\n        ],\n        \"issn\": \"0048-9697\",\n        \"issue\": \"\",\n        \"lang\": [\n            \"eng\"\n        ],\n        \"lastauthor\": \"Oliveira ERA\",\n        \"locationlabel\": \"\",\n        \"medium\": \"\",\n        \"nlmuniqueid\": \"0330500\",\n        \"pages\": \"145650\",\n        \"pmcrefcount\": \"\",\n        \"pubdate\": \"2021 Jun 15\",\n        \"publisherlocation\": \"\",\n        \"publishername\": \"\",\n        \"pubstatus\": \"256\",\n        \"pubtype\": [\n            \"Journal Article\"\n        ],\n        \"recordstatus\": \"PubMed - indexed for MEDLINE\",\n        \"references\": [],\n        \"reportnumber\": \"\",\n        \"sortfirstauthor\": \"Tiwari A\",\n        \"sortpubdate\": \"2021/06/15 00:00\",\n        \"sorttitle\": \"using machine learning to develop a novel covid 19 vulnerability index c19vi\",\n        \"source\": \"Sci Total Environ\",\n        \"srccontriblist\": [],\n        \"srcdate\": \"\",\n        \"title\": \"Using machine learning to develop a novel COVID-19 Vulnerability Index (C19VI).\",\n        \"uid\": \"33940747\",\n        \"vernaculartitle\": \"\",\n        \"volume\": \"773\"\n    }\n}\n"
     ]
    }
   ],
   "source": [
    "import entrezpy.esummary.esummarizer\n",
    "import json\n",
    "\n",
    "esummary = entrezpy.esummary.esummarizer.Esummarizer( 'Christian Kruse', 'XXX@YYY.com' )\n",
    "a = esummary.inquire({ 'db' : 'pubmed', 'id' : uids })\n",
    "summaries = a.get_result().summaries\n",
    "print(json.dumps(summaries, indent=4, sort_keys=True))"
   ]
  },
  {
   "cell_type": "code",
   "execution_count": 64,
   "metadata": {
    "tags": []
   },
   "outputs": [
    {
     "output_type": "stream",
     "name": "stdout",
     "text": [
      "<?xml version=\"1.0\" ?>\n<!DOCTYPE PubmedArticleSet PUBLIC \"-//NLM//DTD PubMedArticle, 1st January 2019//EN\" \"https://dtd.nlm.nih.gov/ncbi/pubmed/out/pubmed_190101.dtd\">\n<PubmedArticleSet>\n<PubmedArticle>\n    <MedlineCitation Status=\"MEDLINE\" Owner=\"NLM\">\n        <PMID Version=\"1\">33492267</PMID>\n        <DateCompleted>\n            <Year>2021</Year>\n            <Month>04</Month>\n            <Day>01</Day>\n        </DateCompleted>\n        <DateRevised>\n            <Year>2021</Year>\n            <Month>04</Month>\n            <Day>01</Day>\n        </DateRevised>\n        <Article PubModel=\"Print\">\n            <Journal>\n                <ISSN IssnType=\"Electronic\">1095-9114</ISSN>\n                <JournalIssue CitedMedium=\"Internet\">\n                    <Volume>29</Volume>\n                    <Issue>2</Issue>\n                    <PubDate>\n                        <Year>2021</Year>\n                    </PubDate>\n                </JournalIssue>\n                <Title>Journal of X-ray science and technology</Title>\n                <ISOAbbreviation>J Xray Sci Technol</ISOAbbreviation>\n            </Journal>\n            <ArticleTitle>Computer aid screening of COVID-19 using X-ray and CT scan images: An inner comparison.</ArticleTitle>\n            <Pagination>\n                <MedlinePgn>197-210</MedlinePgn>\n            </Pagination>\n            <ELocationID EIdType=\"doi\" ValidYN=\"Y\">10.3233/XST-200784</ELocationID>\n            <Abstract>\n                <AbstractText>The objective of this study is to conduct a critical analysis to investigate and compare a group of computer aid screening methods of COVID-19 using chest X-ray images and computed tomography (CT) images. The computer aid screening method includes deep feature extraction, transfer learning, and machine learning image classification approach. The deep feature extraction and transfer learning method considered 13 pre-trained CNN models. The machine learning approach includes three sets of handcrafted features and three classifiers. The pre-trained CNN models include AlexNet, GoogleNet, VGG16, VGG19, Densenet201, Resnet18, Resnet50, Resnet101, Inceptionv3, Inceptionresnetv2, Xception, MobileNetv2 and ShuffleNet. The handcrafted features are GLCM, LBP &amp; HOG, and machine learning based classifiers are KNN, SVM &amp; Naive Bayes. In addition, the different paradigms of classifiers are also analyzed. Overall, the comparative analysis is carried out in 65 classification models, i.e., 13 in deep feature extraction, 13 in transfer learning, and 39 in the machine learning approaches. Finally, all classification models perform better when applying to the chest X-ray image set as comparing to the use of CT scan image set. Among 65 classification models, the VGG19 with SVM achieved the highest accuracy of 99.81%when applying to the chest X-ray images. In conclusion, the findings of this analysis study are beneficial for the researchers who are working towards designing computer aid tools for screening COVID-19 infection diseases.</AbstractText>\n            </Abstract>\n            <AuthorList CompleteYN=\"Y\">\n                <Author ValidYN=\"Y\">\n                    <LastName>Sethy</LastName>\n                    <ForeName>Prabira Kumar</ForeName>\n                    <Initials>PK</Initials>\n                    <AffiliationInfo>\n                        <Affiliation>Department of Electronics, Sambalpur University, Odisha, India.</Affiliation>\n                    </AffiliationInfo>\n                </Author>\n                <Author ValidYN=\"Y\">\n                    <LastName>Behera</LastName>\n                    <ForeName>Santi Kumari</ForeName>\n                    <Initials>SK</Initials>\n                    <AffiliationInfo>\n                        <Affiliation>Department of Computer Science and Engineering, VSSUT, Burla, Odisha, India.</Affiliation>\n                    </AffiliationInfo>\n                </Author>\n                <Author ValidYN=\"Y\">\n                    <LastName>Anitha</LastName>\n                    <ForeName>Komma</ForeName>\n                    <Initials>K</Initials>\n                    <AffiliationInfo>\n                        <Affiliation>Department of Electronics and Communication Engineering, Prasad V Potluri Siddhartha Institute of Technology, Vijayawada, Andrapradesh, India.</Affiliation>\n                    </AffiliationInfo>\n                </Author>\n                <Author ValidYN=\"Y\">\n                    <LastName>Pandey</LastName>\n                    <ForeName>Chanki</ForeName>\n                    <Initials>C</Initials>\n                    <AffiliationInfo>\n                        <Affiliation>Department of Electronics and Telecommunication Engineering, GEC, Jagdalpur, CG, India.</Affiliation>\n                    </AffiliationInfo>\n                </Author>\n                <Author ValidYN=\"Y\">\n                    <LastName>Khan</LastName>\n                    <ForeName>M R</ForeName>\n                    <Initials>MR</Initials>\n                    <AffiliationInfo>\n                        <Affiliation>Department of Electronics and Telecommunication Engineering, GEC, Jagdalpur, CG, India.</Affiliation>\n                    </AffiliationInfo>\n                </Author>\n            </AuthorList>\n            <Language>eng</Language>\n            <PublicationTypeList>\n                <PublicationType UI=\"D003160\">Comparative Study</PublicationType>\n                <PublicationType UI=\"D016428\">Journal Article</PublicationType>\n            </PublicationTypeList>\n        </Article>\n        <MedlineJournalInfo>\n            <Country>Netherlands</Country>\n            <MedlineTA>J Xray Sci Technol</MedlineTA>\n            <NlmUniqueID>9000080</NlmUniqueID>\n            <ISSNLinking>0895-3996</ISSNLinking>\n        </MedlineJournalInfo>\n        <CitationSubset>IM</CitationSubset>\n        <MeshHeadingList>\n            <MeshHeading>\n                <DescriptorName UI=\"D000086382\" MajorTopicYN=\"N\">COVID-19</DescriptorName>\n                <QualifierName UI=\"Q000000981\" MajorTopicYN=\"Y\">diagnostic imaging</QualifierName>\n            </MeshHeading>\n            <MeshHeading>\n                <DescriptorName UI=\"D000077321\" MajorTopicYN=\"N\">Deep Learning</DescriptorName>\n            </MeshHeading>\n            <MeshHeading>\n                <DescriptorName UI=\"D006801\" MajorTopicYN=\"N\">Humans</DescriptorName>\n            </MeshHeading>\n            <MeshHeading>\n                <DescriptorName UI=\"D000069550\" MajorTopicYN=\"N\">Machine Learning</DescriptorName>\n            </MeshHeading>\n            <MeshHeading>\n                <DescriptorName UI=\"D016571\" MajorTopicYN=\"N\">Neural Networks, Computer</DescriptorName>\n            </MeshHeading>\n            <MeshHeading>\n                <DescriptorName UI=\"D011857\" MajorTopicYN=\"N\">Radiographic Image Interpretation, Computer-Assisted</DescriptorName>\n                <QualifierName UI=\"Q000379\" MajorTopicYN=\"Y\">methods</QualifierName>\n            </MeshHeading>\n            <MeshHeading>\n                <DescriptorName UI=\"D013902\" MajorTopicYN=\"N\">Radiography, Thoracic</DescriptorName>\n            </MeshHeading>\n            <MeshHeading>\n                <DescriptorName UI=\"D000086402\" MajorTopicYN=\"N\">SARS-CoV-2</DescriptorName>\n            </MeshHeading>\n            <MeshHeading>\n                <DescriptorName UI=\"D014057\" MajorTopicYN=\"N\">Tomography, X-Ray Computed</DescriptorName>\n            </MeshHeading>\n        </MeshHeadingList>\n        <KeywordList Owner=\"NOTNLM\">\n            <Keyword MajorTopicYN=\"Y\">CT images</Keyword>\n            <Keyword MajorTopicYN=\"Y\">Computer-aided screening</Keyword>\n            <Keyword MajorTopicYN=\"Y\">X-Ray</Keyword>\n            <Keyword MajorTopicYN=\"Y\">coronavirus</Keyword>\n            <Keyword MajorTopicYN=\"Y\">deep learning</Keyword>\n            <Keyword MajorTopicYN=\"Y\">machine learning</Keyword>\n            <Keyword MajorTopicYN=\"Y\">transfer learning</Keyword>\n        </KeywordList>\n    </MedlineCitation>\n    <PubmedData>\n        <History>\n            <PubMedPubDate PubStatus=\"pubmed\">\n                <Year>2021</Year>\n                <Month>1</Month>\n                <Day>26</Day>\n                <Hour>6</Hour>\n                <Minute>0</Minute>\n            </PubMedPubDate>\n            <PubMedPubDate PubStatus=\"medline\">\n                <Year>2021</Year>\n                <Month>4</Month>\n                <Day>2</Day>\n                <Hour>6</Hour>\n                <Minute>0</Minute>\n            </PubMedPubDate>\n            <PubMedPubDate PubStatus=\"entrez\">\n                <Year>2021</Year>\n                <Month>1</Month>\n                <Day>25</Day>\n                <Hour>12</Hour>\n                <Minute>12</Minute>\n            </PubMedPubDate>\n        </History>\n        <PublicationStatus>ppublish</PublicationStatus>\n        <ArticleIdList>\n            <ArticleId IdType=\"pubmed\">33492267</ArticleId>\n            <ArticleId IdType=\"pii\">XST200784</ArticleId>\n            <ArticleId IdType=\"doi\">10.3233/XST-200784</ArticleId>\n        </ArticleIdList>\n    </PubmedData>\n</PubmedArticle>\n\n</PubmedArticleSet>\n"
     ]
    }
   ],
   "source": [
    "import entrezpy.efetch.efetcher\n",
    "\n",
    "e = entrezpy.efetch.efetcher.Efetcher( 'Christian Kruse', 'XXX@YYY.com')\n",
    "analyzer = e.inquire({'db' : 'pubmed',\n",
    "                      'id' : uids,\n",
    "                      #'retmode' : 'xml',\n",
    "                      'rettype' : 'abstract'})"
   ]
  },
  {
   "cell_type": "code",
   "execution_count": 68,
   "metadata": {},
   "outputs": [
    {
     "output_type": "error",
     "ename": "TypeError",
     "evalue": "analyze_result() missing 2 required positional arguments: 'response' and 'request'",
     "traceback": [
      "\u001b[0;31m---------------------------------------------------------------------------\u001b[0m",
      "\u001b[0;31mTypeError\u001b[0m                                 Traceback (most recent call last)",
      "\u001b[0;32m<ipython-input-68-20d38aad72ee>\u001b[0m in \u001b[0;36m<module>\u001b[0;34m\u001b[0m\n\u001b[0;32m----> 1\u001b[0;31m \u001b[0manalyzer\u001b[0m\u001b[0;34m.\u001b[0m\u001b[0manalyze_result\u001b[0m\u001b[0;34m(\u001b[0m\u001b[0;34m)\u001b[0m\u001b[0;34m\u001b[0m\u001b[0;34m\u001b[0m\u001b[0m\n\u001b[0m",
      "\u001b[0;31mTypeError\u001b[0m: analyze_result() missing 2 required positional arguments: 'response' and 'request'"
     ]
    }
   ],
   "source": [
    "analyzer.analyze_result()"
   ]
  },
  {
   "cell_type": "code",
   "execution_count": null,
   "metadata": {},
   "outputs": [],
   "source": [
    "entrezpy.base.analyzer.EutilsAnalzyer.analyze_result()"
   ]
  },
  {
   "cell_type": "code",
   "execution_count": 66,
   "metadata": {},
   "outputs": [
    {
     "output_type": "error",
     "ename": "TypeError",
     "evalue": "object of type 'EfetchAnalyzer' has no len()",
     "traceback": [
      "\u001b[0;31m---------------------------------------------------------------------------\u001b[0m",
      "\u001b[0;31mTypeError\u001b[0m                                 Traceback (most recent call last)",
      "\u001b[0;32m<ipython-input-66-50cde351f3d8>\u001b[0m in \u001b[0;36m<module>\u001b[0;34m\u001b[0m\n\u001b[1;32m      1\u001b[0m \u001b[0;32mfrom\u001b[0m \u001b[0mbs4\u001b[0m \u001b[0;32mimport\u001b[0m \u001b[0mBeautifulSoup\u001b[0m\u001b[0;34m\u001b[0m\u001b[0;34m\u001b[0m\u001b[0m\n\u001b[0;32m----> 2\u001b[0;31m \u001b[0my\u001b[0m\u001b[0;34m=\u001b[0m\u001b[0mBeautifulSoup\u001b[0m\u001b[0;34m(\u001b[0m\u001b[0manalyzer\u001b[0m\u001b[0;34m)\u001b[0m\u001b[0;34m\u001b[0m\u001b[0;34m\u001b[0m\u001b[0m\n\u001b[0m\u001b[1;32m      3\u001b[0m \u001b[0manalyzer\u001b[0m\u001b[0;34m.\u001b[0m\u001b[0mPubmedArticle\u001b[0m\u001b[0;34m\u001b[0m\u001b[0;34m\u001b[0m\u001b[0m\n",
      "\u001b[0;32m/Users/Shared/Anaconda/anaconda3/lib/python3.7/site-packages/bs4/__init__.py\u001b[0m in \u001b[0;36m__init__\u001b[0;34m(self, markup, features, builder, parse_only, from_encoding, exclude_encodings, element_classes, **kwargs)\u001b[0m\n\u001b[1;32m    285\u001b[0m         \u001b[0;32mif\u001b[0m \u001b[0mhasattr\u001b[0m\u001b[0;34m(\u001b[0m\u001b[0mmarkup\u001b[0m\u001b[0;34m,\u001b[0m \u001b[0;34m'read'\u001b[0m\u001b[0;34m)\u001b[0m\u001b[0;34m:\u001b[0m        \u001b[0;31m# It's a file-type object.\u001b[0m\u001b[0;34m\u001b[0m\u001b[0;34m\u001b[0m\u001b[0m\n\u001b[1;32m    286\u001b[0m             \u001b[0mmarkup\u001b[0m \u001b[0;34m=\u001b[0m \u001b[0mmarkup\u001b[0m\u001b[0;34m.\u001b[0m\u001b[0mread\u001b[0m\u001b[0;34m(\u001b[0m\u001b[0;34m)\u001b[0m\u001b[0;34m\u001b[0m\u001b[0;34m\u001b[0m\u001b[0m\n\u001b[0;32m--> 287\u001b[0;31m         elif len(markup) <= 256 and (\n\u001b[0m\u001b[1;32m    288\u001b[0m                 \u001b[0;34m(\u001b[0m\u001b[0misinstance\u001b[0m\u001b[0;34m(\u001b[0m\u001b[0mmarkup\u001b[0m\u001b[0;34m,\u001b[0m \u001b[0mbytes\u001b[0m\u001b[0;34m)\u001b[0m \u001b[0;32mand\u001b[0m \u001b[0;32mnot\u001b[0m \u001b[0;34mb'<'\u001b[0m \u001b[0;32min\u001b[0m \u001b[0mmarkup\u001b[0m\u001b[0;34m)\u001b[0m\u001b[0;34m\u001b[0m\u001b[0;34m\u001b[0m\u001b[0m\n\u001b[1;32m    289\u001b[0m                 \u001b[0;32mor\u001b[0m \u001b[0;34m(\u001b[0m\u001b[0misinstance\u001b[0m\u001b[0;34m(\u001b[0m\u001b[0mmarkup\u001b[0m\u001b[0;34m,\u001b[0m \u001b[0mstr\u001b[0m\u001b[0;34m)\u001b[0m \u001b[0;32mand\u001b[0m \u001b[0;32mnot\u001b[0m \u001b[0;34m'<'\u001b[0m \u001b[0;32min\u001b[0m \u001b[0mmarkup\u001b[0m\u001b[0;34m)\u001b[0m\u001b[0;34m\u001b[0m\u001b[0;34m\u001b[0m\u001b[0m\n",
      "\u001b[0;31mTypeError\u001b[0m: object of type 'EfetchAnalyzer' has no len()"
     ]
    }
   ],
   "source": [
    "from bs4 import BeautifulSoup\n",
    "y=BeautifulSoup(analyzer)\n",
    "analyzer.PubmedArticle"
   ]
  },
  {
   "source": [
    "# Semantic API Citation Count"
   ],
   "cell_type": "markdown",
   "metadata": {}
  },
  {
   "cell_type": "code",
   "execution_count": 11,
   "metadata": {},
   "outputs": [],
   "source": [
    "#!pip install semanticscholar\n",
    "import semanticscholar as sch"
   ]
  },
  {
   "cell_type": "code",
   "execution_count": 19,
   "metadata": {},
   "outputs": [
    {
     "output_type": "execute_result",
     "data": {
      "text/plain": [
       "11"
      ]
     },
     "metadata": {},
     "execution_count": 19
    }
   ],
   "source": [
    "import semanticscholar as sch\n",
    "paper = sch.paper('10.1007/s00198-016-3828-8', timeout=2)\n",
    "#paper.keys()\n",
    "#paper['citations']\n",
    "#paper['influentialCitationCount']\n",
    "paper['numCitedBy']\n",
    "#for author in paper['authors']:\n",
    "#     print(author['name'])\n",
    "#     print(author['authorId'])\n"
   ]
  },
  {
   "source": [
    "# Create a parser"
   ],
   "cell_type": "markdown",
   "metadata": {}
  },
  {
   "cell_type": "code",
   "execution_count": 128,
   "metadata": {},
   "outputs": [
    {
     "output_type": "stream",
     "name": "stdout",
     "text": [
      "<?xml version=\"1.0\" ?>\n<!DOCTYPE PubmedArticleSet PUBLIC \"-//NLM//DTD PubMedArticle, 1st January 2019//EN\" \"https://dtd.nlm.nih.gov/ncbi/pubmed/out/pubmed_190101.dtd\">\n<PubmedArticleSet>\n<PubmedArticle>\n    <MedlineCitation Status=\"MEDLINE\" Owner=\"NLM\">\n        <PMID Version=\"1\">25466529</PMID>\n        <DateCompleted>\n            <Year>2015</Year>\n            <Month>12</Month>\n            <Day>21</Day>\n        </DateCompleted>\n        <DateRevised>\n            <Year>2018</Year>\n            <Month>11</Month>\n            <Day>13</Day>\n        </DateRevised>\n        <Article PubModel=\"Print-Electronic\">\n            <Journal>\n                <ISSN IssnType=\"Electronic\">1433-2965</ISSN>\n                <JournalIssue CitedMedium=\"Internet\">\n                    <Volume>26</Volume>\n                    <Issue>3</Issue>\n                    <PubDate>\n                        <Year>2015</Year>\n                        <Month>Mar</Month>\n                    </PubDate>\n                </JournalIssue>\n                <Title>Osteoporosis international : a journal established as result of cooperation between the European Foundation for Osteoporosis and the National Osteoporosis Foundation of the USA</Title>\n                <ISOAbbreviation>Osteoporos Int</ISOAbbreviation>\n            </Journal>\n            <ArticleTitle>Hyponatremia and osteoporosis: insights from the Danish National Patient Registry.</ArticleTitle>\n            <Pagination>\n                <MedlinePgn>1005-16</MedlinePgn>\n            </Pagination>\n            <ELocationID EIdType=\"doi\" ValidYN=\"Y\">10.1007/s00198-014-2973-1</ELocationID>\n            <Abstract>\n                <AbstractText Label=\"UNLABELLED\">The association between hyponatremia and osteoporosis was evaluated in humans. A significant association was found between low sodium levels, lower bone mineralization in the hip, and with several common conditions. Hyponatremia could be used as a marker of osteoporosis and systemic disease.</AbstractText>\n                <AbstractText Label=\"INTRODUCTION\" NlmCategory=\"BACKGROUND\">The objective of this study was to evaluate the association between hyponatremia and osteoporosis in humans through a cross-sectional study.</AbstractText>\n                <AbstractText Label=\"METHODS\" NlmCategory=\"METHODS\">Patient information was gathered from regional and national Danish patient databases, both in- and outpatient settings, from 2004 to 2011. Patients with dual-energy x-ray absorptiometry (DXA) scans performed within this time were included if accompanied [Na+] was measured within 14 days prior or past the scan date. A total of 1575 patients were included.</AbstractText>\n                <AbstractText Label=\"RESULTS\" NlmCategory=\"RESULTS\">A total of 104 patients were hyponatremic (6.6 %). Total hip and lumbar spine bone mineral content (BMC) and densities (BMD) and T-scores were all significantly lower with hyponatremia. The odds ratio (OR) of osteoporosis significantly increased among hyponatremic patients at both total hip (unadjusted OR = 2.17, 95% CI = [1.40-3.34], p &lt; .05) and lumbar spine (unadjusted OR = 1.83, 95% CI = [1.20-2.80], p &lt; .05) regions. Dose-response found between increasing [Na+] and increasing total hip BMC (slope .174, adjusted p &lt; .05), BMD (slope .004, adjusted p &lt; .05), and T-score (slope .034, adjusted p &lt; .05). Systemic disease was more prevalent in hyponatremia.</AbstractText>\n                <AbstractText Label=\"CONCLUSION\" NlmCategory=\"CONCLUSIONS\">The presence of hyponatremia increases the risk of concurrent osteoporosis at both the total hip and lumbar spine in humans. Hyponatremia could be used a screening tool and marker of secondary osteoporosis.</AbstractText>\n            </Abstract>\n            <AuthorList CompleteYN=\"Y\">\n                <Author ValidYN=\"Y\">\n                    <LastName>Kruse</LastName>\n                    <ForeName>C</ForeName>\n                    <Initials>C</Initials>\n                    <AffiliationInfo>\n                        <Affiliation>Department of Endocrinology, Aalborg University Hospital, Hobrovej 18-22, 9100, Aalborg, Denmark, ckruse@endocrinology.dk.</Affiliation>\n                    </AffiliationInfo>\n                </Author>\n                <Author ValidYN=\"Y\">\n                    <LastName>Eiken</LastName>\n                    <ForeName>P</ForeName>\n                    <Initials>P</Initials>\n                </Author>\n                <Author ValidYN=\"Y\">\n                    <LastName>Vestergaard</LastName>\n                    <ForeName>P</ForeName>\n                    <Initials>P</Initials>\n                </Author>\n            </AuthorList>\n            <Language>eng</Language>\n            <PublicationTypeList>\n                <PublicationType UI=\"D016428\">Journal Article</PublicationType>\n                <PublicationType UI=\"D013485\">Research Support, Non-U.S. Gov't</PublicationType>\n            </PublicationTypeList>\n            <ArticleDate DateType=\"Electronic\">\n                <Year>2014</Year>\n                <Month>12</Month>\n                <Day>03</Day>\n            </ArticleDate>\n        </Article>\n        <MedlineJournalInfo>\n            <Country>England</Country>\n            <MedlineTA>Osteoporos Int</MedlineTA>\n            <NlmUniqueID>9100105</NlmUniqueID>\n            <ISSNLinking>0937-941X</ISSNLinking>\n        </MedlineJournalInfo>\n        <CitationSubset>IM</CitationSubset>\n        <MeshHeadingList>\n            <MeshHeading>\n                <DescriptorName UI=\"D015502\" MajorTopicYN=\"N\">Absorptiometry, Photon</DescriptorName>\n                <QualifierName UI=\"Q000379\" MajorTopicYN=\"N\">methods</QualifierName>\n            </MeshHeading>\n            <MeshHeading>\n                <DescriptorName UI=\"D000328\" MajorTopicYN=\"N\">Adult</DescriptorName>\n            </MeshHeading>\n            <MeshHeading>\n                <DescriptorName UI=\"D000368\" MajorTopicYN=\"N\">Aged</DescriptorName>\n            </MeshHeading>\n            <MeshHeading>\n                <DescriptorName UI=\"D015519\" MajorTopicYN=\"N\">Bone Density</DescriptorName>\n                <QualifierName UI=\"Q000502\" MajorTopicYN=\"N\">physiology</QualifierName>\n            </MeshHeading>\n            <MeshHeading>\n                <DescriptorName UI=\"D003430\" MajorTopicYN=\"N\">Cross-Sectional Studies</DescriptorName>\n            </MeshHeading>\n            <MeshHeading>\n                <DescriptorName UI=\"D003718\" MajorTopicYN=\"N\" Type=\"Geographic\">Denmark</DescriptorName>\n                <QualifierName UI=\"Q000453\" MajorTopicYN=\"N\">epidemiology</QualifierName>\n            </MeshHeading>\n            <MeshHeading>\n                <DescriptorName UI=\"D005260\" MajorTopicYN=\"N\">Female</DescriptorName>\n            </MeshHeading>\n            <MeshHeading>\n                <DescriptorName UI=\"D006621\" MajorTopicYN=\"N\">Hip Joint</DescriptorName>\n                <QualifierName UI=\"Q000503\" MajorTopicYN=\"N\">physiopathology</QualifierName>\n            </MeshHeading>\n            <MeshHeading>\n                <DescriptorName UI=\"D006801\" MajorTopicYN=\"N\">Humans</DescriptorName>\n            </MeshHeading>\n            <MeshHeading>\n                <DescriptorName UI=\"D007010\" MajorTopicYN=\"N\">Hyponatremia</DescriptorName>\n                <QualifierName UI=\"Q000150\" MajorTopicYN=\"Y\">complications</QualifierName>\n                <QualifierName UI=\"Q000453\" MajorTopicYN=\"N\">epidemiology</QualifierName>\n                <QualifierName UI=\"Q000503\" MajorTopicYN=\"N\">physiopathology</QualifierName>\n            </MeshHeading>\n            <MeshHeading>\n                <DescriptorName UI=\"D008159\" MajorTopicYN=\"N\">Lumbar Vertebrae</DescriptorName>\n                <QualifierName UI=\"Q000503\" MajorTopicYN=\"N\">physiopathology</QualifierName>\n            </MeshHeading>\n            <MeshHeading>\n                <DescriptorName UI=\"D008297\" MajorTopicYN=\"N\">Male</DescriptorName>\n            </MeshHeading>\n            <MeshHeading>\n                <DescriptorName UI=\"D008403\" MajorTopicYN=\"N\">Mass Screening</DescriptorName>\n                <QualifierName UI=\"Q000379\" MajorTopicYN=\"N\">methods</QualifierName>\n            </MeshHeading>\n            <MeshHeading>\n                <DescriptorName UI=\"D008875\" MajorTopicYN=\"N\">Middle Aged</DescriptorName>\n            </MeshHeading>\n            <MeshHeading>\n                <DescriptorName UI=\"D010024\" MajorTopicYN=\"N\">Osteoporosis</DescriptorName>\n                <QualifierName UI=\"Q000175\" MajorTopicYN=\"N\">diagnosis</QualifierName>\n                <QualifierName UI=\"Q000453\" MajorTopicYN=\"N\">epidemiology</QualifierName>\n                <QualifierName UI=\"Q000209\" MajorTopicYN=\"Y\">etiology</QualifierName>\n                <QualifierName UI=\"Q000503\" MajorTopicYN=\"N\">physiopathology</QualifierName>\n            </MeshHeading>\n            <MeshHeading>\n                <DescriptorName UI=\"D012042\" MajorTopicYN=\"N\">Registries</DescriptorName>\n            </MeshHeading>\n        </MeshHeadingList>\n    </MedlineCitation>\n    <PubmedData>\n        <History>\n            <PubMedPubDate PubStatus=\"received\">\n                <Year>2014</Year>\n                <Month>09</Month>\n                <Day>23</Day>\n            </PubMedPubDate>\n            <PubMedPubDate PubStatus=\"accepted\">\n                <Year>2014</Year>\n                <Month>11</Month>\n                <Day>16</Day>\n            </PubMedPubDate>\n            <PubMedPubDate PubStatus=\"entrez\">\n                <Year>2014</Year>\n                <Month>12</Month>\n                <Day>4</Day>\n                <Hour>6</Hour>\n                <Minute>0</Minute>\n            </PubMedPubDate>\n            <PubMedPubDate PubStatus=\"pubmed\">\n                <Year>2014</Year>\n                <Month>12</Month>\n                <Day>4</Day>\n                <Hour>6</Hour>\n                <Minute>0</Minute>\n            </PubMedPubDate>\n            <PubMedPubDate PubStatus=\"medline\">\n                <Year>2015</Year>\n                <Month>12</Month>\n                <Day>22</Day>\n                <Hour>6</Hour>\n                <Minute>0</Minute>\n            </PubMedPubDate>\n        </History>\n        <PublicationStatus>ppublish</PublicationStatus>\n        <ArticleIdList>\n            <ArticleId IdType=\"pubmed\">25466529</ArticleId>\n            <ArticleId IdType=\"doi\">10.1007/s00198-014-2973-1</ArticleId>\n        </ArticleIdList>\n        <ReferenceList>\n            <Reference>\n                <Citation>J Bone Miner Res. 2011 Aug;26(8):1822-8</Citation>\n                <ArticleIdList>\n                    <ArticleId IdType=\"pubmed\">21381111</ArticleId>\n                </ArticleIdList>\n            </Reference>\n            <Reference>\n                <Citation>Scand J Gastroenterol. 1995 Dec;30(12 ):1210-5</Citation>\n                <ArticleIdList>\n                    <ArticleId IdType=\"pubmed\">9053976</ArticleId>\n                </ArticleIdList>\n            </Reference>\n            <Reference>\n                <Citation>Intern Med J. 2012 Jul;42(7):760-4</Citation>\n                <ArticleIdList>\n                    <ArticleId IdType=\"pubmed\">22150918</ArticleId>\n                </ArticleIdList>\n            </Reference>\n            <Reference>\n                <Citation>Joint Bone Spine. 2011 Jul;78(4):387-91</Citation>\n                <ArticleIdList>\n                    <ArticleId IdType=\"pubmed\">21565541</ArticleId>\n                </ArticleIdList>\n            </Reference>\n            <Reference>\n                <Citation>Pediatr Nephrol. 2006 Oct;21(10):1487-8; author reply 1489</Citation>\n                <ArticleIdList>\n                    <ArticleId IdType=\"pubmed\">16897000</ArticleId>\n                </ArticleIdList>\n            </Reference>\n            <Reference>\n                <Citation>J Clin Endocrinol Metab. 2014 Oct;99(10):3527-30</Citation>\n                <ArticleIdList>\n                    <ArticleId IdType=\"pubmed\">24971663</ArticleId>\n                </ArticleIdList>\n            </Reference>\n            <Reference>\n                <Citation>Am J Physiol Regul Integr Comp Physiol. 2006 May;290(5):R1429-35</Citation>\n                <ArticleIdList>\n                    <ArticleId IdType=\"pubmed\">16373433</ArticleId>\n                </ArticleIdList>\n            </Reference>\n            <Reference>\n                <Citation>JAMA. 1999 Jun 23-30;281(24):2299-304</Citation>\n                <ArticleIdList>\n                    <ArticleId IdType=\"pubmed\">10386554</ArticleId>\n                </ArticleIdList>\n            </Reference>\n            <Reference>\n                <Citation>Calcif Tissue Int. 2013 Dec;93(6):571-6</Citation>\n                <ArticleIdList>\n                    <ArticleId IdType=\"pubmed\">24065305</ArticleId>\n                </ArticleIdList>\n            </Reference>\n            <Reference>\n                <Citation>Am J Med. 2006 Jan;119(1):71.e1-8</Citation>\n                <ArticleIdList>\n                    <ArticleId IdType=\"pubmed\">16431193</ArticleId>\n                </ArticleIdList>\n            </Reference>\n            <Reference>\n                <Citation>Alcohol Alcohol. 2010 Sep-Oct;45(5):427-30</Citation>\n                <ArticleIdList>\n                    <ArticleId IdType=\"pubmed\">20807717</ArticleId>\n                </ArticleIdList>\n            </Reference>\n            <Reference>\n                <Citation>Osteoporos Int. 1994 Nov;4(6):368-81</Citation>\n                <ArticleIdList>\n                    <ArticleId IdType=\"pubmed\">7696835</ArticleId>\n                </ArticleIdList>\n            </Reference>\n            <Reference>\n                <Citation>J Clin Endocrinol Metab. 2012 Dec;97(12):4306-10</Citation>\n                <ArticleIdList>\n                    <ArticleId IdType=\"pubmed\">23076350</ArticleId>\n                </ArticleIdList>\n            </Reference>\n            <Reference>\n                <Citation>Ren Fail. 2013 Sep;35(8):1105-11</Citation>\n                <ArticleIdList>\n                    <ArticleId IdType=\"pubmed\">23879438</ArticleId>\n                </ArticleIdList>\n            </Reference>\n            <Reference>\n                <Citation>Bone. 1995 Mar;16(3):385-90</Citation>\n                <ArticleIdList>\n                    <ArticleId IdType=\"pubmed\">7786643</ArticleId>\n                </ArticleIdList>\n            </Reference>\n            <Reference>\n                <Citation>J Am Geriatr Soc. 1995 Dec;43(12):1410-3</Citation>\n                <ArticleIdList>\n                    <ArticleId IdType=\"pubmed\">7490395</ArticleId>\n                </ArticleIdList>\n            </Reference>\n            <Reference>\n                <Citation>J Am Geriatr Soc. 1996 Apr;44(4):404-8</Citation>\n                <ArticleIdList>\n                    <ArticleId IdType=\"pubmed\">8636585</ArticleId>\n                </ArticleIdList>\n            </Reference>\n            <Reference>\n                <Citation>Calcif Tissue Int. 2005 Mar;76(3):167-75</Citation>\n                <ArticleIdList>\n                    <ArticleId IdType=\"pubmed\">15719207</ArticleId>\n                </ArticleIdList>\n            </Reference>\n            <Reference>\n                <Citation>Int Urol Nephrol. 2009;41(3):733-7</Citation>\n                <ArticleIdList>\n                    <ArticleId IdType=\"pubmed\">19472069</ArticleId>\n                </ArticleIdList>\n            </Reference>\n            <Reference>\n                <Citation>Regul Pept. 2007 Aug 16;142(3):95-100</Citation>\n                <ArticleIdList>\n                    <ArticleId IdType=\"pubmed\">17368822</ArticleId>\n                </ArticleIdList>\n            </Reference>\n            <Reference>\n                <Citation>Am J Med. 1985 Mar;78(3):385-90</Citation>\n                <ArticleIdList>\n                    <ArticleId IdType=\"pubmed\">3883768</ArticleId>\n                </ArticleIdList>\n            </Reference>\n            <Reference>\n                <Citation>J Am Geriatr Soc. 1979 Apr;27(4):156-61</Citation>\n                <ArticleIdList>\n                    <ArticleId IdType=\"pubmed\">429736</ArticleId>\n                </ArticleIdList>\n            </Reference>\n            <Reference>\n                <Citation>Clin Transplant. 2000 Oct;14(5):457-63</Citation>\n                <ArticleIdList>\n                    <ArticleId IdType=\"pubmed\">11048990</ArticleId>\n                </ArticleIdList>\n            </Reference>\n            <Reference>\n                <Citation>Blood Purif. 2010;29(3):293-9</Citation>\n                <ArticleIdList>\n                    <ArticleId IdType=\"pubmed\">20090316</ArticleId>\n                </ArticleIdList>\n            </Reference>\n            <Reference>\n                <Citation>J Bone Miner Res. 2010 Mar;25(3):554-63</Citation>\n                <ArticleIdList>\n                    <ArticleId IdType=\"pubmed\">19751154</ArticleId>\n                </ArticleIdList>\n            </Reference>\n            <Reference>\n                <Citation>Am J Hypertens. 1997 Dec;10(12 Pt 1):1356-67</Citation>\n                <ArticleIdList>\n                    <ArticleId IdType=\"pubmed\">9443771</ArticleId>\n                </ArticleIdList>\n            </Reference>\n            <Reference>\n                <Citation>N Engl J Med. 2000 May 25;342(21):1581-9</Citation>\n                <ArticleIdList>\n                    <ArticleId IdType=\"pubmed\">10824078</ArticleId>\n                </ArticleIdList>\n            </Reference>\n            <Reference>\n                <Citation>J Am Soc Nephrol. 2007 Apr;18(4):1072-83</Citation>\n                <ArticleIdList>\n                    <ArticleId IdType=\"pubmed\">17314327</ArticleId>\n                </ArticleIdList>\n            </Reference>\n            <Reference>\n                <Citation>Nephron Physiol. 2011;118(2):45-51</Citation>\n                <ArticleIdList>\n                    <ArticleId IdType=\"pubmed\">21196778</ArticleId>\n                </ArticleIdList>\n            </Reference>\n            <Reference>\n                <Citation>Ugeskr Laeger. 2004 Nov 1;166(45):4033-7</Citation>\n                <ArticleIdList>\n                    <ArticleId IdType=\"pubmed\">15565961</ArticleId>\n                </ArticleIdList>\n            </Reference>\n        </ReferenceList>\n    </PubmedData>\n</PubmedArticle>\n\n</PubmedArticleSet>\n"
     ]
    }
   ],
   "source": [
    "import entrezpy.esummary.esummarizer\n",
    "import entrezpy.efetch.efetcher\n",
    "import entrezpy.elink.elinker\n",
    "import entrezpy.elink.elink_analyzer\n",
    "\n",
    "def parse_uids(uids):\n",
    "    esummary = entrezpy.esummary.esummarizer.Esummarizer( 'Christian Kruse', 'XXX@YYY.com' )\n",
    "    efetch = entrezpy.efetch.efetcher.Efetcher( 'Christian Kruse', 'XXX@YYY.com')\n",
    "    elinkanalysis = entrezpy.elink.elink_analyzer.ElinkAnalyzer()\n",
    "    elink = entrezpy.elink.elinker.Elinker('Christian Kruse', 'XXX@YYY.com')\n",
    "\n",
    "\n",
    "    result_summary = esummary.inquire({ 'db' : 'pubmed', 'id' : uids, 'retmax': 10 }).get_result().summaries\n",
    "    result_fetch = efetch.inquire({'db' : 'pubmed', 'id' : uids, 'retmode' : 'xml', 'rettype' : 'abstract'}).get_result()\n",
    "    result_elinks = elink.inquire({'dbfrom' : 'pubmed', 'id' : uids , 'cmd' : 'llinks'}, analyzer=a).get_result().dump()\n",
    "\n",
    "\n",
    "parse_uids(uids = [25466529])"
   ]
  },
  {
   "source": [
    "# Gitlab example"
   ],
   "cell_type": "markdown",
   "metadata": {}
  },
  {
   "cell_type": "code",
   "execution_count": 73,
   "metadata": {},
   "outputs": [
    {
     "output_type": "error",
     "ename": "IndentationError",
     "evalue": "expected an indented block (<ipython-input-73-ec5b3e5d29f1>, line 41)",
     "traceback": [
      "\u001b[0;36m  File \u001b[0;32m\"<ipython-input-73-ec5b3e5d29f1>\"\u001b[0;36m, line \u001b[0;32m41\u001b[0m\n\u001b[0;31m    print(\"\\tFailed: Response errors\")\u001b[0m\n\u001b[0m        ^\u001b[0m\n\u001b[0;31mIndentationError\u001b[0m\u001b[0;31m:\u001b[0m expected an indented block\n"
     ]
    }
   ],
   "source": [
    "sys.path.insert(1, os.path.join(sys.path[0], '../src'))\n",
    "import entrezpy.efetch.efetcher\n",
    "\n",
    "\n",
    "# Python argument parser (see [2] for more details)\n",
    "demo_src = 'https://www.ncbi.nlm.nih.gov/books/NBK25499/#chapter4.EFetch'\n",
    "ap = argparse.ArgumentParser(description=\"Entrezpy Efetcher() examples ({})\".format(demo_src))\n",
    "ap.add_argument('--email',\n",
    "                type=str,\n",
    "                required=True,\n",
    "                help='email required by NCBI')\n",
    "ap.add_argument('--apikey',\n",
    "                type=str,\n",
    "                default=None,\n",
    "                help='NCBI apikey (optional)')\n",
    "\n",
    "args = ap.parse_args()\n",
    "\n",
    "# Prepare list of examples. Each example is a parameter dictionary as expected\n",
    "# by Efetcher.\n",
    "examples = [\n",
    "            {'db' : 'pubmed','id' : [17284678,9997], 'retmode':'text', 'rettype': 'abstract'}\n",
    "            ]\n",
    "\n",
    "# Loop over examples\n",
    "start = time.time()\n",
    "for i in range(len(examples)):\n",
    "    # Loop over retmodes\n",
    "    for j in ['xml', 'text']:\n",
    "        qrystart = time.time()\n",
    "        # Init Efetcher\n",
    "        ef = entrezpy.efetch.efetcher.Efetcher('efetcher', args.email, args.apikey)\n",
    "        # Set retmode\n",
    "        examples[i].update({'retmode':j})\n",
    "        # Fetch example and return default efetch analyzer\n",
    "        a = ef.inquire(examples[i])\n",
    "        print(\"+Query {}\\n+++\\tParameters: {}\\n+++\\tStatus:\".format(i, examples[i]), end='')\n",
    "        # Test is query has been successful, e.g. no connection or NCBI errors.\n",
    "        # In such a case, None would have been returned\n",
    "        if not a:\n",
    "        print(\"\\tFailed: Response errors\")\n",
    "        return 0\n",
    "        print(\"\\tResponse OK\")\n",
    "        print(\"+++\\tQuery time: {} sec\".format(time.time()-qrystart))\n",
    "    print(\"+Total time: {} sec\".format(time.time()-start))\n",
    "    return 0\n"
   ]
  },
  {
   "cell_type": "code",
   "execution_count": null,
   "metadata": {},
   "outputs": [],
   "source": []
  }
 ]
}